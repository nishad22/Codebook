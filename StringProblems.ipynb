{
 "cells": [
  {
   "cell_type": "code",
   "execution_count": null,
   "id": "59f0533b",
   "metadata": {},
   "outputs": [],
   "source": [
    "#count the lenght of string\n",
    "\n",
    "str = input(\"Enter name: \")\n",
    "count = 0\n",
    "for char in str:\n",
    "    #print(char)\n",
    "    count += 1\n",
    "print(\"Length of the string is: \",count)\n",
    "\n"
   ]
  },
  {
   "cell_type": "code",
   "execution_count": null,
   "id": "53bd3d46",
   "metadata": {},
   "outputs": [],
   "source": [
    "#copy one string into another string\n",
    "\n",
    "str1 = \"Nishad\"\n",
    "str2 = str1 \n",
    "print(str1)\n",
    "print (str1 + str2)"
   ]
  },
  {
   "cell_type": "code",
   "execution_count": null,
   "id": "66dfbe2f",
   "metadata": {},
   "outputs": [],
   "source": [
    "#compare two string"
   ]
  },
  {
   "cell_type": "code",
   "execution_count": null,
   "id": "345a7a0e",
   "metadata": {},
   "outputs": [],
   "source": [
    "#lower to Upper case\n",
    "\n",
    "str1 = input(\"Enter the string: \")\n",
    "new_str = ''\n",
    "\n",
    "for i in range(0,len(str1)):\n",
    "    if(str1[i]>='a' and str1<='z'):\n",
    "        new_str = new_str + chr(ord(str1[i])-32)\n",
    "    else:\n",
    "        new_str = new_str + str1[i]\n",
    "print(\"\\nOutput without using string method: \",new_str)\n",
    "\n",
    "print(\"\\n-------by using string methods-----------\")\n",
    "new_st = ''\n",
    "for j in range(0,len(str1)):\n",
    "    if(str1[j].isupper()):\n",
    "        new_st = new_st + str1[j]\n",
    "    else:\n",
    "        new_st = new_st + str1[j].upper()\n",
    "print(new_str)"
   ]
  },
  {
   "cell_type": "code",
   "execution_count": null,
   "id": "fef0f0bb",
   "metadata": {},
   "outputs": [],
   "source": [
    "#Write a program to convert the Character in String from uppercase to lowercase or vice versa\n",
    "\n",
    "str1 = input(\"Enter the String: \")\n",
    "newstr = ''\n",
    "for i in range(0,len(str1)):\n",
    "    if str1[i].islower():\n",
    "        newstr = newstr + str1[i].upper()\n",
    "    elif str1[i].isupper():\n",
    "        newstr = newstr + str1[i].lower()\n",
    "        \n",
    "print(newstr)\n",
    "#ASCII value for a-z : 97 - 122\n",
    "#ASCII value for A-Z : 65 - 90\n",
    "#ASCII value for 0-9 : 48 - 57\n",
    "print(\"-------------without code----------------\")\n",
    "new_str = \"\"\n",
    "for j in range(0,len(str1)):\n",
    "    if str1[j]>='a' and str1[j]<='z':\n",
    "        new_str = new_str + chr(ord(str1[j])-32)\n",
    "    elif str[j]>='A'and str1[j]<='Z':\n",
    "        new_str = new_str + chr(ord(str1[j])+32)\n",
    "print(new_str)"
   ]
  },
  {
   "cell_type": "code",
   "execution_count": null,
   "id": "4fd70df0",
   "metadata": {},
   "outputs": [],
   "source": [
    "str = \"Nishad\"\n",
    "str[3].upper()\n",
    "print(str[3].islower())\n",
    "print(ord(str[3]))\n"
   ]
  },
  {
   "cell_type": "code",
   "execution_count": null,
   "id": "27f433fb",
   "metadata": {},
   "outputs": [],
   "source": [
    "# write a program to count alphabet, special character or numericals in a string\n",
    "\n",
    "str1 = input(\"Enter the String: \")\n",
    "i = 0\n",
    "alpha = 0\n",
    "specchar = 0\n",
    "digit = 0\n",
    "\n",
    "print(\"length of string is: \",len(str1))\n",
    "\"\"\"\"while i < len(str1):\n",
    "    if str1[i] != \" \":\n",
    "        if str1[i].isalpha():\n",
    "            alpha += 1\n",
    "        elif str1[i].isdigit():\n",
    "            digit += 1\n",
    "        else:\n",
    "            specchar += 1\n",
    "    i += 1\"\"\"\n",
    "#without using functions\n",
    "for j in range(0,len(str1)):\n",
    "    if str1[j] != \" \":\n",
    "        if str1[j]>='a' and str1[j]<='z' or str1[j]>='A'and str1[j]<='Z':\n",
    "            alpha += 1\n",
    "        elif str1[j]>='0' and str1[j]<='9':\n",
    "            digit += 1\n",
    "        else:\n",
    "            specchar += 1\n",
    "            \n",
    "print(\"The count of character in string is as follows: \",\"\\nalphabet: \",alpha,\"\\nSpecial Character: \",specchar,\"\\ndigit: \",digit)"
   ]
  },
  {
   "cell_type": "code",
   "execution_count": null,
   "id": "dcb46342",
   "metadata": {},
   "outputs": [],
   "source": [
    "st = \"1\"\n",
    "v = chr(ord(st))\n",
    "print(type(v))\n",
    "print(chr(ord(st)))"
   ]
  },
  {
   "cell_type": "code",
   "execution_count": null,
   "id": "54816294",
   "metadata": {},
   "outputs": [],
   "source": [
    "#count number of consonent and vowels in string\n",
    "\n",
    "st = input(\"Enter String: \")\n",
    "st =st.lower()\n",
    "\n",
    "v = 0\n",
    "c = 0\n",
    "for i in st:\n",
    "    if i.isalpha(): # condition to check if character is alphabet or not\n",
    "        if (i == 'a' or i =='e' or i =='i' or i =='o' or i =='u'):\n",
    "            v += 1 \n",
    "        else:\n",
    "            c += 1\n",
    "print(v,c)"
   ]
  },
  {
   "cell_type": "code",
   "execution_count": null,
   "id": "e7143ba7",
   "metadata": {},
   "outputs": [],
   "source": [
    "s = \"Nishad\"\n",
    "for i in s:\n",
    "    print(i)"
   ]
  },
  {
   "cell_type": "code",
   "execution_count": null,
   "id": "4093dde7",
   "metadata": {},
   "outputs": [],
   "source": [
    "#count number of word in String\n",
    "\n",
    "st = input(\"Enter String: \")\n",
    "c = 0\n",
    "for i in st:\n",
    "    c += 1\n",
    "print(c)"
   ]
  },
  {
   "cell_type": "code",
   "execution_count": null,
   "id": "3a6d0065",
   "metadata": {},
   "outputs": [],
   "source": [
    "#reverse the string\n",
    "\n",
    "st = input(\"Enter String: \")\n",
    "\n",
    "print(\"by using slice method: \",st[::-1])\n",
    "str = \" \"\n",
    "#by using code\n",
    "for i in st:\n",
    "    str = i + str\n",
    "print(\"without any method: \",str)\n",
    "\n"
   ]
  },
  {
   "cell_type": "code",
   "execution_count": null,
   "id": "146d7255",
   "metadata": {},
   "outputs": [],
   "source": [
    "#check if the string is palindrome or not\n",
    "\n",
    "st = input(\"Enter String: \")\n",
    "#new_st = st[::-1]\n",
    "\n",
    "#with code\n",
    "new_st = \"\"\n",
    "for i in st:\n",
    "    new_st = i + new_st\n",
    "print(\"new string: \",new_st)\n",
    "if st == new_st:\n",
    "    print(\"string is palindrome\")\n",
    "else:\n",
    "    print(\"String is not a palindrome\")\n",
    "          \n"
   ]
  },
  {
   "cell_type": "code",
   "execution_count": 51,
   "id": "efc47580",
   "metadata": {},
   "outputs": [
    {
     "name": "stdout",
     "output_type": "stream",
     "text": [
      "Enter String: Hell wpp\n",
      "2 Hell wpp\n",
      "wpp Hell\n"
     ]
    }
   ],
   "source": [
    "#reverse order of words in string\n",
    "\n",
    "se = input(\"Enter String: \")\n",
    "mylist = []\n",
    "#mylist = se.split(\" \")\n",
    "#print(type(mylist)\n",
    "#mylist.reverse()\n",
    "#print(mylist)\n",
    "\n",
    "str1 = ''\n",
    "#split of string to list\n",
    "for i in se:\n",
    "    #str1 = ''\n",
    "    #str1 = str1 + i\n",
    "    if i == \" \":\n",
    "        mylist.append(str1)\n",
    "        str1 = ''\n",
    "    else:\n",
    "        str1 += i\n",
    "mylist.append(str1)\n",
    "#print(\" \".join(mylist))\n",
    "#print(mylist)\n",
    "str = \" \"\n",
    "j = len(mylist)\n",
    "k = 0\n",
    "print(j,mylist[0],mylist[1])\n",
    "#reversing the list\n",
    "for j in mylist[::-1]:\n",
    "    #str = str +\" \" + mylist[j] \n",
    "    mylist[k] = j\n",
    "    k += 1\n",
    "    \n",
    "print(\" \".join(mylist))\n"
   ]
  },
  {
   "cell_type": "code",
   "execution_count": 52,
   "id": "bdc7e0ec",
   "metadata": {},
   "outputs": [
    {
     "name": "stdout",
     "output_type": "stream",
     "text": [
      "a\n",
      "b\n",
      "c\n",
      "d\n",
      "1 2\n"
     ]
    }
   ],
   "source": [
    "my = ['a','b','c','d']\n",
    "for j in my:\n",
    "    print(j)\n",
    "my[0]\n",
    "\n",
    "s , t = 1 , 2\n",
    "print(s,t)"
   ]
  },
  {
   "cell_type": "code",
   "execution_count": 67,
   "id": "971273db",
   "metadata": {},
   "outputs": [
    {
     "name": "stdout",
     "output_type": "stream",
     "text": [
      "Enter the string: Nisahd\n",
      "Enter Character to find: d\n",
      "The occurrence of entered character at 5 index\n"
     ]
    }
   ],
   "source": [
    "#Write a C program to input any string from user and find the first occurrence of a given character in the string. \n",
    "#How to find the first occurrence of a given character in a string in python programming. \n",
    "#Logic to find first occurrence of a character in a string in python programming.\n",
    "\n",
    "string =  input(\"Enter the string: \")\n",
    "char = input(\"Enter Character to find: \")\n",
    "#print(type(char))\n",
    "count = 0\n",
    "flag = 0\n",
    "for i in string:\n",
    "    count += 1\n",
    "    if i == char:\n",
    "        flag = 1\n",
    "        break\n",
    "if flag == 1:\n",
    "    print(\"The first occurrence of entered character at\",count-1,\"index\")\n",
    "else:\n",
    "     print(\"The character is not present in string\")"
   ]
  },
  {
   "cell_type": "code",
   "execution_count": 70,
   "id": "b039c152",
   "metadata": {},
   "outputs": [
    {
     "name": "stdout",
     "output_type": "stream",
     "text": [
      "Enter the string: I love codeforwin\n",
      "Enter Character to find: o\n",
      "The last occurrence of entered character at 12 index\n"
     ]
    }
   ],
   "source": [
    "#Write a C program to input any string from user and find the last occurrence of a given character in the string. \n",
    "#How to find the last occurrence of a given character in the string. \n",
    "#Logic to find last occurrence of a given character in a string.\n",
    "\n",
    "string =  input(\"Enter the string: \")\n",
    "char = input(\"Enter Character to find: \")\n",
    "\n",
    "count = 0\n",
    "flag = 0\n",
    "index = 0\n",
    "for i in string:\n",
    "    count += 1\n",
    "    if i == char:\n",
    "        flag = 1\n",
    "        index = count - 1\n",
    "\n",
    "if flag == 1:\n",
    "    print(\"The last occurrence of entered character at\",index,\"index\")\n",
    "else:\n",
    "     print(\"The character is not present in string\")    "
   ]
  },
  {
   "cell_type": "code",
   "execution_count": 72,
   "id": "473ddb24",
   "metadata": {},
   "outputs": [
    {
     "name": "stdout",
     "output_type": "stream",
     "text": [
      "Enter the string: I love programming. I love Codeforwin.\n",
      "Enter Character to find: o\n",
      "The all occurrence of entered character is [3, 9, 23, 28, 32]\n"
     ]
    }
   ],
   "source": [
    "#Write a C program to search all occurrences of a character in a string using loop. \n",
    "#ow to find all occurrences of a character in a given string using for loop in C programming.\n",
    "#Program to print all index of a character in a given string. \n",
    "\n",
    "string =  input(\"Enter the string: \")\n",
    "char = input(\"Enter Character to find: \")\n",
    "\n",
    "count = 0\n",
    "flag = 0\n",
    "mylist = []\n",
    "for i in string:\n",
    "    count += 1\n",
    "    if i == char:\n",
    "        flag = 1 \n",
    "        mylist.append(count-1)\n",
    "\n",
    "if flag == 1:\n",
    "    print(\"The all occurrence of entered character is\",mylist)\n",
    "else:\n",
    "     print(\"The character is not present in string\") \n",
    "\n"
   ]
  },
  {
   "cell_type": "code",
   "execution_count": 73,
   "id": "7bb8cadb",
   "metadata": {},
   "outputs": [
    {
     "name": "stdout",
     "output_type": "stream",
     "text": [
      "Enter the string: I love programming. I love Codeforwin.\n",
      "Enter Character to find: o\n",
      "The all occurrence of entered character is 5\n"
     ]
    }
   ],
   "source": [
    "#count occurence of a character\n",
    "string =  input(\"Enter the string: \")\n",
    "char = input(\"Enter Character to find: \")\n",
    "\n",
    "count = 0\n",
    "flag = 0\n",
    "index= 0\n",
    "for i in string:\n",
    "    index += 1\n",
    "    if i == char:\n",
    "        flag = 1 \n",
    "        count += 1\n",
    "if flag == 1:\n",
    "    print(\"The all occurrence of entered character is\",count)\n",
    "else:\n",
    "     print(\"The character is not present in string\") "
   ]
  },
  {
   "cell_type": "code",
   "execution_count": 10,
   "id": "bc372909",
   "metadata": {},
   "outputs": [
    {
     "name": "stdout",
     "output_type": "stream",
     "text": [
      "dict_keys(['p', 'r', 'o', 'g'])\n",
      "dict_keys(['p', 'r', 'o', 'g', 'a', 'm'])\n",
      "dict_keys(['p', 'r', 'o', 'g', 'a', 'm', 'i', 'n'])\n",
      "r\n"
     ]
    }
   ],
   "source": [
    "string = \"programming\"\n",
    "di = {}\n",
    "for i in string:\n",
    "    if i in di:\n",
    "        di[i] = di[i] + 1\n",
    "        print(di.keys())\n",
    "    else:\n",
    "        di[i] = 1\n",
    "        \n",
    "print(max(di, key = di.get))\n"
   ]
  },
  {
   "cell_type": "code",
   "execution_count": null,
   "id": "6de08d13",
   "metadata": {},
   "outputs": [],
   "source": []
  }
 ],
 "metadata": {
  "kernelspec": {
   "display_name": "Python 3 (ipykernel)",
   "language": "python",
   "name": "python3"
  },
  "language_info": {
   "codemirror_mode": {
    "name": "ipython",
    "version": 3
   },
   "file_extension": ".py",
   "mimetype": "text/x-python",
   "name": "python",
   "nbconvert_exporter": "python",
   "pygments_lexer": "ipython3",
   "version": "3.9.7"
  }
 },
 "nbformat": 4,
 "nbformat_minor": 5
}
