{
 "cells": [
  {
   "cell_type": "markdown",
   "id": "78a889fd",
   "metadata": {},
   "source": [
    "### Binary Search\n"
   ]
  },
  {
   "cell_type": "code",
   "execution_count": 15,
   "id": "dca74f98",
   "metadata": {},
   "outputs": [
    {
     "name": "stdout",
     "output_type": "stream",
     "text": [
      "5\n"
     ]
    },
    {
     "data": {
      "text/plain": [
       "'Not Present'"
      ]
     },
     "execution_count": 15,
     "metadata": {},
     "output_type": "execute_result"
    }
   ],
   "source": [
    "def binarySearch(arr,n,debug=False):\n",
    "    l = 0\n",
    "    u = len(arr)-1\n",
    "    m = (l + u)//2\n",
    "    while l<=u:\n",
    "        m = (l + u)//2\n",
    "        if debug:\n",
    "            print('lower bound ',l)\n",
    "            print('upper bound ',u)\n",
    "            print('middle ', m)\n",
    "        if arr[m]==n:\n",
    "            return 'Present'\n",
    "        elif n>arr[m]:\n",
    "            l = m+1\n",
    "            #u = n-1\n",
    "            #m = (l + u)//2\n",
    "        elif n<arr[m]:\n",
    "            #l = m + 1\n",
    "            u = m - 1\n",
    "           # m = (l + u)//2\n",
    "    else:\n",
    "        return 'Not Present'\n",
    "    \n",
    "    \n",
    "    \n",
    "    \n",
    "arr = [1,3,7,9,11,12,45]\n",
    "ele = int(input())\n",
    "binarySearch(arr,ele)\n",
    "#print(checkElement)"
   ]
  },
  {
   "cell_type": "markdown",
   "id": "99186180",
   "metadata": {},
   "source": [
    "## selection sort"
   ]
  },
  {
   "cell_type": "code",
   "execution_count": 17,
   "id": "0f475359",
   "metadata": {},
   "outputs": [
    {
     "name": "stdout",
     "output_type": "stream",
     "text": [
      "[1, 2, 3, 4, 6, 13, 28]\n"
     ]
    }
   ],
   "source": [
    "\n",
    "def selection_sort(arr,n):\n",
    "    for i in range(n):\n",
    "        min = i\n",
    "        for j in range(i+1,n):\n",
    "            if arr[j]<arr[min]:\n",
    "                min = j\n",
    "        arr[i],arr[min] = arr[min],arr[i]\n",
    "    return arr\n",
    "\n",
    "\n",
    "arr = [2,13,4,1,3,6,28]\n",
    "li = selection_sort(arr,len(arr))\n",
    "print(li)"
   ]
  },
  {
   "cell_type": "markdown",
   "id": "67e3e300",
   "metadata": {},
   "source": [
    "## Bubble Sort"
   ]
  },
  {
   "cell_type": "code",
   "execution_count": 24,
   "id": "7d924b18",
   "metadata": {},
   "outputs": [
    {
     "name": "stdout",
     "output_type": "stream",
     "text": [
      "[1, 2, 3, 4, 6, 13, 28]\n"
     ]
    }
   ],
   "source": [
    "def bubble_sort(arr,n):\n",
    "    for i in range(n):\n",
    "        min = i\n",
    "        for j in range(n-1):\n",
    "            if arr[j]>arr[j+1]:\n",
    "                #min = j\n",
    "                arr[j],arr[j+1] = arr[j+1],arr[j]\n",
    "    return arr\n",
    "arr = [2,13,4,1,3,6,28]\n",
    "li = bubble_sort(arr,len(arr))\n",
    "print(li)"
   ]
  },
  {
   "cell_type": "markdown",
   "id": "8a086db9",
   "metadata": {},
   "source": [
    "## Insertion Sort"
   ]
  },
  {
   "cell_type": "code",
   "execution_count": 22,
   "id": "91035514",
   "metadata": {},
   "outputs": [
    {
     "name": "stdout",
     "output_type": "stream",
     "text": [
      "[1, 2, 4, 5, 6, 10]\n"
     ]
    }
   ],
   "source": [
    "#arr = [8,5,3,1]\n",
    "arr = [5,4,10,1,6,2]\n",
    "for i in range(len(arr)-1):\n",
    "    temp = arr[i+1]\n",
    "    j = i\n",
    "    while j>=0:\n",
    "        if temp<arr[j]:\n",
    "            arr[j],arr[j+1] = temp,arr[j]\n",
    "        j -= 1\n",
    "print(arr)"
   ]
  },
  {
   "cell_type": "markdown",
   "id": "dd1ebe17",
   "metadata": {},
   "source": [
    "## Merge two sorted array/list"
   ]
  },
  {
   "cell_type": "code",
   "execution_count": 5,
   "id": "b377ca81",
   "metadata": {},
   "outputs": [
    {
     "name": "stdout",
     "output_type": "stream",
     "text": [
      "[1, 2, 3, 4, 4, 7, 8, 9, 11, 11, 13]\n"
     ]
    }
   ],
   "source": [
    "a1 = [1,3,4,7,11]\n",
    "a2 = [2,4,8,9,11,13,]\n",
    "a3 = []\n",
    "i , j = 0,0\n",
    "while (i<len(a1) and j<len(a2)):\n",
    "    if a1[i]<a2[j]:\n",
    "        a3.append(a1[i])\n",
    "        i += 1\n",
    "    elif a1[i]>=a2[j]:\n",
    "        a3.append(a2[j])\n",
    "        j += 1\n",
    "while i<len(a1):\n",
    "    a3.append(a1[i])\n",
    "    i += 1\n",
    "while j<len(a2):\n",
    "    a3.append(a2[j])\n",
    "    j += 1\n",
    "    \n",
    "    \n",
    "print(a3)      \n",
    "        "
   ]
  },
  {
   "cell_type": "code",
   "execution_count": 8,
   "id": "98850737",
   "metadata": {},
   "outputs": [],
   "source": [
    "'''\n",
    "Rotate the array\n",
    "test case: 1\n",
    "length of list: 11\n",
    "list/array: 1 3 6 11 12 17 22 26 30 33 38 \n",
    "value by which array needs to be rotated: 7\n",
    "'''\n",
    "def rotate_array(arr,d):\n",
    "    rotate_list = []\n",
    "    i = d\n",
    "    while i<len(arr):\n",
    "        rotate_list.append(arr[i])\n",
    "        i += 1\n",
    "    j = 0\n",
    "    while j<d:\n",
    "        rotate_list.append(arr[j])\n",
    "        j += 1\n",
    "    return rotate_list\n",
    "        \n",
    "\n",
    "\n"
   ]
  },
  {
   "cell_type": "code",
   "execution_count": 16,
   "id": "4a2385a9",
   "metadata": {},
   "outputs": [
    {
     "name": "stdout",
     "output_type": "stream",
     "text": [
      "[26, 30, 33, 38, 1, 3, 6, 11, 12, 17, 22]\n"
     ]
    }
   ],
   "source": [
    "arr = [1,3,6,11,12,17,22,26,30,33,38]\n",
    "d = 7\n",
    "#arr = [1,2,3,4,5,6,7]\n",
    "#d = 2\n",
    "#arr = [int(i) for i in input().split()]\n",
    "#d = int(input())\n",
    "li = rotate_array(arr,d)\n",
    "print(li)"
   ]
  },
  {
   "cell_type": "code",
   "execution_count": 22,
   "id": "2f26b76e",
   "metadata": {},
   "outputs": [
    {
     "name": "stdout",
     "output_type": "stream",
     "text": [
      "[1, 2, 3, 4, 5, 6, 7]\n",
      "[3, 4, 5, 6, 7, 1, 2]\n"
     ]
    }
   ],
   "source": [
    "ar = [1,2,3,4,5,6,7]\n",
    "d = 2\n",
    "arr = [1,3,6,11,12,17,22,26,30,33,38]\n",
    "e = 7\n",
    "arr = ar\n",
    "print(arr)\n",
    "\n",
    "ar = ar[d:] + ar[:d]\n",
    "\n",
    "print(ar)"
   ]
  },
  {
   "cell_type": "raw",
   "id": "dedb6f61",
   "metadata": {},
   "source": [
    "def reverse(arr,s,e):\n",
    "    while s < e:\n",
    "        arr[s],arr[e] = arr[e],arr[s]\n",
    "        s = s+1\n",
    "        e = e-1\n",
    "\n",
    "def rotate(arr, n, d):\n",
    "    reverse(arr,0,d-1)\n",
    "    reverse(arr,d,n-1)\n",
    "    reverse(arr,0,n-1)\n",
    "    return arr\n",
    "\n",
    "def rotate(arr, n, d):\n",
    "    arr = arr[d:]+arr[:d]\n",
    "    return arr"
   ]
  },
  {
   "cell_type": "code",
   "execution_count": 58,
   "id": "eb73095f",
   "metadata": {},
   "outputs": [],
   "source": [
    "'''Find the second largest element in List/array'''\n",
    "\n",
    "\n",
    "\n",
    "def sort(arr,n):\n",
    "    for i in range(n-1):\n",
    "        temp = arr[i+1]\n",
    "        j = i\n",
    "        while j >= 0:\n",
    "            if temp < arr[j]:\n",
    "                arr[j],arr[j+1] = temp,arr[j]\n",
    "            j -= 1\n",
    "    return arr\n",
    "\n",
    "\n",
    "def secondLargestElement(arr, n):\n",
    "    sort_list = sort(arr,n)\n",
    "    \n",
    "    for i in range(n-1,-1,-1):\n",
    "        if sort_list[i]<sort_list[n-1] and sort_list[i]!=sort_list[n-1]:\n",
    "            return sort_list[i]\n",
    "            break\n",
    "    else:\n",
    "        return -2147483648\n"
   ]
  },
  {
   "cell_type": "code",
   "execution_count": 59,
   "id": "4dfd370f",
   "metadata": {},
   "outputs": [
    {
     "name": "stdout",
     "output_type": "stream",
     "text": [
      "-2147483648\n"
     ]
    }
   ],
   "source": [
    "#arr = [1,2,6,7,3,5,4]\n",
    "#arr = [8,9,9,1,7,5,5,10,1,0,7]\n",
    "arr = [5,5,5,5,5]\n",
    "n = len(arr)\n",
    "l = secondLargestElement(arr, len(arr))\n",
    "print(l)\n"
   ]
  },
  {
   "cell_type": "code",
   "execution_count": null,
   "id": "f26181fd",
   "metadata": {},
   "outputs": [],
   "source": [
    "'''for i in range(n-1):\n",
    "    temp = arr[i+1]\n",
    "    j = i\n",
    "    while j >= 0:\n",
    "        if temp < arr[j]:\n",
    "            arr[j],arr[j+1] = temp,arr[j]\n",
    "        j -= 1\n",
    "        \n",
    "print(arr)\n",
    "\n",
    "#sort_list = sort(arr,n)\n",
    "for i in range(n-1,-1,-1):\n",
    "    if arr[i]<arr[n-1]:\n",
    "        #return sort_list[i]\n",
    "        print(arr[i])\n",
    "        break'''"
   ]
  },
  {
   "cell_type": "code",
   "execution_count": 44,
   "id": "7919a63d",
   "metadata": {},
   "outputs": [
    {
     "name": "stdout",
     "output_type": "stream",
     "text": [
      "2\n"
     ]
    }
   ],
   "source": [
    "'''\n",
    "Check Array Rotation\n",
    "You have been given an integer array/list(ARR) of size N. \n",
    "It has been sorted(in increasing order) and then rotated by some number 'K' in the right hand direction.\n",
    "Your task is to write a function that returns the value of 'K', \n",
    "that means, the index from which the array/list has been rotated.\n",
    "1\n",
    "6\n",
    "5 6 1 2 3 4\n",
    "'''\n",
    "arr = [5,6,1,2,3,4]\n",
    "#k = checkArrayRotation(arr)\n",
    "min = arr[0]\n",
    "min_index = 0\n",
    "i = 0\n",
    "while i<len(arr):\n",
    "    if min > arr[i]:\n",
    "        min_index = i\n",
    "        break\n",
    "    i += 1\n",
    "print(min_index)\n",
    "    \n",
    "\n",
    "\n",
    "\n"
   ]
  },
  {
   "cell_type": "code",
   "execution_count": 51,
   "id": "0aea02c2",
   "metadata": {},
   "outputs": [
    {
     "name": "stdout",
     "output_type": "stream",
     "text": [
      "[3, 2, 1, 0, 0, 0, 0, 0, 0, 0, 0]\n"
     ]
    }
   ],
   "source": [
    "def pushzeroatend(arr):\n",
    "    for i in range(len(arr)):\n",
    "        if arr[i] == 0:\n",
    "            for j in range(i+1,len(arr)):\n",
    "                if arr[j]!= 0:\n",
    "                    arr[i],arr[j] = arr[j],arr[i]\n",
    "                    break\n",
    "    return arr\n",
    "\n",
    "#arr = [2,0,0,1,3,0,0]\n",
    "#arr = [0]\n",
    "#arr = [5,8,7,4,3,1]\n",
    "arr = [0,3,0,2,0,0,0,0,0,0,1]\n",
    "li = pushzeroatend(arr)  \n",
    "print(li)\n",
    "li.                "
   ]
  },
  {
   "cell_type": "code",
   "execution_count": 45,
   "id": "5149fe31",
   "metadata": {},
   "outputs": [
    {
     "name": "stdout",
     "output_type": "stream",
     "text": [
      "1\n",
      "[1, 2, 3, 4, 5, 6]\n"
     ]
    }
   ],
   "source": [
    "arr = [5,6,1,2,3,4]\n",
    "arr.sort()\n",
    "print(arr[0])\n",
    "print(arr)"
   ]
  },
  {
   "cell_type": "code",
   "execution_count": 7,
   "id": "91e59c38",
   "metadata": {},
   "outputs": [
    {
     "name": "stdout",
     "output_type": "stream",
     "text": [
      "[0, 0, 0, 1, 2, 2, 1]\n",
      "Program Executed in 0.0025345999999899504\n"
     ]
    }
   ],
   "source": [
    "'''\n",
    "Sort012\n",
    "'''\n",
    "\n",
    "import timeit\n",
    "\n",
    "start = timeit.default_timer()\n",
    "a = [0,1,2,0,2,0,1]\n",
    "z = 0\n",
    "#t = len(a)-1\n",
    "#print(t)\n",
    "for i in range(len(a)):\n",
    "    if a[i]==0:\n",
    "        a[i],a[z] = a[z],a[i]\n",
    "        z += 1\n",
    "\n",
    "print(a)\n",
    "stop = timeit.default_timer()\n",
    "execution_time = stop - start\n",
    "print(\"Program Executed in \"+str(execution_time))"
   ]
  },
  {
   "cell_type": "raw",
   "id": "7f621048",
   "metadata": {},
   "source": [
    "import timeit\n",
    "\n",
    "start = timeit.default_timer()\n",
    "\n",
    "# All the program statements\n",
    "stop = timeit.default_timer()\n",
    "    execution_time = stop - start"
   ]
  },
  {
   "cell_type": "code",
   "execution_count": 6,
   "id": "f8e87dbe",
   "metadata": {},
   "outputs": [
    {
     "name": "stdout",
     "output_type": "stream",
     "text": [
      "<class 'str'>\n",
      "[1, 3, 8, 0]\n"
     ]
    }
   ],
   "source": [
    "a = [6,2,4]\n",
    "a1 = [7,5,6]\n",
    "\n",
    "def convert(arr):\n",
    "    st = ''.join(str(i) for i in arr)\n",
    "    return st\n",
    "\n",
    "num1 = int(convert(a))\n",
    "num2 = int(convert(a1))\n",
    "\n",
    "s = num1 + num2\n",
    "s = str(s)\n",
    "print(type(s))\n",
    "\n",
    "li = [int(x) for x in s]\n",
    "print(li)"
   ]
  },
  {
   "cell_type": "code",
   "execution_count": 15,
   "id": "65f796ba",
   "metadata": {},
   "outputs": [
    {
     "name": "stdout",
     "output_type": "stream",
     "text": [
      "[0, 5, 2, 0, 2]\n"
     ]
    },
    {
     "data": {
      "text/plain": [
       "[2, 0, 2, 5, 0]"
      ]
     },
     "execution_count": 15,
     "metadata": {},
     "output_type": "execute_result"
    }
   ],
   "source": [
    "arr1 = [1,5,3,1]\n",
    "arr2 = [1,8,7,1,9]\n",
    "op = []\n",
    "carry = 0\n",
    "i,j=1,1\n",
    "while i<=len(arr1) and j<=len(arr2):\n",
    "    sum = arr1[len(arr1)-i] + arr2[len(arr2)-j] + carry\n",
    "    carry = sum/10\n",
    "    rem = sum%10\n",
    "    op.append(int(rem))\n",
    "    i += 1\n",
    "    j += 1\n",
    "while i <= len(arr1):\n",
    "    sum = arr1[len(arr1)-i] + carry\n",
    "    carry = sum/10\n",
    "    rem = sum%10\n",
    "    op.append(int(rem))\n",
    "    i += 1\n",
    "\n",
    "while j <= len(arr2):\n",
    "    sum = arr1[len(arr1)-j] + carry\n",
    "    carry = sum/10\n",
    "    rem = sum%10\n",
    "    op.append(int(rem))\n",
    "    j += 1\n",
    "    \n",
    "print(op)\n",
    "op[::-1]\n",
    "\n",
    "\n",
    "def car(sum):\n",
    "    "
   ]
  },
  {
   "cell_type": "code",
   "execution_count": 21,
   "id": "f6f9ca61",
   "metadata": {},
   "outputs": [],
   "source": [
    "def sumOfTwoArrays(arr1, n, arr2, m, output):\n",
    "    i,j = 1,1\n",
    "    carry= 0\n",
    "    while i<=len(arr1) and j<=len(arr2):\n",
    "        sum = arr1[n-i] + arr2[m-j] + carry\n",
    "        carry = sum/10\n",
    "        rem = sum%10\n",
    "        output.append(int(rem))\n",
    "        i += 1\n",
    "        j += 1\n",
    "    while i <= len(arr1):\n",
    "        sum = arr1[n-i] + carry\n",
    "        carry = sum/10\n",
    "        rem = sum%10\n",
    "        output.append(int(rem))\n",
    "        i += 1\n",
    "    while j <= len(arr2):\n",
    "        sum = arr1[m-j] + carry\n",
    "        carry = sum/10\n",
    "        rem = sum%10\n",
    "        output.append(int(rem))\n",
    "        j += 1\n",
    "    output = output[::-1] \n",
    "    return output\n"
   ]
  },
  {
   "cell_type": "code",
   "execution_count": 22,
   "id": "f537a55a",
   "metadata": {},
   "outputs": [
    {
     "name": "stdout",
     "output_type": "stream",
     "text": [
      "[2, 0, 2, 5, 0]\n"
     ]
    }
   ],
   "source": [
    "arr1 = [1,5,3,1]\n",
    "arr2 = [1,8,7,1,9]\n",
    "output = []\n",
    "\n",
    "li = sumOfTwoArrays(arr1, len(arr1), arr2, len(arr2), output)\n",
    "print(li)"
   ]
  },
  {
   "cell_type": "code",
   "execution_count": null,
   "id": "ac1b7422",
   "metadata": {},
   "outputs": [],
   "source": []
  }
 ],
 "metadata": {
  "kernelspec": {
   "display_name": "Python 3 (ipykernel)",
   "language": "python",
   "name": "python3"
  },
  "language_info": {
   "codemirror_mode": {
    "name": "ipython",
    "version": 3
   },
   "file_extension": ".py",
   "mimetype": "text/x-python",
   "name": "python",
   "nbconvert_exporter": "python",
   "pygments_lexer": "ipython3",
   "version": "3.9.7"
  }
 },
 "nbformat": 4,
 "nbformat_minor": 5
}
