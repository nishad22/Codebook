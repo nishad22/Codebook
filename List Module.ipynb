{
 "cells": [
  {
   "cell_type": "code",
   "execution_count": 20,
   "id": "2c0dbc39",
   "metadata": {},
   "outputs": [
    {
     "name": "stdout",
     "output_type": "stream",
     "text": [
      "Enter the length list: 5\n",
      "Enter the sum: 0\n",
      "Enter the elements in list\n",
      "2\n",
      "-3\n",
      "3\n",
      "3\n",
      "-2\n",
      "[2, -3, 3, 3, -2]\n",
      "[-3, -2, 2, 3, 3]\n",
      "i:  0 j:  1\n",
      "i:  1 j:  2\n",
      "i:  2 j:  3\n",
      "i:  3 j:  4\n",
      "i:  4 j:  5\n",
      "[(-3, 3), (-3, 3), (-2, 2)]\n"
     ]
    }
   ],
   "source": [
    "mylist = []\n",
    "mylist_len = int(input(\"Enter the length list: \"))\n",
    "s = int(input(\"Enter the sum: \"))\n",
    "print(\"Enter the elements in list\")\n",
    "for i in range(0,mylist_len):\n",
    "    j = int(input(\"\"))\n",
    "    mylist.append(j)\n",
    "print(mylist)\n",
    "mylist.sort()\n",
    "print(mylist)\n",
    "my = mylist\n",
    "pair_sum = []\n",
    "#declaring the tuple\n",
    "#mytuple = ()\n",
    "\n",
    "for i in range(0,len(my)):\n",
    "    j = i + 1\n",
    "    print(\"i: \",i,\"j: \",j)\n",
    "    for j in range(j,len(mylist)):\n",
    "        if my[i] + my[j] == s:\n",
    "            pair_sum.append((my[i],my[j]))\n",
    "print(pair_sum)      "
   ]
  },
  {
   "cell_type": "markdown",
   "id": "87ec177f",
   "metadata": {},
   "source": []
  },
  {
   "cell_type": "markdown",
   "id": "625fe9da",
   "metadata": {},
   "source": [
    "Prefix Sum\n",
    "\n",
    "Given an array, ‘A’ of size N, its prefix sum array is an array of the same size N such that the ith element of the prefix sum array ‘Prefix’ is the sum of all elements of the given array till ith index from the beginning, i.e \n",
    "Prefix[i] = A[0] + A[1] + A[2] + … + A[i]. \n",
    "\n",
    "For Example: Given A[] = [3, 4, -1, 2, 5], the prefix sum array P[] is given as - \n",
    "\n",
    "P[0] = 3, P[1] = 7, P[2] = 6, P[3] = 8, P[4] = 13\n",
    "\n",
    "i.e. P[] = [3, 7, 6, 8, 13]"
   ]
  },
  {
   "cell_type": "code",
   "execution_count": 3,
   "id": "9f5e041d",
   "metadata": {},
   "outputs": [
    {
     "name": "stdout",
     "output_type": "stream",
     "text": [
      "[3, 7, 6, 8, 13]\n",
      "[13, 8, 6, 7, 3]\n"
     ]
    },
    {
     "data": {
      "text/plain": [
       "5"
      ]
     },
     "execution_count": 3,
     "metadata": {},
     "output_type": "execute_result"
    }
   ],
   "source": [
    "#prefix sum\n",
    "\n",
    "li = [3,4,-1,2,5]\n",
    "pri_sum = []\n",
    "sum = 0 \n",
    "for i in range(0,len(li)):\n",
    "    sum = sum + li[i]\n",
    "    pri_sum.append(sum)\n",
    "print(pri_sum)\n",
    "len(li)"
   ]
  },
  {
   "cell_type": "code",
   "execution_count": 4,
   "id": "d11f23f1",
   "metadata": {},
   "outputs": [
    {
     "name": "stdout",
     "output_type": "stream",
     "text": [
      "[5, 2, -1, 4, 3]\n",
      "[13, 10, 6, 7, 5]\n"
     ]
    },
    {
     "data": {
      "text/plain": [
       "5"
      ]
     },
     "execution_count": 4,
     "metadata": {},
     "output_type": "execute_result"
    }
   ],
   "source": [
    "#i = 5\n",
    "'''while i >= 0:\n",
    "    print(i)\n",
    "    i = i -1'''\n",
    "li = [3,4,-1,2,5]\n",
    "li = li[::-1]\n",
    "print(li)\n",
    "pri_sum = []\n",
    "sum = 0 \n",
    "for i in range(0,len(li)):\n",
    "    sum = sum + li[i]\n",
    "    pri_sum.append(sum)\n",
    "print(pri_sum[::-1])\n",
    "len(li)"
   ]
  },
  {
   "cell_type": "markdown",
   "id": "251ae11c",
   "metadata": {},
   "source": [
    "## Slicing in List"
   ]
  },
  {
   "cell_type": "code",
   "execution_count": 4,
   "id": "f9a6bef0",
   "metadata": {},
   "outputs": [
    {
     "data": {
      "text/plain": [
       "[1, 'a', 2.6, 'Nishad']"
      ]
     },
     "execution_count": 4,
     "metadata": {},
     "output_type": "execute_result"
    }
   ],
   "source": [
    "li = [1,'a',2.6,'Nishad']\n",
    "li"
   ]
  },
  {
   "cell_type": "code",
   "execution_count": 5,
   "id": "60ef64f7",
   "metadata": {},
   "outputs": [
    {
     "data": {
      "text/plain": [
       "[1, 'a', 2.6, 'Nishad']"
      ]
     },
     "execution_count": 5,
     "metadata": {},
     "output_type": "execute_result"
    }
   ],
   "source": [
    "li[:]"
   ]
  },
  {
   "cell_type": "code",
   "execution_count": 6,
   "id": "a6858f9a",
   "metadata": {},
   "outputs": [
    {
     "data": {
      "text/plain": [
       "['a', 2.6, 'Nishad']"
      ]
     },
     "execution_count": 6,
     "metadata": {},
     "output_type": "execute_result"
    }
   ],
   "source": [
    "li[1:]"
   ]
  },
  {
   "cell_type": "code",
   "execution_count": 7,
   "id": "03ca8da7",
   "metadata": {},
   "outputs": [
    {
     "data": {
      "text/plain": [
       "[1, 'a']"
      ]
     },
     "execution_count": 7,
     "metadata": {},
     "output_type": "execute_result"
    }
   ],
   "source": [
    "li[0:2]"
   ]
  },
  {
   "cell_type": "code",
   "execution_count": 7,
   "id": "5f7b5ac4",
   "metadata": {},
   "outputs": [
    {
     "data": {
      "text/plain": [
       "[1, 'a', 2.6]"
      ]
     },
     "execution_count": 7,
     "metadata": {},
     "output_type": "execute_result"
    }
   ],
   "source": [
    "li[:-1]"
   ]
  },
  {
   "cell_type": "markdown",
   "id": "fead6ab9",
   "metadata": {},
   "source": [
    "## Insert and append Element in List"
   ]
  },
  {
   "cell_type": "code",
   "execution_count": 8,
   "id": "f649d12c",
   "metadata": {},
   "outputs": [],
   "source": [
    "li.append('raj')"
   ]
  },
  {
   "cell_type": "code",
   "execution_count": 9,
   "id": "cb03760a",
   "metadata": {},
   "outputs": [
    {
     "data": {
      "text/plain": [
       "[1, 'a', 2.6, 'Nishad', 'raj']"
      ]
     },
     "execution_count": 9,
     "metadata": {},
     "output_type": "execute_result"
    }
   ],
   "source": [
    "li"
   ]
  },
  {
   "cell_type": "code",
   "execution_count": 12,
   "id": "13f4dd9c",
   "metadata": {},
   "outputs": [],
   "source": [
    "#insert an element at 3rd index\n",
    "\n",
    "li.insert(3,9)"
   ]
  },
  {
   "cell_type": "code",
   "execution_count": 10,
   "id": "4cb18b2c",
   "metadata": {},
   "outputs": [
    {
     "data": {
      "text/plain": [
       "[1, 'a', 2.6, 'Nishad', 'raj']"
      ]
     },
     "execution_count": 10,
     "metadata": {},
     "output_type": "execute_result"
    }
   ],
   "source": [
    "li"
   ]
  },
  {
   "cell_type": "code",
   "execution_count": 11,
   "id": "15d631c3",
   "metadata": {},
   "outputs": [
    {
     "data": {
      "text/plain": [
       "[1, 'a', 2.6, 'Nishad', 'raj']"
      ]
     },
     "execution_count": 11,
     "metadata": {},
     "output_type": "execute_result"
    }
   ],
   "source": [
    "#insert multiple element in List\n",
    "li"
   ]
  },
  {
   "cell_type": "markdown",
   "id": "2ca66dbf",
   "metadata": {},
   "source": [
    "## Removing a element from list"
   ]
  },
  {
   "cell_type": "code",
   "execution_count": 13,
   "id": "7db76bcf",
   "metadata": {},
   "outputs": [
    {
     "ename": "ValueError",
     "evalue": "list.remove(x): x not in list",
     "output_type": "error",
     "traceback": [
      "\u001b[1;31m---------------------------------------------------------------------------\u001b[0m",
      "\u001b[1;31mValueError\u001b[0m                                Traceback (most recent call last)",
      "\u001b[1;32m~\\AppData\\Local\\Temp/ipykernel_4704/1230171013.py\u001b[0m in \u001b[0;36m<module>\u001b[1;34m\u001b[0m\n\u001b[1;32m----> 1\u001b[1;33m \u001b[0mli\u001b[0m\u001b[1;33m.\u001b[0m\u001b[0mremove\u001b[0m\u001b[1;33m(\u001b[0m\u001b[1;34m'Deora'\u001b[0m\u001b[1;33m)\u001b[0m\u001b[1;33m\u001b[0m\u001b[1;33m\u001b[0m\u001b[0m\n\u001b[0m\u001b[0;32m      2\u001b[0m \u001b[0mli\u001b[0m\u001b[1;33m\u001b[0m\u001b[1;33m\u001b[0m\u001b[0m\n\u001b[0;32m      3\u001b[0m \u001b[1;33m\u001b[0m\u001b[0m\n\u001b[0;32m      4\u001b[0m \u001b[1;31m#above code remove the element of list where it occured first in case multiple element present with same name\u001b[0m\u001b[1;33m\u001b[0m\u001b[1;33m\u001b[0m\u001b[0m\n",
      "\u001b[1;31mValueError\u001b[0m: list.remove(x): x not in list"
     ]
    }
   ],
   "source": [
    "li.remove('Deora')\n",
    "li\n",
    "\n",
    "#above code remove the element of list where it occured first in case multiple element present with same name"
   ]
  },
  {
   "cell_type": "code",
   "execution_count": 15,
   "id": "58cefc73",
   "metadata": {},
   "outputs": [
    {
     "data": {
      "text/plain": [
       "'Nishad'"
      ]
     },
     "execution_count": 15,
     "metadata": {},
     "output_type": "execute_result"
    }
   ],
   "source": [
    "li.pop()"
   ]
  },
  {
   "cell_type": "code",
   "execution_count": 16,
   "id": "1af8b728",
   "metadata": {},
   "outputs": [
    {
     "data": {
      "text/plain": [
       "[1, 'a', 2.6]"
      ]
     },
     "execution_count": 16,
     "metadata": {},
     "output_type": "execute_result"
    }
   ],
   "source": [
    "li"
   ]
  },
  {
   "cell_type": "code",
   "execution_count": 18,
   "id": "9c49f7d6",
   "metadata": {},
   "outputs": [],
   "source": [
    "#remove element from spcific index\n",
    "li.append(7)"
   ]
  },
  {
   "cell_type": "code",
   "execution_count": 19,
   "id": "3848ff1d",
   "metadata": {},
   "outputs": [
    {
     "data": {
      "text/plain": [
       "[1, 'a', 2.6, 7]"
      ]
     },
     "execution_count": 19,
     "metadata": {},
     "output_type": "execute_result"
    }
   ],
   "source": [
    "li"
   ]
  },
  {
   "cell_type": "code",
   "execution_count": 20,
   "id": "34fbc7be",
   "metadata": {},
   "outputs": [
    {
     "data": {
      "text/plain": [
       "4"
      ]
     },
     "execution_count": 20,
     "metadata": {},
     "output_type": "execute_result"
    }
   ],
   "source": [
    "len(li)"
   ]
  },
  {
   "cell_type": "code",
   "execution_count": 24,
   "id": "2ce1358c",
   "metadata": {},
   "outputs": [
    {
     "name": "stdout",
     "output_type": "stream",
     "text": [
      "a\n",
      "2.6\n",
      "7\n",
      "-------------------\n",
      "1\n",
      "a\n",
      "2.6\n",
      "7\n"
     ]
    }
   ],
   "source": [
    "#iterate the list by using slicing\n",
    "for i in li[1:]:\n",
    "    print(i)\n",
    "\n",
    "print('-------------------')\n",
    "\n",
    "for i in range(len(li)):\n",
    "    print(li[i])"
   ]
  },
  {
   "cell_type": "code",
   "execution_count": 2,
   "id": "1a679e87",
   "metadata": {},
   "outputs": [
    {
     "ename": "NameError",
     "evalue": "name 'li' is not defined",
     "output_type": "error",
     "traceback": [
      "\u001b[1;31m---------------------------------------------------------------------------\u001b[0m",
      "\u001b[1;31mNameError\u001b[0m                                 Traceback (most recent call last)",
      "\u001b[1;32m~\\AppData\\Local\\Temp/ipykernel_16356/3003724079.py\u001b[0m in \u001b[0;36m<module>\u001b[1;34m\u001b[0m\n\u001b[1;32m----> 1\u001b[1;33m \u001b[0mli\u001b[0m\u001b[1;33m\u001b[0m\u001b[1;33m\u001b[0m\u001b[0m\n\u001b[0m",
      "\u001b[1;31mNameError\u001b[0m: name 'li' is not defined"
     ]
    }
   ],
   "source": [
    "li"
   ]
  },
  {
   "cell_type": "code",
   "execution_count": 3,
   "id": "96e8b002",
   "metadata": {},
   "outputs": [
    {
     "ename": "NameError",
     "evalue": "name 'li' is not defined",
     "output_type": "error",
     "traceback": [
      "\u001b[1;31m---------------------------------------------------------------------------\u001b[0m",
      "\u001b[1;31mNameError\u001b[0m                                 Traceback (most recent call last)",
      "\u001b[1;32m~\\AppData\\Local\\Temp/ipykernel_16356/2669909305.py\u001b[0m in \u001b[0;36m<module>\u001b[1;34m\u001b[0m\n\u001b[1;32m----> 1\u001b[1;33m \u001b[0mli\u001b[0m\u001b[1;33m[\u001b[0m\u001b[1;33m-\u001b[0m\u001b[1;36m1\u001b[0m\u001b[1;33m]\u001b[0m\u001b[1;33m\u001b[0m\u001b[1;33m\u001b[0m\u001b[0m\n\u001b[0m",
      "\u001b[1;31mNameError\u001b[0m: name 'li' is not defined"
     ]
    }
   ],
   "source": [
    "li[-1]"
   ]
  },
  {
   "cell_type": "code",
   "execution_count": 27,
   "id": "fbb9dc0b",
   "metadata": {},
   "outputs": [
    {
     "data": {
      "text/plain": [
       "'a'"
      ]
     },
     "execution_count": 27,
     "metadata": {},
     "output_type": "execute_result"
    }
   ],
   "source": [
    "li[-3]"
   ]
  },
  {
   "cell_type": "code",
   "execution_count": 28,
   "id": "be6f74c8",
   "metadata": {},
   "outputs": [
    {
     "name": "stdout",
     "output_type": "stream",
     "text": [
      "1\n",
      "1\n"
     ]
    }
   ],
   "source": [
    "print(li[-4])\n",
    "print(li[0])"
   ]
  },
  {
   "cell_type": "code",
   "execution_count": 63,
   "id": "f7915f03",
   "metadata": {},
   "outputs": [
    {
     "data": {
      "text/plain": [
       "[1, 'a', 2.6, 7, 5, 6, 'Seven', 8.001, 'Nine']"
      ]
     },
     "execution_count": 63,
     "metadata": {},
     "output_type": "execute_result"
    }
   ],
   "source": [
    "#li.append(5)\n",
    "#li.append(6)\n",
    "#li.extend(['Seven',8.001,'Nine'])\n",
    "li.pop()\n",
    "#li.pop(8.001)\n",
    "#li.pop('Nine')\n",
    "li"
   ]
  },
  {
   "cell_type": "code",
   "execution_count": 64,
   "id": "2ae5f384",
   "metadata": {},
   "outputs": [
    {
     "data": {
      "text/plain": [
       "9"
      ]
     },
     "execution_count": 64,
     "metadata": {},
     "output_type": "execute_result"
    }
   ],
   "source": [
    "len(li)"
   ]
  },
  {
   "cell_type": "code",
   "execution_count": 67,
   "id": "7764ea67",
   "metadata": {},
   "outputs": [
    {
     "name": "stdout",
     "output_type": "stream",
     "text": [
      "['a', 2.6, 7, 5, 6]\n",
      "[7, 6, 8.001]\n"
     ]
    }
   ],
   "source": [
    "print(li[1:6:1])\n",
    "print(li[3:9:2])"
   ]
  },
  {
   "cell_type": "code",
   "execution_count": 68,
   "id": "8b2f9233",
   "metadata": {},
   "outputs": [
    {
     "data": {
      "text/plain": [
       "[1, 'a', 2.6, 7, 5, 6, 'Seven', 8.001, 'Nine']"
      ]
     },
     "execution_count": 68,
     "metadata": {},
     "output_type": "execute_result"
    }
   ],
   "source": [
    "li[:]"
   ]
  },
  {
   "cell_type": "code",
   "execution_count": 69,
   "id": "756433d0",
   "metadata": {},
   "outputs": [
    {
     "data": {
      "text/plain": [
       "[7, 5, 6, 'Seven', 8.001, 'Nine']"
      ]
     },
     "execution_count": 69,
     "metadata": {},
     "output_type": "execute_result"
    }
   ],
   "source": [
    "li[3:]"
   ]
  },
  {
   "cell_type": "code",
   "execution_count": 70,
   "id": "69b4bf61",
   "metadata": {},
   "outputs": [
    {
     "data": {
      "text/plain": [
       "['a', 7, 6, 8.001]"
      ]
     },
     "execution_count": 70,
     "metadata": {},
     "output_type": "execute_result"
    }
   ],
   "source": [
    "li[1::2]"
   ]
  },
  {
   "cell_type": "code",
   "execution_count": 71,
   "id": "1d90808f",
   "metadata": {},
   "outputs": [
    {
     "data": {
      "text/plain": [
       "[1, 'a', 2.6]"
      ]
     },
     "execution_count": 71,
     "metadata": {},
     "output_type": "execute_result"
    }
   ],
   "source": [
    "li[:3]"
   ]
  },
  {
   "cell_type": "code",
   "execution_count": 72,
   "id": "e096a1ad",
   "metadata": {},
   "outputs": [
    {
     "data": {
      "text/plain": [
       "['Nine']"
      ]
     },
     "execution_count": 72,
     "metadata": {},
     "output_type": "execute_result"
    }
   ],
   "source": [
    "li[-1:]"
   ]
  },
  {
   "cell_type": "code",
   "execution_count": 4,
   "id": "2e21118a",
   "metadata": {},
   "outputs": [
    {
     "ename": "NameError",
     "evalue": "name 'li' is not defined",
     "output_type": "error",
     "traceback": [
      "\u001b[1;31m---------------------------------------------------------------------------\u001b[0m",
      "\u001b[1;31mNameError\u001b[0m                                 Traceback (most recent call last)",
      "\u001b[1;32m~\\AppData\\Local\\Temp/ipykernel_16356/2899458822.py\u001b[0m in \u001b[0;36m<module>\u001b[1;34m\u001b[0m\n\u001b[1;32m----> 1\u001b[1;33m \u001b[0mli\u001b[0m\u001b[1;33m[\u001b[0m\u001b[1;33m-\u001b[0m\u001b[1;36m1\u001b[0m\u001b[1;33m:\u001b[0m\u001b[1;33m-\u001b[0m\u001b[1;36m6\u001b[0m\u001b[1;33m]\u001b[0m\u001b[1;33m\u001b[0m\u001b[1;33m\u001b[0m\u001b[0m\n\u001b[0m",
      "\u001b[1;31mNameError\u001b[0m: name 'li' is not defined"
     ]
    }
   ],
   "source": [
    "li[-1:-6]"
   ]
  },
  {
   "cell_type": "markdown",
   "id": "34d7ffe5",
   "metadata": {},
   "source": [
    "### convert string into list in one line"
   ]
  },
  {
   "cell_type": "code",
   "execution_count": 7,
   "id": "78385599",
   "metadata": {},
   "outputs": [
    {
     "name": "stdout",
     "output_type": "stream",
     "text": [
      "5 3 3 3\n"
     ]
    }
   ],
   "source": [
    "list = [int(i) for i in input().split()]"
   ]
  },
  {
   "cell_type": "code",
   "execution_count": 8,
   "id": "e25c46a2",
   "metadata": {},
   "outputs": [
    {
     "data": {
      "text/plain": [
       "[5, 3, 3, 3]"
      ]
     },
     "execution_count": 8,
     "metadata": {},
     "output_type": "execute_result"
    }
   ],
   "source": [
    "list"
   ]
  },
  {
   "cell_type": "code",
   "execution_count": 5,
   "id": "2938c7ab",
   "metadata": {},
   "outputs": [
    {
     "name": "stdout",
     "output_type": "stream",
     "text": [
      "1 2 3 4 5 6\n",
      "['1', '2', '3', '4', '5', '6']\n",
      "6\n"
     ]
    },
    {
     "data": {
      "text/plain": [
       "['1', '2', '3', '4', '5', '6']"
      ]
     },
     "execution_count": 5,
     "metadata": {},
     "output_type": "execute_result"
    }
   ],
   "source": [
    "\n",
    "l = [x for x in input().split()]\n",
    "print(l)\n",
    "print(len(l))\n",
    "l"
   ]
  },
  {
   "cell_type": "markdown",
   "id": "d6439177",
   "metadata": {},
   "source": [
    "### linear Search "
   ]
  },
  {
   "cell_type": "code",
   "execution_count": 3,
   "id": "06beaa7e",
   "metadata": {},
   "outputs": [
    {
     "name": "stdout",
     "output_type": "stream",
     "text": [
      "5 \n",
      "1 2 3 4 5 6\n"
     ]
    },
    {
     "ename": "NameError",
     "evalue": "name 'i' is not defined",
     "output_type": "error",
     "traceback": [
      "\u001b[1;31m---------------------------------------------------------------------------\u001b[0m",
      "\u001b[1;31mNameError\u001b[0m                                 Traceback (most recent call last)",
      "\u001b[1;32m~\\AppData\\Local\\Temp/ipykernel_9912/6064386.py\u001b[0m in \u001b[0;36m<module>\u001b[1;34m\u001b[0m\n\u001b[0;32m      4\u001b[0m \u001b[0mflag\u001b[0m \u001b[1;33m=\u001b[0m \u001b[1;32mTrue\u001b[0m\u001b[1;33m\u001b[0m\u001b[1;33m\u001b[0m\u001b[0m\n\u001b[0;32m      5\u001b[0m \u001b[1;32mif\u001b[0m \u001b[0mflag\u001b[0m\u001b[1;33m:\u001b[0m\u001b[1;33m\u001b[0m\u001b[1;33m\u001b[0m\u001b[0m\n\u001b[1;32m----> 6\u001b[1;33m     \u001b[0mprint\u001b[0m\u001b[1;33m(\u001b[0m\u001b[1;34m\"The element\"\u001b[0m\u001b[1;33m,\u001b[0m\u001b[0mn\u001b[0m\u001b[1;33m,\u001b[0m\u001b[1;34m'is present at'\u001b[0m\u001b[1;33m,\u001b[0m\u001b[0mi\u001b[0m\u001b[1;33m,\u001b[0m\u001b[1;34m'index'\u001b[0m\u001b[1;33m)\u001b[0m\u001b[1;33m\u001b[0m\u001b[1;33m\u001b[0m\u001b[0m\n\u001b[0m\u001b[0;32m      7\u001b[0m \u001b[1;32melse\u001b[0m\u001b[1;33m:\u001b[0m\u001b[1;33m\u001b[0m\u001b[1;33m\u001b[0m\u001b[0m\n\u001b[0;32m      8\u001b[0m     \u001b[0mprint\u001b[0m\u001b[1;33m(\u001b[0m\u001b[1;33m-\u001b[0m\u001b[1;36m1\u001b[0m\u001b[1;33m)\u001b[0m\u001b[1;33m\u001b[0m\u001b[1;33m\u001b[0m\u001b[0m\n",
      "\u001b[1;31mNameError\u001b[0m: name 'i' is not defined"
     ]
    }
   ],
   "source": [
    "n =  int(input())\n",
    "#space separated input\n",
    "li = [int(x) for x in input().split()]\n",
    "flag = True       \n",
    "if flag:\n",
    "    print(\"The element\",n,'is present at',i,'index')\n",
    "else:\n",
    "    print(-1)"
   ]
  },
  {
   "cell_type": "markdown",
   "id": "532d763a",
   "metadata": {},
   "source": [
    "### Linear Search using functions:\n"
   ]
  },
  {
   "cell_type": "code",
   "execution_count": 19,
   "id": "9bc01111",
   "metadata": {},
   "outputs": [],
   "source": [
    "def linear_search(li,num):\n",
    "    for i in range(len(li)):\n",
    "        if li[i]==num:\n",
    "            return i\n",
    "    else:\n",
    "        return -1"
   ]
  },
  {
   "cell_type": "code",
   "execution_count": 20,
   "id": "5f57829a",
   "metadata": {},
   "outputs": [
    {
     "name": "stdout",
     "output_type": "stream",
     "text": [
      "Enter the length of List\n",
      "4\n",
      "Enter the element to be search\n",
      "1\n",
      "2 3 4 5 6\n",
      "-1\n"
     ]
    }
   ],
   "source": [
    "print('Enter the length of List')\n",
    "n = int(input())\n",
    "print('Enter the element to be search')\n",
    "num = int(input())\n",
    "print('Enter the element in list')\n",
    "li = [int(x) for x in input().split()]\n",
    "li = li[:n] \n",
    "index = linear_search(li,num)\n",
    "if index != -1:\n",
    "    print(\"The element\",n,'is present at',index,'index')\n",
    "else:\n",
    "    print(index)"
   ]
  },
  {
   "cell_type": "code",
   "execution_count": 12,
   "id": "e0eefbd0",
   "metadata": {},
   "outputs": [
    {
     "name": "stdout",
     "output_type": "stream",
     "text": [
      "5\n",
      "1 2 3 4 5 6 7 8 9 \n",
      "[1, 2, 3, 4, 5]\n"
     ]
    },
    {
     "data": {
      "text/plain": [
       "5"
      ]
     },
     "execution_count": 12,
     "metadata": {},
     "output_type": "execute_result"
    }
   ],
   "source": [
    "n = int(input())\n",
    "\n",
    "li = [int(x) for x in input().split()]\n",
    "li = li[:n]  \n",
    "\n",
    "\n",
    "print(li)\n",
    "len(li)"
   ]
  },
  {
   "cell_type": "code",
   "execution_count": 27,
   "id": "7545a9f4",
   "metadata": {},
   "outputs": [
    {
     "name": "stdout",
     "output_type": "stream",
     "text": [
      "[1, 5, 2.6, 'Nishad']\n",
      "2059154714112\n",
      "2059154714112\n"
     ]
    }
   ],
   "source": [
    "li = [1,'a',2.6,'Nishad']\n",
    "li2 = li\n",
    "li2[1]=5\n",
    "print(li)\n",
    "print(id(li))\n",
    "print(id(li2))"
   ]
  },
  {
   "cell_type": "code",
   "execution_count": 25,
   "id": "b1727249",
   "metadata": {},
   "outputs": [
    {
     "name": "stdout",
     "output_type": "stream",
     "text": [
      "2059072792880\n",
      "2059072792880\n",
      "2059072792976\n"
     ]
    }
   ],
   "source": [
    "x = 1\n",
    "print(id(x))\n",
    "a = 1\n",
    "print(id(a))\n",
    "a = 4\n",
    "print(id(a))\n"
   ]
  },
  {
   "cell_type": "code",
   "execution_count": 37,
   "id": "c65ab602",
   "metadata": {},
   "outputs": [
    {
     "data": {
      "text/plain": [
       "['Nishad', 2.6, 'a', 1]"
      ]
     },
     "execution_count": 37,
     "metadata": {},
     "output_type": "execute_result"
    }
   ],
   "source": [
    "li =  [1,'a',2.6,'Nishad']\n",
    "li[::-1]"
   ]
  },
  {
   "cell_type": "code",
   "execution_count": 49,
   "id": "01c3e89e",
   "metadata": {},
   "outputs": [
    {
     "name": "stdout",
     "output_type": "stream",
     "text": [
      "[2, 1, 4, 3, 6, 5]\n"
     ]
    }
   ],
   "source": [
    "def swapAlternate(arr, n) :\n",
    "    #Your code goes here\n",
    "    for i in range(n):\n",
    "        if i+1 == n:\n",
    "            break\n",
    "        elif i%2==0:\n",
    "            arr[i],arr[i+1] = arr[i+1],arr[i]\n",
    "        \n",
    "        \n",
    "n = 6\n",
    "arr = [1,2,3,4,5,6]\n",
    "swapAlternate(arr,n)\n",
    "print(arr)"
   ]
  },
  {
   "cell_type": "code",
   "execution_count": 64,
   "id": "076e8065",
   "metadata": {},
   "outputs": [
    {
     "name": "stdout",
     "output_type": "stream",
     "text": [
      "1\n"
     ]
    }
   ],
   "source": [
    "'''find Unique number\n",
    "\n",
    "length = 7\n",
    "element in list: 2 3 1 6 3 6 2\n",
    "output 1'''\n",
    "\n",
    "def findUnique(arr,n):\n",
    "    unique = 0\n",
    "    for i in range(n):\n",
    "        count = 1\n",
    "        for j in range(n):\n",
    "            if arr[i]== arr[j] and i!=j:\n",
    "                count += 1\n",
    "        if count == 1:\n",
    "            unique = arr[i]           \n",
    "    return unique\n",
    "    \n",
    "arr = [2,3,1,6,3,6,2]\n",
    "num = findUnique(arr,len(arr))\n",
    "print(num)\n",
    "        \n",
    "            "
   ]
  },
  {
   "cell_type": "code",
   "execution_count": 66,
   "id": "336255b6",
   "metadata": {},
   "outputs": [
    {
     "name": "stdout",
     "output_type": "stream",
     "text": [
      "6\n"
     ]
    }
   ],
   "source": [
    "'''You have been given an integer array/list(ARR) and a number X. \n",
    "Find and return the total number of pairs in the array/list which sum to X.\n",
    "\n",
    "test case: 1\n",
    "length of list: 9\n",
    "list : 1 3 6 2 5 4 3 2 4\n",
    "pair sum: 7'''\n",
    "\n",
    "def pairSum(arr, n, x) :\n",
    "    #Your code goes here\n",
    "    count = 0 \n",
    "    for i in range(n):\n",
    "        for j in range(n):\n",
    "            if arr[i]+arr[j]==x and i!=j:\n",
    "                count += 1\n",
    "    else:\n",
    "        return count\n",
    "\n",
    "arr = [0,4,1,2,5,4]\n",
    "x = 5\n",
    "c = pairSum(arr, len(arr), x)\n",
    "print(c)"
   ]
  },
  {
   "cell_type": "code",
   "execution_count": 67,
   "id": "42610941",
   "metadata": {},
   "outputs": [
    {
     "name": "stdout",
     "output_type": "stream",
     "text": [
      "5\n"
     ]
    }
   ],
   "source": [
    "'''You have been given a random integer array/list(ARR) and a number X. \n",
    "Find and return the number of triplets in the array/list which sum to X.\n",
    "\n",
    "test case: 1\n",
    "length of list: 7\n",
    "list: 1 2 3 4 5 6 7 \n",
    "triplet sum: 12\n",
    "\n",
    "\n",
    "'''\n",
    "def findTriplet(arr, n, x) :\n",
    "    #Your code goes here\n",
    "    #return your answer\n",
    "    count = 0\n",
    "    for i in range(n):\n",
    "        for j in range(i+1,n):\n",
    "            for k in range(j+1,n):\n",
    "                if arr[i]+arr[j]+arr[k] == x :\n",
    "                    count += 1\n",
    "    else:\n",
    "        return count\n",
    "\n",
    "\n",
    "arr = [1,2,3,4,5,6,7]\n",
    "x = 12\n",
    "c = findTriplet(arr, len(arr), x)\n",
    "print(c)"
   ]
  },
  {
   "cell_type": "markdown",
   "id": "f3492b7a",
   "metadata": {},
   "source": [
    "def secondLargestElement(arr, n):\n",
    "    arr.sort()\n",
    "    for i in range(n-1,-1,-1):\n",
    "        if arr[i]<arr[n-1]:\n",
    "            n = arr[i]\n",
    "            return n\n",
    "            break\n",
    "    \n",
    "    else:\n",
    "        return -2147483648\n",
    "'''      \t\n",
    "\n",
    "\n",
    "def secondLargestElement(arr, n):\n",
    "    MIN_VALUE = -2147483648\n",
    "    if n == 0 :\n",
    "        return MIN_VALUE\n",
    "\n",
    "    largest = arr[0]\n",
    "    secondLargest = MIN_VALUE\n",
    "    for i in range(n) :\n",
    "        if largest < arr[i] :\n",
    "            secondLargest = largest\n",
    "            largest = arr[i]\n",
    "        elif secondLargest < arr[i] and arr[i] != largest :\n",
    "            secondLargest = arr[i]\n",
    "    return secondLargest\n"
   ]
  },
  {
   "cell_type": "code",
   "execution_count": 10,
   "id": "2fc487b0",
   "metadata": {},
   "outputs": [
    {
     "name": "stdout",
     "output_type": "stream",
     "text": [
      "4\n",
      "5\n",
      "2\n",
      "1\n",
      "4\n",
      "0\n"
     ]
    }
   ],
   "source": [
    "arr = [0,4,1,2,5,4]\n",
    "for i in range(len(arr)-1,-1,-1):\n",
    "    print(arr[i])"
   ]
  },
  {
   "cell_type": "code",
   "execution_count": null,
   "id": "da2ddc56",
   "metadata": {},
   "outputs": [],
   "source": []
  },
  {
   "cell_type": "code",
   "execution_count": null,
   "id": "e813b775",
   "metadata": {},
   "outputs": [],
   "source": []
  }
 ],
 "metadata": {
  "kernelspec": {
   "display_name": "Python 3 (ipykernel)",
   "language": "python",
   "name": "python3"
  },
  "language_info": {
   "codemirror_mode": {
    "name": "ipython",
    "version": 3
   },
   "file_extension": ".py",
   "mimetype": "text/x-python",
   "name": "python",
   "nbconvert_exporter": "python",
   "pygments_lexer": "ipython3",
   "version": "3.9.7"
  }
 },
 "nbformat": 4,
 "nbformat_minor": 5
}
