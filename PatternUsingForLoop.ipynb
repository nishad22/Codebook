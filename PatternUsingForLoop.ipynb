{
 "cells": [
  {
   "cell_type": "code",
   "execution_count": 18,
   "id": "3a75d2dc",
   "metadata": {},
   "outputs": [
    {
     "name": "stdout",
     "output_type": "stream",
     "text": [
      "3\n",
      "1\n",
      "2\n"
     ]
    }
   ],
   "source": [
    "n = int(input())\n",
    "for i in range(1,n,1):\n",
    "    print(i)"
   ]
  },
  {
   "cell_type": "code",
   "execution_count": 9,
   "id": "b53d853e",
   "metadata": {},
   "outputs": [
    {
     "name": "stdout",
     "output_type": "stream",
     "text": [
      "5\n",
      "11111\n",
      "0000\n",
      "111\n",
      "00\n",
      "1\n"
     ]
    }
   ],
   "source": [
    "n = int(input())\n",
    "for i in range(1,n+1,1):\n",
    "    for j in range(n+1,i,-1):\n",
    "        if i%2 !=0:\n",
    "            print(1,end='')\n",
    "        else:\n",
    "            print(0,end='')\n",
    "    print()"
   ]
  },
  {
   "cell_type": "code",
   "execution_count": 23,
   "id": "9650e875",
   "metadata": {},
   "outputs": [
    {
     "name": "stdout",
     "output_type": "stream",
     "text": [
      "5\n",
      "3\n",
      "  *\n",
      " ***\n",
      "*****\n",
      " ***\n",
      "  *\n"
     ]
    }
   ],
   "source": [
    "n = int(input())\n",
    "n1 = (n+1)//2\n",
    "print(n1)\n",
    "for i in range(1,n1,1):\n",
    "    for space in range(0,n1-i):\n",
    "        print(' ',end='')\n",
    "    for j in range(0,2*i-1):\n",
    "        print('*',end='')\n",
    "    print()\n",
    "for k in range((n1-1)+1,0,-1):\n",
    "    for space in range((n1-1)-k+1,0,-1):\n",
    "        print(' ',end='')\n",
    "    for l in range(0,(2*k-1),1):\n",
    "        print('*',end='')\n",
    "    print()"
   ]
  },
  {
   "cell_type": "markdown",
   "id": "58b26dba",
   "metadata": {},
   "source": [
    "4444444\n",
    "4333334\n",
    "4322234\n",
    "4321234\n",
    "4322234\n",
    "4333334  \n",
    "4444444"
   ]
  },
  {
   "cell_type": "code",
   "execution_count": 62,
   "id": "6cd98cf8",
   "metadata": {},
   "outputs": [
    {
     "name": "stdout",
     "output_type": "stream",
     "text": [
      "4\n",
      "7\n",
      "4444444\n",
      "4222224\n",
      "4111114\n",
      "4001004\n",
      "4-1-1-1-1-14\n",
      "4-2-2-2-2-24\n",
      "4444444\n"
     ]
    }
   ],
   "source": [
    "n = int(input())\n",
    "n1 = (n * 2)-1\n",
    "print(n1)\n",
    "for i in range(1,n1+1):\n",
    "    for j in range(1,n1+1):\n",
    "        #for outer square\n",
    "        if (i==1 or j==1 or j == n1 or i == n1):\n",
    "            print(n,end='')\n",
    "        #for middle value\n",
    "        elif i == ((n*2)/2) and j == ((n*2)/2):\n",
    "            print(1,end='')\n",
    "        elif (i >= 2 and j >= 2):\n",
    "            print(n-i,end='')\n",
    "        else:\n",
    "            print(\" \",end='')\n",
    "    print()"
   ]
  },
  {
   "cell_type": "code",
   "execution_count": 61,
   "id": "12255dd6",
   "metadata": {},
   "outputs": [
    {
     "name": "stdout",
     "output_type": "stream",
     "text": [
      "4\n",
      "4444444\n",
      "4333334\n",
      "4322234\n",
      "4321234\n",
      "4322234\n",
      "4333334\n",
      "4444444\n"
     ]
    }
   ],
   "source": [
    "n=int(input())\n",
    "for i in range(0,n):\n",
    "    t=0\n",
    "    for j in range(1,n):\n",
    "        if(t<=i):\n",
    "            print(n-t,end=\"\")\n",
    "            t=t+1\n",
    "        else:\n",
    "            print(n-i,end=\"\")\n",
    "    #print(n-i,end=\"\")\n",
    "    for j in range(1,n-i):\n",
    "        print(n-i,end=\"\")\n",
    "    for j in range(n-i,n+1):\n",
    "        print(j,end=\"\")\n",
    "    print()\n",
    "for i in range(n-2,-1,-1):\n",
    "    t=0\n",
    "    for j in range(1,n):\n",
    "        if(t<=i):\n",
    "            print(n-t,end=\"\")\n",
    "            t=t+1\n",
    "        else:\n",
    "            print(n-i,end=\"\")\n",
    "    #print(n-i,end=\"\")\n",
    "    for j in range(1,n-i):\n",
    "        print(n-i,end=\"\")\n",
    "    for j in range(n-i,n+1):\n",
    "        print(j,end=\"\")\n",
    "    print()"
   ]
  },
  {
   "cell_type": "code",
   "execution_count": 64,
   "id": "cc9fa058",
   "metadata": {},
   "outputs": [
    {
     "data": {
      "text/plain": [
       "2"
      ]
     },
     "execution_count": 64,
     "metadata": {},
     "output_type": "execute_result"
    }
   ],
   "source": [
    "int(5/2)\n"
   ]
  },
  {
   "cell_type": "code",
   "execution_count": 66,
   "id": "36c7b721",
   "metadata": {},
   "outputs": [
    {
     "name": "stdout",
     "output_type": "stream",
     "text": [
      "1 2 3 4 \n",
      "9 10 11 12 \n",
      "17 18 19 20 \n",
      "13 14 15 16 \n"
     ]
    }
   ],
   "source": [
    "n = 4\n",
    "h = 0\n",
    "d = int(n/2)+1\n",
    "for r in range(0, n):\n",
    "\ts=''\n",
    "\tfor c in range(1, n+1):\n",
    "\t\tif r<d:\n",
    "\t\t\th = r*2\n",
    "\t\telif r==d:\n",
    "\t\t\th = d\n",
    "\t\telse:\n",
    "\t\t\th = int(d/3)\n",
    "\t\ts+=str(h*n+c) + ' '\n",
    "\tprint(s)"
   ]
  },
  {
   "cell_type": "code",
   "execution_count": 6,
   "id": "69f926e5",
   "metadata": {},
   "outputs": [
    {
     "name": "stdout",
     "output_type": "stream",
     "text": [
      "5\n",
      "1 2 3 4 5 \n",
      "11 12 13 14 15 \n",
      "21 22 23 24 25 \n",
      "16 17 18 19 20 \n",
      "6 7 8 9 10 \n"
     ]
    }
   ],
   "source": [
    "'''1 2 3 4 5 \n",
    "11 12 13 14 15 \n",
    "21 22 23 24 25 \n",
    "16 17 18 19 20 \n",
    "6 7 8 9 10 '''\n",
    "\n",
    "n=int(input())\n",
    "n1=(n+1)//2\n",
    "n2=n-n1\n",
    "k=1\n",
    "i=1\n",
    "while i<=n1:\n",
    "    j=1\n",
    "    while j<=n:\n",
    "        print(k,end=\" \")\n",
    "        j=j+1\n",
    "        k=k+1\n",
    "    print()\n",
    "   # print(\"Value of k \",k)\n",
    "    k=k+n\n",
    "   # print(\"Value of k \",k)\n",
    "    i=i+1\n",
    "i=1\n",
    "if n%2==0:\n",
    "    k=n*(n-1)+1\n",
    "else:\n",
    "    k=n*(n-2)+1\n",
    "while i<=n2:\n",
    "    j=1\n",
    "    while j<=n:\n",
    "        print(k,end=\" \")\n",
    "        j=j+1\n",
    "        k=k+1\n",
    "    print()\n",
    "    #print(\"Value of k \",k)\n",
    "    k=k-(3*n)\n",
    "   # print(\"Value of k \",k)\n",
    "    i=i+1"
   ]
  },
  {
   "cell_type": "code",
   "execution_count": null,
   "id": "5e1c23ae",
   "metadata": {},
   "outputs": [],
   "source": []
  }
 ],
 "metadata": {
  "kernelspec": {
   "display_name": "Python 3 (ipykernel)",
   "language": "python",
   "name": "python3"
  },
  "language_info": {
   "codemirror_mode": {
    "name": "ipython",
    "version": 3
   },
   "file_extension": ".py",
   "mimetype": "text/x-python",
   "name": "python",
   "nbconvert_exporter": "python",
   "pygments_lexer": "ipython3",
   "version": "3.9.7"
  }
 },
 "nbformat": 4,
 "nbformat_minor": 5
}
