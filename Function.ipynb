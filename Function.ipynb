{
 "cells": [
  {
   "cell_type": "code",
   "execution_count": 2,
   "id": "059e8fad",
   "metadata": {},
   "outputs": [],
   "source": [
    "#Write a program to calculate nCr factorial using function\n",
    "\n",
    "def fact(n):\n",
    "    n_fact = 1\n",
    "    for i in range(1,n+1):\n",
    "        n_fact = n_fact * i\n",
    "    return n_fact\n",
    "    "
   ]
  },
  {
   "cell_type": "code",
   "execution_count": 7,
   "id": "02745df9",
   "metadata": {},
   "outputs": [
    {
     "name": "stdout",
     "output_type": "stream",
     "text": [
      "5\n",
      "2\n",
      "10\n"
     ]
    }
   ],
   "source": [
    "n = int(input())\n",
    "r = int(input())\n",
    "\n",
    "n_fact = fact(n)\n",
    "r_fact = fact(r)\n",
    "n_r_fact = fact(n-r)\n",
    "ans = n_fact//(r_fact * n_r_fact)\n",
    "print(ans)"
   ]
  },
  {
   "cell_type": "code",
   "execution_count": 10,
   "id": "2c4d0df1",
   "metadata": {},
   "outputs": [
    {
     "name": "stdout",
     "output_type": "stream",
     "text": [
      "7\n",
      "3\n"
     ]
    },
    {
     "data": {
      "text/plain": [
       "343"
      ]
     },
     "execution_count": 10,
     "metadata": {},
     "output_type": "execute_result"
    }
   ],
   "source": [
    "n = int(input())\n",
    "r = int(input())\n",
    "\n",
    "n**r"
   ]
  },
  {
   "cell_type": "code",
   "execution_count": 11,
   "id": "ead813fb",
   "metadata": {},
   "outputs": [
    {
     "data": {
      "text/plain": [
       "3"
      ]
     },
     "execution_count": 11,
     "metadata": {},
     "output_type": "execute_result"
    }
   ],
   "source": [
    "len('371')"
   ]
  },
  {
   "cell_type": "code",
   "execution_count": 19,
   "id": "b0834868",
   "metadata": {},
   "outputs": [],
   "source": [
    "#write a program to check if number is Amstrong or not\n",
    "#371, as 3^3 + 7^3 + 1^3 = 371\n",
    "#1634, as 1^4 + 6^4 + 3^4 + 4^4 = 1634\n",
    "\n",
    "def pow(rem,length):\n",
    "    return rem**length\n",
    "\n",
    "def isNumAmstrong(num):\n",
    "    ori_num = num\n",
    "    sum = 0\n",
    "    for i in range(0,length):\n",
    "        if num!=0:\n",
    "            rem = num%10\n",
    "            num = num//10\n",
    "        sum = sum + pow(rem,length)\n",
    "    else:\n",
    "        if ori_num == sum:\n",
    "            return 'true'\n",
    "        else:\n",
    "            return 'false'\n",
    "\n",
    "\n"
   ]
  },
  {
   "cell_type": "code",
   "execution_count": 20,
   "id": "7fc1634f",
   "metadata": {},
   "outputs": [
    {
     "name": "stdout",
     "output_type": "stream",
     "text": [
      "103\n",
      "false\n"
     ]
    }
   ],
   "source": [
    "num = input()\n",
    "length = len(num)\n",
    "num = int(num)\n",
    "#print(type(num))\n",
    "#print(pow(7,3))\n",
    "print(isNumAmstrong(num))"
   ]
  },
  {
   "cell_type": "code",
   "execution_count": 45,
   "id": "cc3d6a6a",
   "metadata": {},
   "outputs": [],
   "source": [
    "#Write a program to determine if given number is palindrome or not. Print true if it is palindrome, false otherwise.\n",
    "def pow(rem,length):\n",
    "    return rem**length\n",
    "def checkPalindrome(num):\n",
    "    ori_num = num\n",
    "    sum = 0\n",
    "    l = length-1\n",
    "    for i in range(0,length):\n",
    "        if num!=0:\n",
    "            rem = num%10\n",
    "            num = num//10\n",
    "        sum = sum + rem * pow(10,l)\n",
    "        l = l - 1\n",
    "    else:\n",
    "        if ori_num == sum:\n",
    "            return 'true'\n",
    "        else:\n",
    "            return 'false'"
   ]
  },
  {
   "cell_type": "code",
   "execution_count": 51,
   "id": "62f8286e",
   "metadata": {},
   "outputs": [
    {
     "name": "stdout",
     "output_type": "stream",
     "text": [
      "12345\n",
      "false\n",
      "false\n"
     ]
    }
   ],
   "source": [
    "num = int(input())\n",
    "length = len(str(num))\n",
    "#num = int(num)\n",
    "isPalindrome = checkPalindrome(num)\n",
    "print(isPalindrome)\n",
    "if(isPalindrome == 'true'):\n",
    "    print('true')\n",
    "else:\n",
    "    print('false')"
   ]
  },
  {
   "cell_type": "code",
   "execution_count": 52,
   "id": "ed1a5cd3",
   "metadata": {},
   "outputs": [
    {
     "name": "stdout",
     "output_type": "stream",
     "text": [
      "1032\n",
      "2301\n"
     ]
    }
   ],
   "source": [
    "num = str(1032) \n",
    "num1 = str(num[::-1])\n",
    "num2 = int(num1)\n",
    "\n",
    "print(num)\n",
    "print(num1)"
   ]
  },
  {
   "cell_type": "code",
   "execution_count": 57,
   "id": "8f175bc4",
   "metadata": {},
   "outputs": [
    {
     "name": "stdout",
     "output_type": "stream",
     "text": [
      "0\n",
      "100\n",
      "20\n",
      "0   -17\n",
      "20   -6\n",
      "40   4\n",
      "60   15\n",
      "80   26\n",
      "100   37\n"
     ]
    }
   ],
   "source": [
    "\n",
    "def printTable(start,end,step):\n",
    "    for i in range(start,end+1,step):\n",
    "        freh = ((i-32)*5)/9\n",
    "        print(i,' ',int(freh))\n",
    "        \n",
    "\t\n",
    "\n",
    "\t   \n",
    "s = int(input())\n",
    "e = int(input())\n",
    "step = int(input())\n",
    "printTable(s,e,step)"
   ]
  },
  {
   "cell_type": "code",
   "execution_count": null,
   "id": "2f4afd2d",
   "metadata": {},
   "outputs": [],
   "source": []
  }
 ],
 "metadata": {
  "kernelspec": {
   "display_name": "Python 3 (ipykernel)",
   "language": "python",
   "name": "python3"
  },
  "language_info": {
   "codemirror_mode": {
    "name": "ipython",
    "version": 3
   },
   "file_extension": ".py",
   "mimetype": "text/x-python",
   "name": "python",
   "nbconvert_exporter": "python",
   "pygments_lexer": "ipython3",
   "version": "3.9.7"
  }
 },
 "nbformat": 4,
 "nbformat_minor": 5
}
