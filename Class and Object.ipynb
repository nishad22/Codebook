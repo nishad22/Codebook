{
 "cells": [
  {
   "cell_type": "code",
   "execution_count": 21,
   "id": "c923b283",
   "metadata": {},
   "outputs": [],
   "source": [
    "#how to define a class in python\n",
    "class Book:\n",
    "    #simple class attribute/global variable of class \n",
    "    title ='Harry Potter'\n",
    "    author = 'J.K Rowling'\n",
    "    \n",
    "      #sample method\n",
    "    def fun(self):\n",
    "        print('Book title is',self.title)\n",
    "        print('Book author is',self.author)\n",
    "    \n",
    "    \n",
    "    \n",
    "    "
   ]
  },
  {
   "cell_type": "code",
   "execution_count": 25,
   "id": "841964b8",
   "metadata": {},
   "outputs": [
    {
     "name": "stdout",
     "output_type": "stream",
     "text": [
      "Nagas\n",
      "Nagas\n",
      "Book title is Nagas\n",
      "Book author is J.K Rowling\n",
      "----------------\n"
     ]
    }
   ],
   "source": [
    "#object instantiation\n",
    "Novel = Book()\n",
    "\n",
    "#accessing class variable through menthod and attribute\n",
    "print(Book().title)\n",
    "Book.title = 'Nagas'\n",
    "print(Book().title)\n",
    "#print('Novel Object:',Novel.fun())\n",
    "Novel.fun()\n",
    "print('----------------')\n"
   ]
  },
  {
   "cell_type": "code",
   "execution_count": null,
   "id": "34cbaff2",
   "metadata": {},
   "outputs": [],
   "source": [
    "#__init__ method are also called as special method in python\n",
    "\n",
    "class Person:\n",
    "    \n",
    "    #init method or construtor\n",
    "    #instance/object attribute whose value will change as per instance created\n",
    "    def __init__(self,name,age):\n",
    "        #intialize the object variable of a class\n",
    "        self.name  = name\n",
    "        self.age = age\n",
    "    \n",
    "    #getter method\n",
    "    def getValue(self):\n",
    "        print('Name of Person',self.name)\n",
    "        print('Age of a Person',self.age)\n",
    "        \n",
    "\n",
    "#instance of class\n",
    "\n",
    "Person1 = Person('Nishad',23)\n",
    "#print(Person1.name)\n",
    "#print(Person1.age)\n",
    "#accessing class variable through method\n",
    "Person1.getValue()\n",
    "print('by using special attribute __dict__ with class Object:',Person1.__dict__)\n",
    "print('-----------------------')\n",
    "Person2 = Person('Raj',20)\n",
    "#print(Person2.name)\n",
    "#print(Person2.age)\n",
    "#accessing class variable through method\n",
    "Person2.getValue()\n",
    "\n",
    "#get the attribute of class getattr() if attribute is not present it will throw error\n",
    "print(getattr(Person2,'name'))\n",
    "\n",
    "#check if attribute is present in class \n",
    "print(hasattr(Person2,'name'))\n",
    "\n",
    "#delete attribute if present\n",
    "delattr(Person2,'age')\n",
    "Person2.getValue()\n",
    "#below code will give memory address of a instance of class\n",
    "print(Person1)"
   ]
  },
  {
   "cell_type": "code",
   "execution_count": 1,
   "id": "66e69d4e",
   "metadata": {},
   "outputs": [
    {
     "name": "stdout",
     "output_type": "stream",
     "text": [
      "Andriod\n",
      "MacOS\n"
     ]
    }
   ],
   "source": [
    "# using get and set method to intialize and print class variable\n",
    "\n",
    "class Mobile:\n",
    "    #instance method used so that user should not interact directly with instance attribute\n",
    "    #instance method can be accessed by class object.I should access using instance of a class\n",
    "    def setOSVersion(self,version):\n",
    "        self.version =  version\n",
    "    \n",
    "    #instance method\n",
    "    def getOSVersion(self):\n",
    "        return self.version\n",
    "    \n",
    "OnePlus = Mobile()\n",
    "Iphone = Mobile()\n",
    "OnePlus.setOSVersion('Andriod')\n",
    "Iphone.setOSVersion('MacOS')\n",
    "print(OnePlus.getOSVersion())\n",
    "print(Iphone.getOSVersion())\n",
    "\n",
    "    "
   ]
  },
  {
   "cell_type": "markdown",
   "id": "5bb2adf3",
   "metadata": {},
   "source": [
    "### Static Method"
   ]
  },
  {
   "cell_type": "code",
   "execution_count": 2,
   "id": "23c06c0d",
   "metadata": {},
   "outputs": [
    {
     "data": {
      "text/plain": [
       "'Your opening balance is less than limit'"
      ]
     },
     "execution_count": 2,
     "metadata": {},
     "output_type": "execute_result"
    }
   ],
   "source": [
    "\n",
    "\n",
    "\n",
    "class ExpenseTracker:\n",
    "    #class attribute\n",
    "    expense_version_tracker=0.1\n",
    "    def __init__(self,track_category,original_balance,budget):\n",
    "        #instance/object Attributes\n",
    "        self.tracking_category=track_category\n",
    "        self.original_balance=original_balance\n",
    "        self.tracker_budget=budget\n",
    "        #instance method\n",
    "    def get_original_balance(self):\n",
    "        return self.original_balance\n",
    "    def check_balance(self,limit=1000):\n",
    "        if self.tracker_budget>=limit:\n",
    "            return True\n",
    "        else:\n",
    "            return \"Your opening balance is less than limit\"\n",
    "    @staticmethod\n",
    "    def convert_amount(amount):\n",
    "            return float(amount)\n",
    "    \n",
    "obj=ExpenseTracker(\"Home\",0,10000)\n",
    "obj2=ExpenseTracker(\"Business\",10000,100000)\n",
    "obj.get_original_balance()\n",
    "obj.convert_amount(1000)\n",
    "obj2.get_original_balance()\n",
    "obj.check_balance()\n",
    "obj.check_balance(limit=100000)"
   ]
  },
  {
   "cell_type": "markdown",
   "id": "87720f42",
   "metadata": {},
   "source": [
    "### Class Method"
   ]
  },
  {
   "cell_type": "code",
   "execution_count": 4,
   "id": "b086ec0f",
   "metadata": {},
   "outputs": [],
   "source": [
    "class ExpenseTracker:\n",
    "    #class attribute\n",
    "    expense_version_tracker=0.1\n",
    "    def __init__(self,track_category,original_balance,budget):\n",
    "        #instance/object Attributes\n",
    "        self.tracking_category=track_category\n",
    "        self.original_balance=original_balance\n",
    "        self.tracker_budget=budget\n",
    "        #instance method\n",
    "    def get_original_balance(self):\n",
    "        return self.original_balance\n",
    "    def check_balance(self,limit=1000):\n",
    "        if self.tracker_budget>=limit:\n",
    "            return True\n",
    "        else:\n",
    "            return \"Your opening balance is less than limit\"\n",
    "    @staticmethod\n",
    "    def convert_amount(amount):\n",
    "            return float(amount)\n",
    "    @classmethod\n",
    "    def get_attributes_fromstring(cls,diary_entry:str):\n",
    "        tracking_category,opening_balance,tracker_budget=diary_entry.split(\" \")\n",
    "        return ExpenseTracker(tracking_category.capitalize(),\n",
    "                             cls.convert_amount(opening_balance),\n",
    "                             cls.convert_amount(tracker_budget))\n"
   ]
  },
  {
   "cell_type": "code",
   "execution_count": 8,
   "id": "7dd88718",
   "metadata": {},
   "outputs": [
    {
     "name": "stdout",
     "output_type": "stream",
     "text": [
      "<class '__main__.ExpenseTracker'>\n"
     ]
    }
   ],
   "source": [
    "ClassObject=ExpenseTracker.get_attributes_fromstring(\"shopping 100 5000\")\n",
    "print(type(ClassObject))"
   ]
  },
  {
   "cell_type": "code",
   "execution_count": 6,
   "id": "b3b5777f",
   "metadata": {},
   "outputs": [
    {
     "data": {
      "text/plain": [
       "{'tracking_category': 'Shopping',\n",
       " 'original_balance': 100.0,\n",
       " 'tracker_budget': 5000.0}"
      ]
     },
     "execution_count": 6,
     "metadata": {},
     "output_type": "execute_result"
    }
   ],
   "source": [
    "ClassObject.__dict__"
   ]
  },
  {
   "cell_type": "code",
   "execution_count": 5,
   "id": "f6972779",
   "metadata": {},
   "outputs": [
    {
     "ename": "AttributeError",
     "evalue": "'Student' object has no attribute 'name'",
     "output_type": "error",
     "traceback": [
      "\u001b[1;31m---------------------------------------------------------------------------\u001b[0m",
      "\u001b[1;31mAttributeError\u001b[0m                            Traceback (most recent call last)",
      "\u001b[1;32m~\\AppData\\Local\\Temp/ipykernel_16296/2217067291.py\u001b[0m in \u001b[0;36m<module>\u001b[1;34m\u001b[0m\n\u001b[0;32m      8\u001b[0m \u001b[1;33m\u001b[0m\u001b[0m\n\u001b[0;32m      9\u001b[0m \u001b[0ms\u001b[0m \u001b[1;33m=\u001b[0m \u001b[0mStudent\u001b[0m\u001b[1;33m(\u001b[0m\u001b[1;34m'Rohan'\u001b[0m\u001b[1;33m,\u001b[0m\u001b[1;36m20\u001b[0m\u001b[1;33m)\u001b[0m\u001b[1;33m\u001b[0m\u001b[1;33m\u001b[0m\u001b[0m\n\u001b[1;32m---> 10\u001b[1;33m \u001b[0mprint\u001b[0m\u001b[1;33m(\u001b[0m\u001b[0ms\u001b[0m\u001b[1;33m.\u001b[0m\u001b[0mname\u001b[0m\u001b[1;33m)\u001b[0m\u001b[1;33m\u001b[0m\u001b[1;33m\u001b[0m\u001b[0m\n\u001b[0m",
      "\u001b[1;31mAttributeError\u001b[0m: 'Student' object has no attribute 'name'"
     ]
    }
   ],
   "source": [
    "class Student:\n",
    "    def __init__(self,name,age):\n",
    "        self.__name = name\n",
    "        self.age = age\n",
    "    def print_student_details():\n",
    "        print(self.__name, end= '')\n",
    "        print(self.age)\n",
    "\n",
    "s = Student('Rohan',20)\n",
    "print(s.name)"
   ]
  },
  {
   "cell_type": "code",
   "execution_count": 7,
   "id": "cc124ae6",
   "metadata": {},
   "outputs": [
    {
     "ename": "AttributeError",
     "evalue": "'Student' object has no attribute 'age'",
     "output_type": "error",
     "traceback": [
      "\u001b[1;31m---------------------------------------------------------------------------\u001b[0m",
      "\u001b[1;31mAttributeError\u001b[0m                            Traceback (most recent call last)",
      "\u001b[1;32m~\\AppData\\Local\\Temp/ipykernel_16296/4191161600.py\u001b[0m in \u001b[0;36m<module>\u001b[1;34m\u001b[0m\n\u001b[0;32m      8\u001b[0m \u001b[0ms\u001b[0m\u001b[1;33m.\u001b[0m\u001b[0mstore_details\u001b[0m\u001b[1;33m(\u001b[0m\u001b[1;33m)\u001b[0m\u001b[1;33m\u001b[0m\u001b[1;33m\u001b[0m\u001b[0m\n\u001b[0;32m      9\u001b[0m \u001b[0ms1\u001b[0m \u001b[1;33m=\u001b[0m \u001b[0mStudent\u001b[0m\u001b[1;33m(\u001b[0m\u001b[1;33m)\u001b[0m\u001b[1;33m\u001b[0m\u001b[1;33m\u001b[0m\u001b[0m\n\u001b[1;32m---> 10\u001b[1;33m \u001b[0ms1\u001b[0m\u001b[1;33m.\u001b[0m\u001b[0mprint_age\u001b[0m\u001b[1;33m(\u001b[0m\u001b[1;33m)\u001b[0m\u001b[1;33m\u001b[0m\u001b[1;33m\u001b[0m\u001b[0m\n\u001b[0m",
      "\u001b[1;32m~\\AppData\\Local\\Temp/ipykernel_16296/4191161600.py\u001b[0m in \u001b[0;36mprint_age\u001b[1;34m(self)\u001b[0m\n\u001b[0;32m      4\u001b[0m         \u001b[0mself\u001b[0m\u001b[1;33m.\u001b[0m\u001b[0mage\u001b[0m \u001b[1;33m=\u001b[0m \u001b[1;36m60\u001b[0m\u001b[1;33m\u001b[0m\u001b[1;33m\u001b[0m\u001b[0m\n\u001b[0;32m      5\u001b[0m     \u001b[1;32mdef\u001b[0m \u001b[0mprint_age\u001b[0m\u001b[1;33m(\u001b[0m\u001b[0mself\u001b[0m\u001b[1;33m)\u001b[0m\u001b[1;33m:\u001b[0m\u001b[1;33m\u001b[0m\u001b[1;33m\u001b[0m\u001b[0m\n\u001b[1;32m----> 6\u001b[1;33m         \u001b[0mprint\u001b[0m\u001b[1;33m(\u001b[0m\u001b[0mself\u001b[0m\u001b[1;33m.\u001b[0m\u001b[0mage\u001b[0m\u001b[1;33m)\u001b[0m\u001b[1;33m\u001b[0m\u001b[1;33m\u001b[0m\u001b[0m\n\u001b[0m\u001b[0;32m      7\u001b[0m \u001b[0ms\u001b[0m \u001b[1;33m=\u001b[0m \u001b[0mStudent\u001b[0m\u001b[1;33m(\u001b[0m\u001b[1;33m)\u001b[0m\u001b[1;33m\u001b[0m\u001b[1;33m\u001b[0m\u001b[0m\n\u001b[0;32m      8\u001b[0m \u001b[0ms\u001b[0m\u001b[1;33m.\u001b[0m\u001b[0mstore_details\u001b[0m\u001b[1;33m(\u001b[0m\u001b[1;33m)\u001b[0m\u001b[1;33m\u001b[0m\u001b[1;33m\u001b[0m\u001b[0m\n",
      "\u001b[1;31mAttributeError\u001b[0m: 'Student' object has no attribute 'age'"
     ]
    }
   ],
   "source": [
    "class Student:\n",
    "    name = 'Parikh'\n",
    "    def store_details(self):\n",
    "        self.age = 60\n",
    "    def print_age(self):\n",
    "        print(self.age)\n",
    "s = Student()\n",
    "s.store_details()\n",
    "s1 = Student()\n",
    "s1.print_age()"
   ]
  },
  {
   "cell_type": "code",
   "execution_count": 1,
   "id": "feb023ef",
   "metadata": {},
   "outputs": [],
   "source": [
    "class House():\n",
    "    def __init__(self,price,date):\n",
    "        self.date = date\n",
    "        self.price = price\n",
    "        \n",
    "    def printli(self):\n",
    "        while price:\n",
    "            print('this price:',price)"
   ]
  },
  {
   "cell_type": "code",
   "execution_count": null,
   "id": "0fcaf0c3",
   "metadata": {},
   "outputs": [],
   "source": []
  }
 ],
 "metadata": {
  "kernelspec": {
   "display_name": "Python 3 (ipykernel)",
   "language": "python",
   "name": "python3"
  },
  "language_info": {
   "codemirror_mode": {
    "name": "ipython",
    "version": 3
   },
   "file_extension": ".py",
   "mimetype": "text/x-python",
   "name": "python",
   "nbconvert_exporter": "python",
   "pygments_lexer": "ipython3",
   "version": "3.9.7"
  }
 },
 "nbformat": 4,
 "nbformat_minor": 5
}
