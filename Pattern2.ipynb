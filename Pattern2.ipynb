{
 "cells": [
  {
   "cell_type": "markdown",
   "id": "54286c4c",
   "metadata": {},
   "source": [
    "4444\n",
    "333\n",
    "22\n",
    "1"
   ]
  },
  {
   "cell_type": "code",
   "execution_count": 2,
   "id": "174da978",
   "metadata": {},
   "outputs": [
    {
     "name": "stdout",
     "output_type": "stream",
     "text": [
      "4\n",
      "4444\n",
      "333\n",
      "22\n",
      "1\n"
     ]
    }
   ],
   "source": [
    "n = int(input())\n",
    "while n>=1:\n",
    "    j = 1\n",
    "    while n>=j:\n",
    "        print(n,end='')\n",
    "        j = j + 1\n",
    "    n = n - 1\n",
    "    print()\n",
    "    "
   ]
  },
  {
   "cell_type": "markdown",
   "id": "fd354e28",
   "metadata": {},
   "source": [
    "   *\n",
    "  **\n",
    " ***\n",
    "****"
   ]
  },
  {
   "cell_type": "code",
   "execution_count": 3,
   "id": "b8a799ad",
   "metadata": {},
   "outputs": [
    {
     "name": "stdout",
     "output_type": "stream",
     "text": [
      "4\n",
      "   *\n",
      "  **\n",
      " ***\n",
      "****\n"
     ]
    }
   ],
   "source": [
    "n = int(input())\n",
    "i = 1\n",
    "while i<=n:\n",
    "    j = 1\n",
    "    k = 1\n",
    "    while j<=(n-i):\n",
    "        print(\" \",end='')\n",
    "        j += 1\n",
    "    while k<=i:\n",
    "        print(\"*\",end='')\n",
    "        k += 1\n",
    "    i += 1\n",
    "    print()"
   ]
  },
  {
   "cell_type": "markdown",
   "id": "80addda0",
   "metadata": {},
   "source": [
    "   1 \n",
    "  12\n",
    " 123\n",
    "1234"
   ]
  },
  {
   "cell_type": "code",
   "execution_count": 5,
   "id": "03ee7090",
   "metadata": {},
   "outputs": [
    {
     "name": "stdout",
     "output_type": "stream",
     "text": [
      "4\n",
      "   1\n",
      "  12\n",
      " 123\n",
      "1234\n"
     ]
    }
   ],
   "source": [
    "n = int(input())\n",
    "i = 1\n",
    "while i<=n:\n",
    "    j = 1\n",
    "    k = 1\n",
    "    while j<=(n-i):\n",
    "        print(\" \",end='')\n",
    "        j += 1\n",
    "    while k<=i:\n",
    "        print(k,end='')\n",
    "        k += 1\n",
    "    i += 1\n",
    "    print()"
   ]
  },
  {
   "cell_type": "markdown",
   "id": "419b4947",
   "metadata": {},
   "source": [
    "   1\n",
    "  121\n",
    " 12321\n",
    "1234321"
   ]
  },
  {
   "cell_type": "code",
   "execution_count": 8,
   "id": "bf51a106",
   "metadata": {},
   "outputs": [
    {
     "name": "stdout",
     "output_type": "stream",
     "text": [
      "5\n",
      "    1\n",
      "   121\n",
      "  12321\n",
      " 1234321\n",
      "123454321\n"
     ]
    }
   ],
   "source": [
    "n = int(input())\n",
    "i = 1\n",
    "while i<=n:\n",
    "    space = 1\n",
    "    k = 1\n",
    "    l = 1\n",
    "    while space<=(n-i):\n",
    "        print(\" \",end='')\n",
    "        space += 1\n",
    "    #increasing \n",
    "    while k<=i:\n",
    "        print(k,end='')\n",
    "        k += 1\n",
    "    #decreasing\n",
    "    while l <= (i-1):\n",
    "        print(i-l,end='')\n",
    "        l += 1\n",
    "    i += 1\n",
    "    print()"
   ]
  },
  {
   "cell_type": "markdown",
   "id": "b4df24b5",
   "metadata": {},
   "source": [
    "    *\n",
    "   *** \n",
    "  *****\n",
    " *******"
   ]
  },
  {
   "cell_type": "code",
   "execution_count": 11,
   "id": "395e4721",
   "metadata": {},
   "outputs": [
    {
     "name": "stdout",
     "output_type": "stream",
     "text": [
      "5\n",
      "    *\n",
      "   ***\n",
      "  *****\n",
      " *******\n",
      "*********\n"
     ]
    }
   ],
   "source": [
    "n = int(input())\n",
    "i = 1\n",
    "while i<=n:\n",
    "    space = 1\n",
    "    k = 1\n",
    "    l = 1\n",
    "    while space<=(n-i):\n",
    "        print(\" \",end='')\n",
    "        space += 1\n",
    "    #increasing \n",
    "    while k<=i:\n",
    "        print('*',end='')\n",
    "        k += 1\n",
    "    #decreasing\n",
    "    while l <= (i-1):\n",
    "        print('*',end='')\n",
    "        l += 1\n",
    "    i += 1\n",
    "    print()"
   ]
  },
  {
   "cell_type": "markdown",
   "id": "f8d252de",
   "metadata": {},
   "source": [
    "    1\n",
    "   232\n",
    "  34543\n",
    " 4567654\n",
    "567898765"
   ]
  },
  {
   "cell_type": "code",
   "execution_count": 21,
   "id": "5f734259",
   "metadata": {},
   "outputs": [
    {
     "name": "stdout",
     "output_type": "stream",
     "text": [
      "4\n",
      "   1\n",
      "  232\n",
      " 34543\n",
      "4567654\n"
     ]
    }
   ],
   "source": [
    "n = int(input())\n",
    "i = 1\n",
    "while i<=n:\n",
    "    space = 1\n",
    "    k = 1\n",
    "    l = 1\n",
    "    max_num = 0\n",
    "    while space<=(n-i):\n",
    "        print(\" \",end='')\n",
    "        space += 1\n",
    "    #increasing \n",
    "    while k<=i:\n",
    "        print(i+k-1,end='')\n",
    "        k += 1\n",
    "        max_num = (i+k-1)-1\n",
    "    #decreasing\n",
    "    while l <= (i-1):\n",
    "        print(max_num-l,end='')\n",
    "        l += 1\n",
    "    i += 1\n",
    "    print()"
   ]
  },
  {
   "cell_type": "code",
   "execution_count": 7,
   "id": "ec218a1d",
   "metadata": {},
   "outputs": [
    {
     "name": "stdout",
     "output_type": "stream",
     "text": [
      "5\n",
      "  *\n",
      " ***\n",
      "*****\n",
      " ***\n",
      "  *\n"
     ]
    }
   ],
   "source": [
    "n = int(input())\n",
    "i = 1\n",
    "n1 = (n+1)/2\n",
    "n2 = n1 - 1\n",
    "while i<= n1:\n",
    "    j, space = 1,1\n",
    "    while space<= n1 - i:\n",
    "        print(\" \",end='')\n",
    "        space += 1\n",
    "    while j <= (2*i)-1:\n",
    "        print('*',end='')\n",
    "        j += 1\n",
    "    i += 1\n",
    "    print()\n",
    "\n",
    "k = n2\n",
    "while k>=1:\n",
    "    l ,space = 1,1\n",
    "    while space<=(n2-k)+1:\n",
    "        print(' ',end='')\n",
    "        space += 1\n",
    "    while l<=2*k-1:\n",
    "        print('*',end='')\n",
    "        l += 1\n",
    "    k -= 1\n",
    "    print()"
   ]
  },
  {
   "cell_type": "markdown",
   "id": "df6ba751",
   "metadata": {},
   "source": [
    "*****\n",
    " ***\n",
    "  *"
   ]
  },
  {
   "cell_type": "code",
   "execution_count": 32,
   "id": "77f95b20",
   "metadata": {},
   "outputs": [
    {
     "name": "stdout",
     "output_type": "stream",
     "text": [
      "3\n",
      "*****\n",
      " ***\n",
      "  *\n"
     ]
    }
   ],
   "source": [
    "n = int(input())\n",
    "i = n\n",
    "while n>=1:\n",
    "    space = 1\n",
    "    j = 1\n",
    "    l = 1\n",
    "    while space<=i-n:\n",
    "        print(\" \",end='')\n",
    "        space += 1\n",
    "    while n>=j:\n",
    "        print('*',end='')\n",
    "        j = j + 1\n",
    "    while n-1>=l:\n",
    "        print('*',end='')\n",
    "        l += 1\n",
    "    print()\n",
    "    n -= 1\n",
    "    "
   ]
  },
  {
   "cell_type": "markdown",
   "id": "9195a436",
   "metadata": {},
   "source": [
    "1        1\n",
    "12      21\n",
    "123    321\n",
    "1234  4321\n",
    "1234554321"
   ]
  },
  {
   "cell_type": "code",
   "execution_count": 1,
   "id": "672baea9",
   "metadata": {},
   "outputs": [
    {
     "name": "stdout",
     "output_type": "stream",
     "text": [
      "5\n",
      "1        1\n",
      "12      21\n",
      "123    321\n",
      "1234  4321\n",
      "1234554321\n"
     ]
    }
   ],
   "source": [
    "n = int(input())\n",
    "i = 1\n",
    "while i<=n:\n",
    "    j,k,space = 1,1,1\n",
    "    l = i\n",
    "    while j<=i:\n",
    "        print(j,end='')\n",
    "        j += 1\n",
    "    while space <= (2*n) - (2*i):\n",
    "        print(\" \",end='')\n",
    "        space += 1\n",
    "    while k<=i:\n",
    "        print(l,end='')\n",
    "        l -= 1\n",
    "        k += 1\n",
    "    print()\n",
    "    i += 1"
   ]
  },
  {
   "cell_type": "markdown",
   "id": "f990fc8e",
   "metadata": {},
   "source": [
    "n = 4\n",
    "\n",
    "*000*000*\n",
    "0*00*00*0\n",
    "00*0*0*00\n",
    "000***000\n",
    "\n",
    "n = 3\n",
    "\n",
    "*00*00*\n",
    "0*0*0*0\n",
    "00***00"
   ]
  },
  {
   "cell_type": "code",
   "execution_count": 10,
   "id": "0cb4372e",
   "metadata": {},
   "outputs": [
    {
     "name": "stdout",
     "output_type": "stream",
     "text": [
      "4\n",
      "*000*000*\n",
      "0*00*00*0\n",
      "00*0*0*00\n",
      "000***000\n"
     ]
    }
   ],
   "source": [
    "n = int(input())\n",
    "i = 1\n",
    "while i<=n:\n",
    "    j = 1\n",
    "    while j<= (2*n)+1:\n",
    "        if i == j or j == (2*n+2)/2 or i+j == 2*n+2:\n",
    "            print('*',end='')\n",
    "        else:\n",
    "            print('0',end='')\n",
    "        j += 1\n",
    "    i += 1\n",
    "    print()"
   ]
  },
  {
   "cell_type": "markdown",
   "id": "957d69e8",
   "metadata": {},
   "source": [
    "n = 5\n",
    "\n",
    "    1\n",
    "   212\n",
    "  32123\n",
    " 4321234\n",
    "543212345"
   ]
  },
  {
   "cell_type": "code",
   "execution_count": 11,
   "id": "1ffa33bc",
   "metadata": {},
   "outputs": [
    {
     "name": "stdout",
     "output_type": "stream",
     "text": [
      "5\n",
      "    1\n",
      "   212\n",
      "  32123\n",
      " 4321234\n",
      "543212345\n"
     ]
    }
   ],
   "source": [
    "n = int(input())\n",
    "i = 1\n",
    "while i<=n:\n",
    "    j,k,space = i,2,1\n",
    "    while space <= n-i:\n",
    "        print(' ',end='')\n",
    "        space += 1\n",
    "    while j>=1:\n",
    "        print(j,end='')\n",
    "        j -= 1\n",
    "    while k<=i:\n",
    "        print(k,end='')\n",
    "        k += 1\n",
    "    print()\n",
    "    i += 1"
   ]
  },
  {
   "cell_type": "markdown",
   "id": "56c926a1",
   "metadata": {},
   "source": [
    "n = 7\n",
    "*\n",
    " * *\n",
    "   * * *\n",
    "     * * * *\n",
    "   * * *\n",
    " * *\n",
    "*"
   ]
  },
  {
   "cell_type": "code",
   "execution_count": 18,
   "id": "88da1917",
   "metadata": {},
   "outputs": [
    {
     "name": "stdout",
     "output_type": "stream",
     "text": [
      "9\n",
      "* \n",
      " * * \n",
      "  * * * \n",
      "   * * * * \n",
      "    * * * * * \n",
      "   * * * * \n",
      "  * * * \n",
      " * * \n",
      "* \n"
     ]
    }
   ],
   "source": [
    "n = int(input())\n",
    "\n",
    "#upper part\n",
    "i = 1\n",
    "n1 = (n+1)/2\n",
    "n2 = n//2\n",
    "while i<=n1:\n",
    "    j,space = 1,1\n",
    "    while space<=i-1:\n",
    "        print(\" \",end='')\n",
    "        space += 1\n",
    "    while j<=i:\n",
    "        print(\"* \",end='')\n",
    "        j += 1\n",
    "    print()\n",
    "    i += 1\n",
    "    \n",
    "#lower part\n",
    "while n2>=1:\n",
    "    j,space = 1,1\n",
    "    while space<= n2-1:\n",
    "        print(\" \",end='')\n",
    "        space += 1\n",
    "    while j<=n2:\n",
    "        print(\"* \",end='')\n",
    "        j += 1\n",
    "    print()\n",
    "    n2 -= 1"
   ]
  },
  {
   "cell_type": "code",
   "execution_count": null,
   "id": "0aa1cd50",
   "metadata": {},
   "outputs": [],
   "source": []
  },
  {
   "cell_type": "code",
   "execution_count": null,
   "id": "5e2e3071",
   "metadata": {},
   "outputs": [],
   "source": []
  }
 ],
 "metadata": {
  "kernelspec": {
   "display_name": "Python 3 (ipykernel)",
   "language": "python",
   "name": "python3"
  },
  "language_info": {
   "codemirror_mode": {
    "name": "ipython",
    "version": 3
   },
   "file_extension": ".py",
   "mimetype": "text/x-python",
   "name": "python",
   "nbconvert_exporter": "python",
   "pygments_lexer": "ipython3",
   "version": "3.9.7"
  }
 },
 "nbformat": 4,
 "nbformat_minor": 5
}
