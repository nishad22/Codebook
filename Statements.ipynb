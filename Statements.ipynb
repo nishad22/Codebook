{
 "cells": [
  {
   "cell_type": "code",
   "execution_count": 8,
   "id": "eb6ad43b",
   "metadata": {},
   "outputs": [
    {
     "name": "stdout",
     "output_type": "stream",
     "text": [
      "Family\n"
     ]
    }
   ],
   "source": [
    "#if elif else\n",
    "\n",
    "name = \"Dev\"\n",
    "\n",
    "if name == \"Nishad\":\n",
    "    print(\"I am an Engineer\")\n",
    "elif name == \"Prarthana\":\n",
    "    print(\"I am a CA\")\n",
    "elif name == \"Raj\":\n",
    "    print(\"I am doing BBA\")\n",
    "else:\n",
    "    print(\"Family\")\n"
   ]
  },
  {
   "cell_type": "code",
   "execution_count": 12,
   "id": "1aa3b228",
   "metadata": {},
   "outputs": [
    {
     "name": "stdout",
     "output_type": "stream",
     "text": [
      "1  is odd\n",
      "2  is even\n",
      "3  is odd\n",
      "4  is even\n",
      "5  is odd\n",
      "6  is even\n"
     ]
    }
   ],
   "source": [
    "#for loop for iterating list, dict, arrays etc\n",
    "    \n",
    "mylist = [1,2,3,4,5,6]\n",
    "\n",
    "for num in mylist:\n",
    "    if (num%2==0):\n",
    "        print(num, \" is even\")\n",
    "    else:\n",
    "        print(num, \" is odd\")\n"
   ]
  },
  {
   "cell_type": "code",
   "execution_count": 2,
   "id": "c72001db",
   "metadata": {},
   "outputs": [
    {
     "name": "stdout",
     "output_type": "stream",
     "text": [
      "0\n",
      "1\n",
      "2\n",
      "3\n"
     ]
    }
   ],
   "source": [
    "#for loop for range \n",
    "\n",
    "for i in range(0,4):\n",
    "    print(i)"
   ]
  },
  {
   "cell_type": "code",
   "execution_count": null,
   "id": "28a66daf",
   "metadata": {},
   "outputs": [],
   "source": []
  }
 ],
 "metadata": {
  "kernelspec": {
   "display_name": "Python 3 (ipykernel)",
   "language": "python",
   "name": "python3"
  },
  "language_info": {
   "codemirror_mode": {
    "name": "ipython",
    "version": 3
   },
   "file_extension": ".py",
   "mimetype": "text/x-python",
   "name": "python",
   "nbconvert_exporter": "python",
   "pygments_lexer": "ipython3",
   "version": "3.9.7"
  }
 },
 "nbformat": 4,
 "nbformat_minor": 5
}
