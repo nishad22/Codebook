{
 "cells": [
  {
   "cell_type": "code",
   "execution_count": 30,
   "id": "18761c4d",
   "metadata": {},
   "outputs": [
    {
     "name": "stdout",
     "output_type": "stream",
     "text": [
      "1 : 1000\n",
      "3 : 1900\n",
      "5 : 1990\n",
      "7 : 1994\n",
      "1995\n"
     ]
    }
   ],
   "source": [
    "#convert roman to integer\n",
    "'''\n",
    "Roman numerals are represented by seven different symbols: I, V, X, L, C, D and M.\n",
    "\n",
    "Symbol       Value\n",
    "I             1\n",
    "V             5\n",
    "X             10\n",
    "L             50\n",
    "C             100\n",
    "D             500\n",
    "M             1000\n",
    "\n",
    "For example, 2 is written as II in Roman numeral, just two one's added together. 12 is written as XII, which is simply X + II. The number 27 is written as XXVII, which is XX + V + II.\n",
    "\n",
    "Roman numerals are usually written largest to smallest from left to right. However, the numeral for four is not IIII. Instead, the number four is written as IV. Because the one is before the five we subtract it making four. The same principle applies to the number nine, which is written as IX. There are six instances where subtraction is used:\n",
    "\n",
    "I can be placed before V (5) and X (10) to make 4 and 9. \n",
    "X can be placed before L (50) and C (100) to make 40 and 90. \n",
    "C can be placed before D (500) and M (1000) to make 400 and 900.\n",
    "Given a roman numeral, convert it to an integer.\n",
    "\n",
    " \n",
    "\n",
    "Example 1:\n",
    "\n",
    "Input: s = \"III\"\n",
    "Output: 3\n",
    "Explanation: III = 3.\n",
    "Example 2:\n",
    "\n",
    "Input: s = \"LVIII\"\n",
    "Output: 58\n",
    "Explanation: L = 50, V= 5, III = 3.\n",
    "Example 3:\n",
    "\n",
    "Input: s = \"MCMXCIV\"\n",
    "Output: 1994\n",
    "Explanation: M = 1000, CM = 900, XC = 90 and IV = 4.\n",
    "\n",
    "'''\n",
    "\n",
    "\n",
    "di = {'I':1,'V':5,'X':10,'L':50,'C':100,'D':500,'M':1000}\n",
    "#s = \"LVIII\"\n",
    "#s = \"MCMXCIV\"\n",
    "#s = 'III'\n",
    "sum = 0\n",
    "i = 0\n",
    "if len(s)%2 ==0:\n",
    "    n = len(s)\n",
    "else:\n",
    "    n = len(s)-1\n",
    "while i < n:\n",
    "    if (s[i]=='I' and s[i+1]=='V') or (s[i]=='I' and s[i+1]=='X'):\n",
    "        sum = sum + di[s[i+1]] - di[s[i]]\n",
    "        i = i + 2\n",
    "        print(i,':',sum)\n",
    "    elif (s[i]=='X' and s[i+1]=='L') or (s[i]=='X' and s[i+1]=='C'):\n",
    "        sum = sum + di[s[i+1]] - di[s[i]]\n",
    "        i = i + 2\n",
    "        print(i,':',sum)\n",
    "    elif (s[i]=='C' and s[i+1]=='D') or (s[i]=='C' and s[i+1]=='M'):\n",
    "        sum = sum + di[s[i+1]] - di[s[i]]\n",
    "        i = i + 2\n",
    "        print(i,':',sum)\n",
    "    else:\n",
    "        sum =  sum + di[s[i]]\n",
    "        i +=1\n",
    "        print(i,':',sum)\n",
    "\n",
    "if len(s)%2 ==0:\n",
    "    print(sum)\n",
    "else:\n",
    "    print(sum+1)"
   ]
  },
  {
   "cell_type": "code",
   "execution_count": 38,
   "id": "89c27b8a",
   "metadata": {},
   "outputs": [
    {
     "name": "stdout",
     "output_type": "stream",
     "text": [
      "1994\n"
     ]
    }
   ],
   "source": [
    "di = {'I':1,'V':5,'X':10,'L':50,'C':100,'D':500,'M':1000}\n",
    "#s = \"LVIII\"\n",
    "s = \"MCMXCIV\"\n",
    "#s = 'V'\n",
    "sum = 0\n",
    "#i = 0\n",
    "\n",
    "for i in range(len(s)):\n",
    "    if i+1<len(s) and di[s[i]]<di[s[i+1]]:\n",
    "        sum = sum - di[s[i]]\n",
    "    else:\n",
    "        sum = sum + di[s[i]]\n",
    "                                    \n",
    "                                    \n",
    "                                  \n",
    "print(sum)"
   ]
  },
  {
   "cell_type": "code",
   "execution_count": 35,
   "id": "6f44d0de",
   "metadata": {},
   "outputs": [
    {
     "name": "stdout",
     "output_type": "stream",
     "text": [
      "CD\n"
     ]
    }
   ],
   "source": [
    "st = 'ABCD'\n",
    "st = st[2:]\n",
    "print(st)"
   ]
  },
  {
   "cell_type": "code",
   "execution_count": 2,
   "id": "10a41d75",
   "metadata": {},
   "outputs": [
    {
     "name": "stdout",
     "output_type": "stream",
     "text": [
      "4\n"
     ]
    }
   ],
   "source": [
    "strs = [\"flower\",\"flow\",\"flight\"]\n",
    "le = len(strs[0])\n",
    "\n",
    "for s in strs:\n",
    "    if len(s)<le:\n",
    "        le = len(s)\n",
    "print(le)\n",
    "\n"
   ]
  },
  {
   "cell_type": "code",
   "execution_count": 4,
   "id": "9e211ddf",
   "metadata": {},
   "outputs": [
    {
     "data": {
      "text/plain": [
       "'flo'"
      ]
     },
     "execution_count": 4,
     "metadata": {},
     "output_type": "execute_result"
    }
   ],
   "source": [
    "strs[0][0:3]"
   ]
  },
  {
   "cell_type": "code",
   "execution_count": null,
   "id": "073bb3fb",
   "metadata": {},
   "outputs": [],
   "source": [
    "'''Write a function to find the longest common prefix string amongst an array of strings.\n",
    "\n",
    "If there is no common prefix, return an empty string \"\".\n",
    "\n",
    " \n",
    "\n",
    "Example 1:\n",
    "\n",
    "Input: strs = [\"flower\",\"flow\",\"flight\"]\n",
    "Output: \"fl\"\n",
    "Example 2:\n",
    "\n",
    "Input: strs = [\"dog\",\"racecar\",\"car\"]\n",
    "Output: \"\"\n",
    "Explanation: There is no common prefix among the input strings.'''"
   ]
  },
  {
   "cell_type": "code",
   "execution_count": 35,
   "id": "9513c662",
   "metadata": {},
   "outputs": [],
   "source": [
    "def min_length_string(li):\n",
    "    le = len(li[0])\n",
    "    for i in li:\n",
    "        if len(i)<le:\n",
    "            le = len(i)\n",
    "    return le\n",
    "\n",
    "def contains_all_element(arr,str,low,high):\n",
    "    for i in range(len(arr)):\n",
    "        word = arr[i]\n",
    "        for j in range(low,high+1):\n",
    "            if word[j]!=str[j]:\n",
    "                return False\n",
    "    return True\n",
    "        \n",
    "\n",
    "\n",
    "def common_prefix(arr):\n",
    "    index = min_length_string(arr)\n",
    "    pre = ''\n",
    "    low,high = 0,index-1\n",
    "    while low<=high:\n",
    "        mid = (low+high)//2\n",
    "        if contains_all_element(arr,arr[0],low,mid):\n",
    "            pre = pre + arr[0][low:mid+1]\n",
    "            low = mid + 1\n",
    "        else:\n",
    "            high = mid - 1\n",
    "            \n",
    "    return pre"
   ]
  },
  {
   "cell_type": "code",
   "execution_count": 37,
   "id": "935c6869",
   "metadata": {},
   "outputs": [
    {
     "name": "stdout",
     "output_type": "stream",
     "text": [
      "3\n",
      "fl\n"
     ]
    }
   ],
   "source": [
    "li = [\"flower\",\"flow\",\"fli\"]\n",
    "#li = [\"geeksforgeeks\", \"geeks\",\"geek\", \"geezer\"]\n",
    "le = min_length_string(li)\n",
    "print(le)\n",
    "\n",
    "lcp = common_prefix(li)\n",
    "print(lcp)"
   ]
  },
  {
   "cell_type": "code",
   "execution_count": 39,
   "id": "77e4545d",
   "metadata": {},
   "outputs": [
    {
     "name": "stdout",
     "output_type": "stream",
     "text": [
      "True\n"
     ]
    }
   ],
   "source": [
    "class Student:\n",
    "    def __init__(self,name,age):\n",
    "        self.name = name\n",
    "        self.age = age\n",
    "    def print_student_details():\n",
    "        print(self.name, end='')\n",
    "        print(self.age)\n",
    "\n",
    "    @staticmethod\n",
    "    def isTeen(age):\n",
    "        return age>16\n",
    "\n",
    "a = Student.isTeen(18)\n",
    "print(a)"
   ]
  },
  {
   "cell_type": "code",
   "execution_count": 1,
   "id": "a77e10b9",
   "metadata": {},
   "outputs": [
    {
     "name": "stdout",
     "output_type": "stream",
     "text": [
      "2\n"
     ]
    }
   ],
   "source": [
    "s = '11'\n",
    "print(s.count('1'))"
   ]
  },
  {
   "cell_type": "code",
   "execution_count": 32,
   "id": "cf0e8360",
   "metadata": {},
   "outputs": [],
   "source": [
    "'''\n",
    "Given an integer n, return an array ans of length n + 1 such that for each i (0 <= i <= n), \n",
    "ans[i] is the number of 1's in the binary representation of i.\n",
    "\n",
    "Example 1:\n",
    "\n",
    "Input: n = 2\n",
    "Output: [0,1,1]\n",
    "Explanation:\n",
    "0 --> 0\n",
    "1 --> 1\n",
    "2 --> 10\n",
    "Example 2:\n",
    "\n",
    "Input: n = 5\n",
    "Output: [0,1,1,2,1,2]\n",
    "Explanation:\n",
    "0 --> 0\n",
    "1 --> 1\n",
    "2 --> 10\n",
    "3 --> 11\n",
    "4 --> 100\n",
    "5 --> 101\n",
    " \n",
    "'''\n",
    "\n",
    "def decimal_to_binary(ele):\n",
    "    st=''\n",
    "    while ele!=0:\n",
    "        st = str(ele%2) + st\n",
    "        ele = ele//2\n",
    "    return st\n",
    "\n",
    "def count_one(n):\n",
    "    li = []\n",
    "    for i in range(n+1):\n",
    "        st = decimal_to_binary(i)\n",
    "        li.append(st.count('1'))\n",
    "    return li\n",
    "    "
   ]
  },
  {
   "cell_type": "code",
   "execution_count": 33,
   "id": "6d6fabc1",
   "metadata": {},
   "outputs": [
    {
     "name": "stdout",
     "output_type": "stream",
     "text": [
      "5\n",
      "100\n",
      "[0, 1, 1, 2, 1, 2]\n"
     ]
    }
   ],
   "source": [
    "n = int(input())\n",
    "\n",
    "rev = decimal_to_binary(4)\n",
    "print(rev)\n",
    "li = count_one(n)\n",
    "print(li)"
   ]
  },
  {
   "cell_type": "code",
   "execution_count": 10,
   "id": "8219841d",
   "metadata": {},
   "outputs": [
    {
     "ename": "SyntaxError",
     "evalue": "invalid syntax (Temp/ipykernel_15552/2481206516.py, line 4)",
     "output_type": "error",
     "traceback": [
      "\u001b[1;36m  File \u001b[1;32m\"C:\\Users\\nisha\\AppData\\Local\\Temp/ipykernel_15552/2481206516.py\"\u001b[1;36m, line \u001b[1;32m4\u001b[0m\n\u001b[1;33m    else el==0:\u001b[0m\n\u001b[1;37m         ^\u001b[0m\n\u001b[1;31mSyntaxError\u001b[0m\u001b[1;31m:\u001b[0m invalid syntax\n"
     ]
    }
   ],
   "source": [
    "def dtc(el,st=''):\n",
    "    if el!=0:\n",
    "        return st\n",
    "    else el==0:\n",
    "        return 0\n",
    "    st = str(el%2)+st\n",
    "    return dtc(el//2,st)\n",
    "    \n",
    "    "
   ]
  },
  {
   "cell_type": "code",
   "execution_count": 11,
   "id": "ad770137",
   "metadata": {},
   "outputs": [
    {
     "name": "stdout",
     "output_type": "stream",
     "text": [
      "---> \n"
     ]
    }
   ],
   "source": [
    "rev = dtc(4)\n",
    "print('--->',rev)"
   ]
  },
  {
   "cell_type": "code",
   "execution_count": 1,
   "id": "1feb008b",
   "metadata": {},
   "outputs": [],
   "source": [
    "def dtc(el,st=''):\n",
    "    if el==0:\n",
    "        return\n",
    "    else:\n",
    "        st = st + str(el%2)\n",
    "        dtc(el//2,st)\n",
    "    return st"
   ]
  },
  {
   "cell_type": "code",
   "execution_count": null,
   "id": "405a02af",
   "metadata": {},
   "outputs": [],
   "source": [
    "rev = "
   ]
  },
  {
   "cell_type": "code",
   "execution_count": null,
   "id": "36f88082",
   "metadata": {},
   "outputs": [],
   "source": [
    "def dtc(el,st=''):\n",
    "    if el==0:\n",
    "        return st\n",
    "    else:\n",
    "        st = str(el%2)+st\n",
    "        return dtc(el//2,st)"
   ]
  }
 ],
 "metadata": {
  "kernelspec": {
   "display_name": "Python 3 (ipykernel)",
   "language": "python",
   "name": "python3"
  },
  "language_info": {
   "codemirror_mode": {
    "name": "ipython",
    "version": 3
   },
   "file_extension": ".py",
   "mimetype": "text/x-python",
   "name": "python",
   "nbconvert_exporter": "python",
   "pygments_lexer": "ipython3",
   "version": "3.9.7"
  }
 },
 "nbformat": 4,
 "nbformat_minor": 5
}
