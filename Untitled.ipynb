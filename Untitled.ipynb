{
 "cells": [
  {
   "cell_type": "markdown",
   "id": "9759f34a",
   "metadata": {},
   "source": [
    "'''\n",
    "Given two string s and t, write a function to check if s contains all characters of t (in the same order as they are in string t).\n",
    "Return true or false.\n",
    "Do it recursively.\n",
    "E.g. : s = “abchjsgsuohhdhyrikkknddg” contains all characters of t=”coding” in the same order. So function will return true.\n",
    "Input Format :\n",
    "Line 1 : String s\n",
    "Line 2 : String t\n",
    "Output Format :\n",
    "true or false\n",
    "Sample Input 1 :\n",
    "abchjsgsuohhdhyrikkknddg\n",
    "coding\n",
    "Sample Output 1 :\n",
    "true\n",
    "Sample Input 2 :\n",
    "abcde\n",
    "aeb\n",
    "Sample Output 2 :\n",
    "false\n",
    "\n",
    "\n",
    "'''"
   ]
  },
  {
   "cell_type": "code",
   "execution_count": 7,
   "id": "13cb20a8",
   "metadata": {},
   "outputs": [],
   "source": [
    "def contains(s,t,m,n):\n",
    "    if m==0:\n",
    "        return False\n",
    "    if n == 0:\n",
    "        return True\n",
    "    \n",
    "    if s[m-1]==t[n-1]:\n",
    "        return contains(s,t,m-1,n-1)\n",
    "    else:\n",
    "        return contains(s,t,m-1,n)"
   ]
  },
  {
   "cell_type": "code",
   "execution_count": 10,
   "id": "183c91c4",
   "metadata": {},
   "outputs": [
    {
     "name": "stdout",
     "output_type": "stream",
     "text": [
      "false\n"
     ]
    }
   ],
   "source": [
    "s = 'st3h5irteuyarh!'\n",
    "t = 'shrey'\n",
    "\n",
    "if (contains(s,t,len(s),len(t))):\n",
    "    print('true')\n",
    "else:\n",
    "    print('false')"
   ]
  },
  {
   "cell_type": "markdown",
   "id": "a9524643",
   "metadata": {},
   "source": [
    "Maximum Profit on App\n",
    "Send Feedback\n",
    "You have made a smartphone app and want to set its subscription price such that the profit earned is maximised. There are certain users who will subscribe to your app only if their budget is greater than or equal to your price.\n",
    "You will be provided with a list of size N having budgets of subscribers and you need to return the maximum profit that you can earn.\n",
    "Lets say you decide that price of your app is Rs. x and there are N number of subscribers. So maximum profit you can earn is :\n",
    " m * x\n",
    "where m is total number of subscribers whose budget is greater than or equal to x.\n",
    "Input format :\n",
    "Line 1 : N (No. of subscribers)\n",
    "Line 2 : Budget of subscribers (separated by space)\n",
    "Output Format :\n",
    " Maximum profit\n",
    "Constraints :\n",
    "1 <= N <= 10^6\n",
    "1 <=budget[i]<=9999\n",
    "Sample Input 1 :\n",
    "4\n",
    "30 20 53 14\n",
    "Sample Output 1 :\n",
    "60\n",
    "Sample Output 1 Explanation :\n",
    "Price of your app should be Rs. 20 or Rs. 30. For both prices, you can get the profit Rs. 60.\n",
    "Sample Input 2 :\n",
    "5\n",
    "34 78 90 15 67\n",
    "Sample Output 2 :\n",
    "201\n",
    "Sample Output 2 Explanation :\n",
    "Price of your app should be Rs. 67. You can get the profit Rs. 201 (i.e. 3 * 67)."
   ]
  },
  {
   "cell_type": "code",
   "execution_count": 22,
   "id": "f573176a",
   "metadata": {},
   "outputs": [],
   "source": [
    "import sys\n",
    "\n",
    "def maximumProfit(arr):\n",
    "    n = len(arr)\n",
    "    ans = -sys.maxsize - 1\n",
    "    price = 0\n",
    "    arr.sort()\n",
    "    for i in range(n):\n",
    "        count = (n - i)\n",
    "        if (ans < count * arr[i]):\n",
    "            price = arr[i]\n",
    "            ans = count * arr[i]\n",
    "    return ans\n",
    "\n"
   ]
  },
  {
   "cell_type": "code",
   "execution_count": 23,
   "id": "ef47ce06",
   "metadata": {},
   "outputs": [
    {
     "name": "stdout",
     "output_type": "stream",
     "text": [
      "60\n"
     ]
    }
   ],
   "source": [
    "arr = [30,20,53,14]\n",
    "p =  maximumProfit(arr)\n",
    "print(p)"
   ]
  },
  {
   "cell_type": "markdown",
   "id": "062cfce5",
   "metadata": {},
   "source": [
    "Split Array\n",
    "Send Feedback\n",
    "Given an integer array A of size N, check if the input array can be splitted in two parts such that -\n",
    "- Sum of both parts is equal\n",
    "- All elements in the input, which are divisible by 5 should be in same group.\n",
    "- All elements in the input, which are divisible by 3 (but not divisible by 5) should be in other group.\n",
    "- Elements which are neither divisible by 5 nor by 3, can be put in any group.\n",
    "Groups can be made with any set of elements, i.e. elements need not to be continuous. And you need to consider each and every element of input array in some group.\n",
    "Return true, if array can be split according to the above rules, else return false.\n",
    "Note : You will get marks only if all the test cases are passed.\n",
    "Input Format :\n",
    "Line 1 : Integer N (size of array)\n",
    "Line 2 : Array A elements (separated by space)\n",
    "Output Format :\n",
    "true or false\n",
    "Constraints :\n",
    "1 <= N <= 50\n",
    "Sample Input 1 :\n",
    "2\n",
    "1 2\n",
    "Sample Output 1 :\n",
    "false\n",
    "Sample Input 2 :\n",
    "3\n",
    "1 4 3\n",
    "Sample Output 2 :\n",
    "true"
   ]
  },
  {
   "cell_type": "code",
   "execution_count": 29,
   "id": "49dba535",
   "metadata": {},
   "outputs": [],
   "source": [
    "def split(arr,n):\n",
    "    return sum(arr, n, 0, 0, 0)\n",
    "\n",
    "    \n",
    "def sum(arr, n, start, lsum, rsum):\n",
    "    if (start == n):\n",
    "        return lsum == rsum\n",
    "    if (arr[start] % 5 == 0):\n",
    "        lsum += arr[start]\n",
    "    elif (arr[start] % 3 == 0):\n",
    "        rsum += arr[start]\n",
    "    else:\n",
    "        return (sum(arr, n, start + 1,\n",
    "        lsum + arr[start], rsum) or\n",
    "        sum(arr, n, start + 1,\n",
    "        lsum, rsum + arr[start]));\n",
    "    return sum(arr, n, start + 1, lsum, rsum)"
   ]
  },
  {
   "cell_type": "code",
   "execution_count": 30,
   "id": "9182e197",
   "metadata": {},
   "outputs": [
    {
     "name": "stdout",
     "output_type": "stream",
     "text": [
      "True\n"
     ]
    }
   ],
   "source": [
    "arr = [1,4,3]\n",
    "n = split(arr,len(arr))\n",
    "print(n)"
   ]
  },
  {
   "cell_type": "code",
   "execution_count": null,
   "id": "617a9f6d",
   "metadata": {},
   "outputs": [],
   "source": []
  }
 ],
 "metadata": {
  "kernelspec": {
   "display_name": "Python 3 (ipykernel)",
   "language": "python",
   "name": "python3"
  },
  "language_info": {
   "codemirror_mode": {
    "name": "ipython",
    "version": 3
   },
   "file_extension": ".py",
   "mimetype": "text/x-python",
   "name": "python",
   "nbconvert_exporter": "python",
   "pygments_lexer": "ipython3",
   "version": "3.9.7"
  }
 },
 "nbformat": 4,
 "nbformat_minor": 5
}
