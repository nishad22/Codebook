{
 "cells": [
  {
   "cell_type": "code",
   "execution_count": 1,
   "id": "94c99d73",
   "metadata": {},
   "outputs": [
    {
     "name": "stdout",
     "output_type": "stream",
     "text": [
      "Hello World\n"
     ]
    }
   ],
   "source": [
    "print(\"Hello World\")"
   ]
  },
  {
   "cell_type": "code",
   "execution_count": 2,
   "id": "d449fdd9",
   "metadata": {},
   "outputs": [
    {
     "data": {
      "text/plain": [
       "0.30000000000000004"
      ]
     },
     "execution_count": 2,
     "metadata": {},
     "output_type": "execute_result"
    }
   ],
   "source": [
    "0.1 + 0.2"
   ]
  },
  {
   "cell_type": "code",
   "execution_count": 4,
   "id": "d6c71ca9",
   "metadata": {},
   "outputs": [],
   "source": [
    "#how to declare string\n",
    "\n",
    "mystr = \"Hello World\""
   ]
  },
  {
   "cell_type": "code",
   "execution_count": 5,
   "id": "7aa02414",
   "metadata": {},
   "outputs": [
    {
     "name": "stdout",
     "output_type": "stream",
     "text": [
      "Hello World\n"
     ]
    }
   ],
   "source": [
    "print(mystr)"
   ]
  },
  {
   "cell_type": "code",
   "execution_count": 6,
   "id": "b8366b93",
   "metadata": {},
   "outputs": [
    {
     "name": "stdout",
     "output_type": "stream",
     "text": [
      "H\n",
      " \n",
      "l\n"
     ]
    }
   ],
   "source": [
    "#indexing \n",
    "\n",
    "print(mystr[0]) #string index always start from Zeroth index\n",
    "print(mystr[5])\n",
    "print(mystr[-2])"
   ]
  },
  {
   "cell_type": "code",
   "execution_count": 7,
   "id": "781ce506",
   "metadata": {},
   "outputs": [
    {
     "name": "stdout",
     "output_type": "stream",
     "text": [
      "Hello World\n",
      "orld\n",
      "llo Wo\n",
      "dlroW olleH\n",
      "---------slicing by using steps--------\n",
      " Hello World\n",
      "HloWr\n",
      "loWrd\n",
      "HloWrd\n"
     ]
    }
   ],
   "source": [
    "#slicing  syntax string_name[start index : end index : steps]\n",
    "\n",
    "print(mystr[:]) #returns whole string\n",
    "print(mystr[7 : ]) #include all character from 7th index\n",
    "print(mystr[-9 : -3]) #include character fro m -9th index to -4th index \n",
    "print(mystr[::-1]) #reverse string\n",
    "\n",
    "#slicing by using steps\n",
    "print(\"---------slicing by using steps--------\\n\",mystr)\n",
    "print(mystr[0:10:2]) #this wont include last world while slicing\n",
    "print(mystr[-9::2]) #this will include last world while slicing\n",
    "print(mystr[::2]) #string wont reverse\n",
    "\n"
   ]
  },
  {
   "cell_type": "code",
   "execution_count": 9,
   "id": "7ddc904a",
   "metadata": {},
   "outputs": [
    {
     "name": "stdout",
     "output_type": "stream",
     "text": [
      "concatenation: Nishad Deora\n",
      "multiplication: zzzzzzzzzz\n",
      "----------methods----------\n",
      "Upper:  ABCDEFG\n",
      "['abcd', 'fg']\n",
      "Lower:  abcdefg\n"
     ]
    }
   ],
   "source": [
    "#Strings properties and Method\n",
    "\n",
    "#concatenation \n",
    "name = \"Nishad\"\n",
    "name = name + \" Deora\"\n",
    "print('concatenation:',name)\n",
    "#multiplication\n",
    "letter = \"z\"\n",
    "print('multiplication:',letter*10)\n",
    "\n",
    "#methods\n",
    "print(\"----------methods----------\")\n",
    "word = \"abcdefg\"\n",
    "print('Upper: ',word.upper())\n",
    "print(word.split('e'))\n",
    "print('Lower: ',word.lower())"
   ]
  },
  {
   "cell_type": "code",
   "execution_count": 10,
   "id": "369d37b9",
   "metadata": {},
   "outputs": [
    {
     "name": "stdout",
     "output_type": "stream",
     "text": [
      "H\n",
      "e\n",
      "l\n",
      "l\n",
      "o\n",
      " \n",
      "W\n",
      "o\n",
      "r\n",
      "l\n",
      "d\n",
      "<class 'str'>\n"
     ]
    }
   ],
   "source": [
    "#how to iterate the String in Python\n",
    "\n",
    "for char in mystr:\n",
    "    print(char)\n",
    "print(type(mystr))"
   ]
  },
  {
   "cell_type": "code",
   "execution_count": 2,
   "id": "8fff1ec1",
   "metadata": {},
   "outputs": [
    {
     "name": "stdout",
     "output_type": "stream",
     "text": [
      "Nishad\n",
      "Nishad\n"
     ]
    }
   ],
   "source": [
    "n = 'Nishad'\n",
    "print(n[:])\n",
    "print(n[::])"
   ]
  },
  {
   "cell_type": "code",
   "execution_count": 25,
   "id": "012d7a94",
   "metadata": {},
   "outputs": [
    {
     "name": "stdout",
     "output_type": "stream",
     "text": [
      "ba\n",
      "2\n"
     ]
    }
   ],
   "source": [
    "#s = \"abcdef\"\n",
    "s = 'ab'\n",
    "#print (s[2:])\n",
    "print(s[::-1])\n",
    "st = ''\n",
    "for i in range(len(s)-1,-1,-1):\n",
    "    st = st + s[i]\n",
    "    \n",
    "if s == st:\n",
    "    print(1)\n",
    "else:\n",
    "    print(2)"
   ]
  },
  {
   "cell_type": "code",
   "execution_count": 4,
   "id": "af8d007f",
   "metadata": {},
   "outputs": [
    {
     "data": {
      "text/plain": [
       "'ed'"
      ]
     },
     "execution_count": 4,
     "metadata": {},
     "output_type": "execute_result"
    }
   ],
   "source": [
    "s[4:2:-1]"
   ]
  },
  {
   "cell_type": "code",
   "execution_count": 11,
   "id": "13ebfb29",
   "metadata": {},
   "outputs": [
    {
     "name": "stdout",
     "output_type": "stream",
     "text": [
      "['My', 'name', 'is', 'Nishad']\n"
     ]
    }
   ],
   "source": [
    "n = \"My name is Nishad\"\n",
    "li = n.split()\n",
    "print(li)\n"
   ]
  },
  {
   "cell_type": "code",
   "execution_count": 26,
   "id": "467a2742",
   "metadata": {},
   "outputs": [
    {
     "name": "stdout",
     "output_type": "stream",
     "text": [
      "True\n"
     ]
    }
   ],
   "source": [
    "'''in or not in operator is used to check substring in a given string in continues manner'''\n",
    "\n",
    "s = 'Nishad'\n",
    "\n",
    "if 'Ni' in s:\n",
    "    print(True)\n",
    "else:\n",
    "    print(False)\n"
   ]
  },
  {
   "cell_type": "code",
   "execution_count": 27,
   "id": "3453386c",
   "metadata": {},
   "outputs": [
    {
     "name": "stdout",
     "output_type": "stream",
     "text": [
      "True\n"
     ]
    }
   ],
   "source": [
    "a = \"abce\" >= \"abcdef\"\n",
    "print(a)\n"
   ]
  },
  {
   "cell_type": "markdown",
   "id": "b27f7f5f",
   "metadata": {},
   "source": [
    "###  Functions on String"
   ]
  },
  {
   "cell_type": "code",
   "execution_count": 33,
   "id": "d893f57f",
   "metadata": {},
   "outputs": [
    {
     "name": "stdout",
     "output_type": "stream",
     "text": [
      "['My', 'Name', 'is,Khan']\n"
     ]
    }
   ],
   "source": [
    "st = 'My,Name,is,Khan'\n",
    "li = st.split(',',2)\n",
    "print(li)"
   ]
  },
  {
   "cell_type": "code",
   "execution_count": 35,
   "id": "6da7a28f",
   "metadata": {},
   "outputs": [
    {
     "name": "stdout",
     "output_type": "stream",
     "text": [
      "My Name is Nishad\n"
     ]
    }
   ],
   "source": [
    "st = 'My Name is Khan'\n",
    "s = st.replace('Khan','Nishad')\n",
    "print(s)"
   ]
  },
  {
   "cell_type": "code",
   "execution_count": 38,
   "id": "5f374a71",
   "metadata": {},
   "outputs": [
    {
     "name": "stdout",
     "output_type": "stream",
     "text": [
      "-1\n",
      "11\n"
     ]
    }
   ],
   "source": [
    "st = 'My name is Nishad'\n",
    "index = st.find('Ni')\n",
    "print(st.find('d',3,10))\n",
    "print(index)"
   ]
  },
  {
   "cell_type": "code",
   "execution_count": 40,
   "id": "3b2df656",
   "metadata": {},
   "outputs": [
    {
     "name": "stdout",
     "output_type": "stream",
     "text": [
      "True\n"
     ]
    }
   ],
   "source": [
    "st = 'My name is Nishad'\n",
    "ans= st.startswith('My na')\n",
    "print(ans)\n",
    "ans = st.startswith('Ni',10,15)"
   ]
  },
  {
   "cell_type": "code",
   "execution_count": 57,
   "id": "3f72db53",
   "metadata": {},
   "outputs": [
    {
     "name": "stdout",
     "output_type": "stream",
     "text": [
      "True\n"
     ]
    }
   ],
   "source": [
    "st = 'rate'\n",
    "s = 'race'\n",
    "flag = True\n",
    "for i in range(len(st)):\n",
    "    if s[i] in st:\n",
    "        flag = True\n",
    "    else: \n",
    "        flag = False\n",
    "\n",
    "print(flag)\n",
    "        \n"
   ]
  },
  {
   "cell_type": "code",
   "execution_count": 56,
   "id": "386b3e11",
   "metadata": {},
   "outputs": [
    {
     "name": "stdout",
     "output_type": "stream",
     "text": [
      "2\n"
     ]
    }
   ],
   "source": [
    "if 't' in 'race':\n",
    "    print(1)\n",
    "else:\n",
    "    print(2)"
   ]
  },
  {
   "cell_type": "code",
   "execution_count": 6,
   "id": "007fefe3",
   "metadata": {},
   "outputs": [
    {
     "name": "stdout",
     "output_type": "stream",
     "text": [
      "yM eman si dahsiN \n",
      "['My', 'name', 'is', 'Nishad']\n"
     ]
    }
   ],
   "source": [
    "#Reverse eeach word with in string logic 1\n",
    "\n",
    "st = 'My name is Nishad'\n",
    "li = st.split()\n",
    "str = ''\n",
    "\n",
    "for ele in li:\n",
    "    str = str + ele[::-1] + \" \"\n",
    "\n",
    "print(str)\n",
    "\n",
    "print(li)"
   ]
  },
  {
   "cell_type": "code",
   "execution_count": 2,
   "id": "253ae8fe",
   "metadata": {},
   "outputs": [
    {
     "name": "stdout",
     "output_type": "stream",
     "text": [
      "dahsiN\n"
     ]
    }
   ],
   "source": [
    "m = 'Nishad'\n",
    "c = m[::-1]\n",
    "print(c)"
   ]
  },
  {
   "cell_type": "code",
   "execution_count": 8,
   "id": "76d9d897",
   "metadata": {},
   "outputs": [
    {
     "name": "stdout",
     "output_type": "stream",
     "text": [
      "yM eman si dahsiN \n"
     ]
    }
   ],
   "source": [
    "#Reverse eeach word with in string logic 2\n",
    "st = 'My name is Nishad'\n",
    "li = st.split()\n",
    "str = ''\n",
    "\n",
    "for ele in li:\n",
    "    s = ''\n",
    "    for j in range(len(ele)-1,-1,-1):\n",
    "        s = s + ele[j]\n",
    "    str = str + s + ' '\n",
    "print(str)\n",
    "        "
   ]
  },
  {
   "cell_type": "code",
   "execution_count": 16,
   "id": "7f48247f",
   "metadata": {},
   "outputs": [
    {
     "name": "stdout",
     "output_type": "stream",
     "text": [
      "count of r is 5\n"
     ]
    }
   ],
   "source": [
    "#count highest occuring number logic 1\n",
    "\n",
    "st = 'abcdeapaprrrrr'\n",
    "count = 0\n",
    "ch = ''\n",
    "duplicate = ''\n",
    "for ele in st:\n",
    "    count1 = st.count(ele)\n",
    "    dulpicate = ''\n",
    "    if count1>count:\n",
    "        count = count1\n",
    "        ch = ele\n",
    "print('count of',ch,'is',count)\n",
    "    "
   ]
  },
  {
   "cell_type": "code",
   "execution_count": 47,
   "id": "4387db21",
   "metadata": {},
   "outputs": [
    {
     "name": "stdout",
     "output_type": "stream",
     "text": [
      "{'a': 3, 'b': 1, 'c': 1, 'd': 1, 'e': 1, 'p': 2, 'r': 5}\n",
      "highest occuring character r\n"
     ]
    }
   ],
   "source": [
    "#logic 2\n",
    "\n",
    "st = 'abcdeapaprrrrr'\n",
    "all_freq = {}\n",
    "s = ''\n",
    "\n",
    "for ele in st:\n",
    "    if ele in all_freq:\n",
    "        all_freq[ele] += 1\n",
    "    else:\n",
    "        all_freq[ele] = 1\n",
    "\n",
    "res = max(all_freq, key = all_freq.get)\n",
    "print(all_freq)\n",
    "print('highest occuring character',res)\n"
   ]
  },
  {
   "cell_type": "code",
   "execution_count": 48,
   "id": "fdad10ed",
   "metadata": {},
   "outputs": [
    {
     "ename": "SyntaxError",
     "evalue": "invalid syntax (Temp/ipykernel_13488/726774049.py, line 6)",
     "output_type": "error",
     "traceback": [
      "\u001b[1;36m  File \u001b[1;32m\"C:\\Users\\nisha\\AppData\\Local\\Temp/ipykernel_13488/726774049.py\"\u001b[1;36m, line \u001b[1;32m6\u001b[0m\n\u001b[1;33m    while i <= len(st) and st[i] == st[i+1]\u001b[0m\n\u001b[1;37m                                           ^\u001b[0m\n\u001b[1;31mSyntaxError\u001b[0m\u001b[1;31m:\u001b[0m invalid syntax\n"
     ]
    }
   ],
   "source": [
    "st = 'aaabbccdsa'\n",
    "str = ''\n",
    "\n",
    "for i in range(len(st)):\n",
    "    count = 1\n",
    "    while i <= len(st) and st[i] == st[i+1]\n",
    "        count += 1\n",
    "        i += 1\n",
    "    str = str + st[i] + str(count)\n",
    "print(str)        \n",
    "    "
   ]
  },
  {
   "cell_type": "code",
   "execution_count": null,
   "id": "ec87920a",
   "metadata": {},
   "outputs": [],
   "source": []
  }
 ],
 "metadata": {
  "kernelspec": {
   "display_name": "Python 3 (ipykernel)",
   "language": "python",
   "name": "python3"
  },
  "language_info": {
   "codemirror_mode": {
    "name": "ipython",
    "version": 3
   },
   "file_extension": ".py",
   "mimetype": "text/x-python",
   "name": "python",
   "nbconvert_exporter": "python",
   "pygments_lexer": "ipython3",
   "version": "3.9.7"
  }
 },
 "nbformat": 4,
 "nbformat_minor": 5
}
