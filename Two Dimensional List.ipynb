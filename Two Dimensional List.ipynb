{
 "cells": [
  {
   "cell_type": "code",
   "execution_count": 1,
   "id": "2517214d",
   "metadata": {},
   "outputs": [],
   "source": [
    "li = [[1,2,3],[4,5,6],[7,8,9]]"
   ]
  },
  {
   "cell_type": "code",
   "execution_count": 2,
   "id": "306d7dba",
   "metadata": {},
   "outputs": [
    {
     "data": {
      "text/plain": [
       "6"
      ]
     },
     "execution_count": 2,
     "metadata": {},
     "output_type": "execute_result"
    }
   ],
   "source": [
    "li[1][2]"
   ]
  },
  {
   "cell_type": "code",
   "execution_count": 3,
   "id": "ba9d02ad",
   "metadata": {},
   "outputs": [],
   "source": [
    "'''Jagged List : are the List where column size is not mentioned or specified'''\n",
    "\n",
    "li = [[1,2,3,4],[4,5,6,10,16],[7,8,9],[23,13]]\n"
   ]
  },
  {
   "cell_type": "code",
   "execution_count": 4,
   "id": "a24764a5",
   "metadata": {},
   "outputs": [
    {
     "data": {
      "text/plain": [
       "[1, 2, 3, 4]"
      ]
     },
     "execution_count": 4,
     "metadata": {},
     "output_type": "execute_result"
    }
   ],
   "source": [
    "li[0]"
   ]
  },
  {
   "cell_type": "code",
   "execution_count": 15,
   "id": "52d4bc5f",
   "metadata": {},
   "outputs": [],
   "source": [
    "'''List Comprehension: \n",
    "- It used to write a efficient, easy-to-read and understand the code\n",
    "- List Comprehension is used to write single line of code to construct powerful functionality.\n",
    "- List comprehensions are used for creating new lists from other iterables like tuples, strings, arrays, lists, etc\n",
    "\n",
    "Syntax : newList = [ expression(element) for element in oldList if condition ] \n",
    "- any number of condition will be there\n",
    "- can have multiple for loops\n",
    "'''\n",
    "\n",
    "li_old = [1,2,3,4,5,6,8,9]\n",
    "li_new = [ele*2 for ele in li_old]"
   ]
  },
  {
   "cell_type": "code",
   "execution_count": 16,
   "id": "ca9b2cfe",
   "metadata": {},
   "outputs": [
    {
     "data": {
      "text/plain": [
       "[2, 4, 6, 8, 10, 12, 16, 18]"
      ]
     },
     "execution_count": 16,
     "metadata": {},
     "output_type": "execute_result"
    }
   ],
   "source": [
    "li_new"
   ]
  },
  {
   "cell_type": "code",
   "execution_count": 22,
   "id": "e323a61e",
   "metadata": {},
   "outputs": [],
   "source": [
    "li_even_cube = [ele**3 for ele in li_new if ele%2 ==0 if ele%3==0]"
   ]
  },
  {
   "cell_type": "code",
   "execution_count": 23,
   "id": "70d4c70f",
   "metadata": {},
   "outputs": [
    {
     "data": {
      "text/plain": [
       "[216, 1728, 5832]"
      ]
     },
     "execution_count": 23,
     "metadata": {},
     "output_type": "execute_result"
    }
   ],
   "source": [
    "li_even_cube"
   ]
  },
  {
   "cell_type": "code",
   "execution_count": 26,
   "id": "e59090ea",
   "metadata": {},
   "outputs": [
    {
     "name": "stdout",
     "output_type": "stream",
     "text": [
      "[1, 3, 5]\n",
      "<class 'int'>\n"
     ]
    }
   ],
   "source": [
    "li_1 = [1,2,3,4,5,6]\n",
    "li_2 = [1,3,5,7]\n",
    "\n",
    "li_inter = [ele for ele in li_1 for ele2 in li_2 if ele == ele2]\n",
    "print(li_inter)\n",
    "print(type(li_inter[0]))"
   ]
  },
  {
   "cell_type": "code",
   "execution_count": 27,
   "id": "9e2dade6",
   "metadata": {},
   "outputs": [
    {
     "data": {
      "text/plain": [
       "int"
      ]
     },
     "execution_count": 27,
     "metadata": {},
     "output_type": "execute_result"
    }
   ],
   "source": [
    "a = 1\n",
    "type(a)"
   ]
  },
  {
   "cell_type": "code",
   "execution_count": 29,
   "id": "f5bea084",
   "metadata": {},
   "outputs": [
    {
     "name": "stdout",
     "output_type": "stream",
     "text": [
      "['N', 'i', 's', 'h', 'a', 'd']\n"
     ]
    }
   ],
   "source": [
    "s = 'Nishad'\n",
    "li_n = [ele for ele in s]\n",
    "print(li_n)"
   ]
  },
  {
   "cell_type": "code",
   "execution_count": 3,
   "id": "8e8d722e",
   "metadata": {},
   "outputs": [
    {
     "name": "stdout",
     "output_type": "stream",
     "text": [
      "[['N', 'i', 's', 'h', 'a', 'd'], ['D', 'e', 'w', 'a', 'n', 'g'], ['R', 'a', 'j']]\n"
     ]
    }
   ],
   "source": [
    "li_name = ['Nishad','Dewang','Raj']\n",
    "li_n1 = [[s for s in ele] for ele in li_name]\n",
    "print(li_n1)"
   ]
  },
  {
   "cell_type": "code",
   "execution_count": 4,
   "id": "86510c6f",
   "metadata": {},
   "outputs": [
    {
     "name": "stdout",
     "output_type": "stream",
     "text": [
      "[[[0, 1], [0, 1], [0, 1]], [[0, 1], [0, 1], [0, 1]], [[0, 1], [0, 1], [0, 1]]]\n"
     ]
    }
   ],
   "source": [
    "li = [[[k for k in range(2)]for j in range(3)] for i in range(3)]\n",
    "print(li)"
   ]
  },
  {
   "cell_type": "code",
   "execution_count": 2,
   "id": "bf1049ea",
   "metadata": {},
   "outputs": [
    {
     "name": "stdout",
     "output_type": "stream",
     "text": [
      "Enter the row and column of a 2D list by usinf space\n",
      "2 1\n",
      "1 2 3\n",
      "2 3\n"
     ]
    }
   ],
   "source": [
    "'''How to take input for 2D List'''\n",
    "print('Enter the row and column of a 2D list by usinf space')\n",
    "st = input().split()\n",
    "n,m = int(st[0]),int(st[1])\n",
    "li_input = [[int(j) for j in input().split()] for i in range(n)]\n",
    "# li_input = [[int(input().split()) for x in range (m)] for y in range(n)]"
   ]
  },
  {
   "cell_type": "code",
   "execution_count": 3,
   "id": "74e6a739",
   "metadata": {},
   "outputs": [
    {
     "data": {
      "text/plain": [
       "[[1, 2, 3], [2, 3]]"
      ]
     },
     "execution_count": 3,
     "metadata": {},
     "output_type": "execute_result"
    }
   ],
   "source": [
    "li_input"
   ]
  },
  {
   "cell_type": "code",
   "execution_count": 4,
   "id": "caa2b3d3",
   "metadata": {},
   "outputs": [
    {
     "name": "stdout",
     "output_type": "stream",
     "text": [
      "<class 'str'>\n",
      "1 2 4 1\n",
      "<class 'str'>\n",
      "4 5\n",
      "<class 'str'>\n",
      "2 4 5 1\n"
     ]
    }
   ],
   "source": [
    "li = [[1,2,4,1],[4,5],[2,4,5,1]]\n",
    "\n",
    "for row in li:\n",
    "    output = ' '.join([str(s) for s in row])\n",
    "    print(type(output))\n",
    "    print(output)"
   ]
  },
  {
   "cell_type": "code",
   "execution_count": 7,
   "id": "d3303d0b",
   "metadata": {},
   "outputs": [
    {
     "name": "stdout",
     "output_type": "stream",
     "text": [
      "1 2 4 1 <class 'int'>\n",
      "\n",
      "4 5 <class 'int'>\n",
      "\n",
      "2 4 5 1 <class 'int'>\n",
      "\n"
     ]
    }
   ],
   "source": [
    "#how to prin jaggy list - method 2\n",
    "\n",
    "for row in li:\n",
    "    for ele in row:\n",
    "        print(ele,end=' ')\n",
    "    print(type(ele))\n",
    "    print()\n",
    "        "
   ]
  },
  {
   "cell_type": "code",
   "execution_count": 8,
   "id": "72ac8cde",
   "metadata": {},
   "outputs": [
    {
     "name": "stdout",
     "output_type": "stream",
     "text": [
      "8 9 12 "
     ]
    }
   ],
   "source": [
    "#Row wise sum in 2D list\n",
    "\n",
    "li = [[1,2,4,1],[4,5],[2,4,5,1]]\n",
    "\n",
    "li_new = [ for ele1 in li ]\n",
    "\n",
    "for row in li:\n",
    "    sum = 0\n",
    "    for ele in row:\n",
    "        sum = sum + ele\n",
    "    print(sum,end = ' ')\n",
    "        "
   ]
  },
  {
   "cell_type": "code",
   "execution_count": 34,
   "id": "a165fd20",
   "metadata": {},
   "outputs": [],
   "source": [
    "'''Largest Row or Column '\n",
    "For a given two-dimensional integer array/list of size (N x M), \n",
    "you need to find out which row or column has the largest sum(sum of all the elements in a row/column) \n",
    "amongst all the rows and columns.\n",
    "'''\n",
    "\n",
    "\n",
    "def row_sum(li,row,col):\n",
    "    #li_row = []\n",
    "    max_row = -1\n",
    "    max_row_index = -1\n",
    "    for i in range(row):\n",
    "        sum = 0 \n",
    "        for j in range(col):\n",
    "            sum = li[i][j] + sum\n",
    "        if sum>max_row:\n",
    "            max_row = sum\n",
    "            max_row_index = i\n",
    "    return max_row,max_row_index\n",
    "        \n",
    "def col_sum(li,row,col):\n",
    "    #li_col = []\n",
    "    max_col = -1\n",
    "    max_col_index = -1\n",
    "    for j in range(col):\n",
    "        sum = 0\n",
    "        for ele in li:\n",
    "            sum = ele[j] + sum\n",
    "        if sum>max_col:\n",
    "            max_col = sum\n",
    "            max_col_index = j\n",
    "    return max_col,max_col_index"
   ]
  },
  {
   "cell_type": "code",
   "execution_count": 37,
   "id": "46516a5c",
   "metadata": {},
   "outputs": [
    {
     "name": "stdout",
     "output_type": "stream",
     "text": [
      "(19, 2)\n",
      "(25, 2)\n",
      "column  2 25\n"
     ]
    }
   ],
   "source": [
    "li = [[3,6,9],[1,4,7],[2,8,9]]\n",
    "row = len(li)\n",
    "col = len(li[0])\n",
    "li_row = row_sum(li,row,col)\n",
    "print(li_row)\n",
    "li_col = col_sum(li,row,col)\n",
    "print(li_col)\n",
    "\n",
    "if li_row[0]>li_col[0]:\n",
    "    print('row ',li_row[1],li_row[0])\n",
    "elif li_row[0]<li_col[0]:\n",
    "    print('column ',li_col[1],li_col[0])\n",
    "else:\n",
    "    print(\"row 0 -2147483648\")\n"
   ]
  },
  {
   "cell_type": "code",
   "execution_count": 38,
   "id": "3f6f4275",
   "metadata": {},
   "outputs": [
    {
     "name": "stdout",
     "output_type": "stream",
     "text": [
      "5\n",
      "4\n",
      "3\n",
      "2\n",
      "1\n",
      "0\n"
     ]
    }
   ],
   "source": [
    "for i in range(5,-1,-1):\n",
    "    print(i)"
   ]
  },
  {
   "cell_type": "code",
   "execution_count": 41,
   "id": "74eb9a5b",
   "metadata": {},
   "outputs": [
    {
     "name": "stdout",
     "output_type": "stream",
     "text": [
      "1 5 9 10 6 2 3 7 11 12 8 4 "
     ]
    }
   ],
   "source": [
    "'''\n",
    "Wave Print\n",
    "For a given two-dimensional integer array/list of size (N x M), print the array/list in a sine wave order, \n",
    "i.e, print the first column top to bottom, next column bottom to top and so on\n",
    "\n",
    "1  2  3  4 \n",
    "5  6  7  8 \n",
    "9 10 11 12\n",
    "\n",
    "o/p: 1 5 9 10 6 2 3 7 11 12 8 4\n",
    "'''\n",
    "\n",
    "li = [[1,2,3,4],[5,6,7,8],[9,10,11,12]]\n",
    "row = len(li)\n",
    "col = len(li[0])\n",
    "\n",
    "for j in range(col):\n",
    "    if j%2!=0:\n",
    "        for i in range(row-1,-1,-1):\n",
    "            print(li[i][j],end=' ')\n",
    "    else:\n",
    "        for i in range(row):\n",
    "            print(li[i][j],end=' ')\n",
    "        \n",
    "        "
   ]
  },
  {
   "cell_type": "code",
   "execution_count": 56,
   "id": "a2397920",
   "metadata": {},
   "outputs": [
    {
     "name": "stdout",
     "output_type": "stream",
     "text": [
      "5 5\n",
      "1 2 3 4 5 10 15 20 25 24 23 22 21 16 11 6 7 8 9 14 19 18 17 12 13 "
     ]
    }
   ],
   "source": [
    "#Spiral print in 2D array\n",
    "\n",
    "'''output = 1 2 3 4 8 12 16 15 14 13 9 5 6 7 11 10 '''\n",
    "\n",
    "#li = [[1,2,3,4],[5,6,7,8],[9,10,11,12],[13,14,15,16]]\n",
    "li = [[1,2,3,4,5],[6,7,8,9,10],[11,12,13,14,15],[16,17,18,19,20],[21,22,23,24,25]] \n",
    "\n",
    "t = 0 \n",
    "b = len(li) \n",
    "l = 0\n",
    "r = len(li[0])\n",
    "dir = 0\n",
    "print(b,r)\n",
    "while t<=b and l<=r:\n",
    "    if dir == 0:\n",
    "        for i in range(l,r):\n",
    "            print(li[t][i],end=' ')\n",
    "        t += 1\n",
    "    elif dir == 1:\n",
    "        for j in range(t,b):\n",
    "            print(li[j][r-1],end=' ')\n",
    "        r -= 1\n",
    "        #dir = 2\n",
    "    elif dir == 2:\n",
    "        for k in range(r-1,l,-1):\n",
    "            print(li[b-1][k],end=' ')\n",
    "        b -= 1\n",
    "        #dir = 3\n",
    "    elif dir == 3:\n",
    "        for m in range(b,t-1,-1):\n",
    "            print(li[m][l],end = ' ')\n",
    "        l += 1\n",
    "    dir = (dir+1)%4\n",
    "            \n",
    "    \n",
    "    "
   ]
  },
  {
   "cell_type": "code",
   "execution_count": 59,
   "id": "3265ed5b",
   "metadata": {},
   "outputs": [
    {
     "name": "stdout",
     "output_type": "stream",
     "text": [
      "2\n",
      "1\n",
      "0\n"
     ]
    },
    {
     "data": {
      "text/plain": [
       "-2"
      ]
     },
     "execution_count": 59,
     "metadata": {},
     "output_type": "execute_result"
    }
   ],
   "source": [
    "for k in range(2,-1,-1):\n",
    "    print(k)\n",
    "\n",
    "max(-12,-2,-10,-40)"
   ]
  },
  {
   "cell_type": "code",
   "execution_count": null,
   "id": "ff5f7833",
   "metadata": {},
   "outputs": [],
   "source": [
    " row_start=0\n",
    "    row_end=nRows-1\n",
    "    col_start=0\n",
    "    col_end=mCols-1\n",
    "    \n",
    "    while row_start<=row_end and col_start<=col_end:\n",
    "        \n",
    "        #loop1\n",
    "        for i in range(col_start,col_end+1):\n",
    "            print(mat[row_start][i],end=' ')\n",
    "        row_start+=1\n",
    "        for i in range(row_start,row_end+1):\n",
    "            print(mat[i][col_end],end=' ')\n",
    "        col_end-=1\n",
    "        for i in range(col_end,col_start-1,-1):\n",
    "            print(mat[row_end][i],end=' ')\n",
    "        row_end-=1\n",
    "        for i in range(row_end,row_start-1,-1):\n",
    "            print(mat[i][col_start],end=' ')\n",
    "        col_start+=1   "
   ]
  },
  {
   "cell_type": "code",
   "execution_count": null,
   "id": "96f221e6",
   "metadata": {},
   "outputs": [],
   "source": [
    "'''whenever max val needs to be calculated always set value a max variable to -ve infinity (very large -ve value)\n",
    "for min viseversa'''"
   ]
  },
  {
   "cell_type": "code",
   "execution_count": 6,
   "id": "4384675a",
   "metadata": {},
   "outputs": [
    {
     "name": "stdout",
     "output_type": "stream",
     "text": [
      "3 3\n",
      "1 2 3\n",
      "4 5 6\n",
      "7 8 9\n"
     ]
    }
   ],
   "source": [
    "st = input().split()\n",
    "n,m = int(st[0]),int(st[1])\n",
    "\n",
    "li = [[int(j) for j in input().split()] for i in range(n)]"
   ]
  },
  {
   "cell_type": "code",
   "execution_count": 10,
   "id": "beb928da",
   "metadata": {},
   "outputs": [
    {
     "name": "stdout",
     "output_type": "stream",
     "text": [
      "1 2 3 \n",
      "1 2 3 \n",
      "1 2 3 \n",
      "4 5 6 \n",
      "4 5 6 \n",
      "7 8 9 \n"
     ]
    }
   ],
   "source": [
    "li\n",
    "j = 0\n",
    "for ele in li:\n",
    "    for i in range(n-j):\n",
    "        for k in ele:\n",
    "            print(k,end=' ')\n",
    "        print()\n",
    "    j = j + 1"
   ]
  },
  {
   "cell_type": "code",
   "execution_count": 22,
   "id": "0d74b95a",
   "metadata": {},
   "outputs": [],
   "source": [
    "'''\n",
    "Minimum Length Word\n",
    "Given a string S (that can contain multiple words), you need to find the word which has minimum length.\n",
    "\n",
    "Note : If multiple words are of same length, then answer will be first minimum length word in the string.\n",
    "Words are seperated by single space only.\n",
    "\n",
    "Input Format : Srting\n",
    "\n",
    "Sample Input 1 : this is test string\n",
    "o/p : is\n",
    "\n",
    "Sample Input 2 : abc de ghihjk a uvw h j\n",
    "o/p: a\n",
    "'''\n",
    "\n",
    "def min_string(string):\n",
    "    li = string.split()\n",
    "    index,min_len,st,min_count = 0,999999999,'',0\n",
    "    \n",
    "    for ele in li:\n",
    "        if len(ele) < min_len:\n",
    "            min_len = len(ele)\n",
    "            min_count = index\n",
    "            st = li[min_count]\n",
    "        elif len(ele) == min_len:\n",
    "            st = li[min_count]\n",
    "        index += 1\n",
    "    return st\n"
   ]
  },
  {
   "cell_type": "code",
   "execution_count": 24,
   "id": "be0a1135",
   "metadata": {},
   "outputs": [
    {
     "name": "stdout",
     "output_type": "stream",
     "text": [
      "abc de ghihjk a uvw h j\n",
      "a\n"
     ]
    }
   ],
   "source": [
    "string = input()\n",
    "s = min_string(string)\n",
    "print(s)"
   ]
  },
  {
   "cell_type": "code",
   "execution_count": 38,
   "id": "62ab96be",
   "metadata": {},
   "outputs": [
    {
     "name": "stdout",
     "output_type": "stream",
     "text": [
      "485 463 457 "
     ]
    }
   ],
   "source": [
    "#a = [3,12,34,2,0,-1]\n",
    "#a = [13,17,5,4,6]\n",
    "a = [448,241,363,161,447,333,369,28,169,474,161,485,433,238,188,423,111,59,144,354,346,80,463,246,356,72,15,137,328,94,253,161,209,257,414,196,376,218,457]\n",
    "\n",
    "flag = False\n",
    "for i in range(len(a)):\n",
    "    j = i + 1\n",
    "    ele = a[i]\n",
    "    while j<=len(a)-1:\n",
    "        if a[i]>=a[j]:\n",
    "            flag = True\n",
    "        else:\n",
    "            flag = False\n",
    "            break\n",
    "        j += 1\n",
    "    if flag or ele == a[len(a)-1]:\n",
    "        print(a[i],end=' ')\n",
    "    \n"
   ]
  },
  {
   "cell_type": "code",
   "execution_count": 40,
   "id": "21617ca7",
   "metadata": {},
   "outputs": [
    {
     "name": "stdout",
     "output_type": "stream",
     "text": [
      "4\n",
      "1\n",
      "2\n",
      "3\n",
      "4\n"
     ]
    },
    {
     "data": {
      "text/plain": [
       "[1, 2, 3, 4]"
      ]
     },
     "execution_count": 40,
     "metadata": {},
     "output_type": "execute_result"
    }
   ],
   "source": [
    "n = int(input())\n",
    "li = []\n",
    "for i in range(n):\n",
    "    li.append(int(input()))\n",
    "li"
   ]
  },
  {
   "cell_type": "code",
   "execution_count": null,
   "id": "5567f8a7",
   "metadata": {},
   "outputs": [],
   "source": []
  }
 ],
 "metadata": {
  "kernelspec": {
   "display_name": "Python 3 (ipykernel)",
   "language": "python",
   "name": "python3"
  },
  "language_info": {
   "codemirror_mode": {
    "name": "ipython",
    "version": 3
   },
   "file_extension": ".py",
   "mimetype": "text/x-python",
   "name": "python",
   "nbconvert_exporter": "python",
   "pygments_lexer": "ipython3",
   "version": "3.9.7"
  }
 },
 "nbformat": 4,
 "nbformat_minor": 5
}
