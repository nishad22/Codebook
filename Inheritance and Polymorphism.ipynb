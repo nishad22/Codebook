{
 "cells": [
  {
   "cell_type": "markdown",
   "id": "c60eb9eb",
   "metadata": {},
   "source": [
    "### Inheritance"
   ]
  },
  {
   "cell_type": "code",
   "execution_count": 108,
   "id": "ee6872ab",
   "metadata": {},
   "outputs": [],
   "source": [
    "#parent class\n",
    "\n",
    "class Vehicle():\n",
    "    def __init__(self,make,model,fuel):\n",
    "        self.make = make\n",
    "        # making attribute as private\n",
    "        self.__model = model\n",
    "        self.__fuel = fuel\n",
    "        \n",
    "    # defining private function \n",
    "    def __private_function_parent(self):\n",
    "        print(\"This is Private method\")\n",
    "        \n",
    "    #accessing private member\n",
    "    def show_private_member(self):\n",
    "        print(self.__model,' ',self.__fuel)\n",
    "        \n",
    "    #protected method\n",
    "    def _add(self):\n",
    "        print('this is parent method')\n"
   ]
  },
  {
   "cell_type": "code",
   "execution_count": 90,
   "id": "8199c56e",
   "metadata": {},
   "outputs": [],
   "source": [
    "# child class\n",
    "\n",
    "class Car(Vehicle):\n",
    "    def __init__(self,make,model,fuel,air_con,sunroof):\n",
    "        Vehicle.make = make\n",
    "        Vehicle.__model = model\n",
    "        Vehicle.__fuel = fuel\n",
    "        self.air_con = air_con\n",
    "        self.sunroof = sunroof\n",
    "    \n",
    "    def show_parent_attribute(Vehicle):\n",
    "        print(Vehicle.make,'',Vehicle.__fuel,'',Vehicle.__model)\n",
    "        \n",
    "    def show_privatefunction_ofparent(self):\n",
    "        self._Vehicle__private_function_parent()"
   ]
  },
  {
   "cell_type": "code",
   "execution_count": 70,
   "id": "5dfd6690",
   "metadata": {},
   "outputs": [],
   "source": [
    "#instantiation of class\n",
    "\n",
    "myobj = Car(\"Tata Nexon\",2020,'Electric',True,True)"
   ]
  },
  {
   "cell_type": "code",
   "execution_count": 71,
   "id": "c3471364",
   "metadata": {},
   "outputs": [
    {
     "name": "stdout",
     "output_type": "stream",
     "text": [
      "{'air_con': True, 'sunroof': True}\n",
      "This is Private method\n"
     ]
    }
   ],
   "source": [
    "print(myobj.__dict__)\n",
    "\n",
    "#myobj.show_private_member()\n",
    "\n",
    "# accessing the private method from parent class using subclass object called as name Mangling\n",
    "myobj._Vehicle__private_function_parent()"
   ]
  },
  {
   "cell_type": "code",
   "execution_count": 72,
   "id": "bda50345",
   "metadata": {},
   "outputs": [
    {
     "name": "stdout",
     "output_type": "stream",
     "text": [
      "Tata Nexon  Electric  2020\n"
     ]
    }
   ],
   "source": [
    "myobj.show_parent_attribute()"
   ]
  },
  {
   "cell_type": "code",
   "execution_count": 73,
   "id": "a5c766a7",
   "metadata": {},
   "outputs": [
    {
     "name": "stdout",
     "output_type": "stream",
     "text": [
      "This is Private method\n"
     ]
    }
   ],
   "source": [
    "myobj.show_privatefunction_ofparent()"
   ]
  },
  {
   "cell_type": "markdown",
   "id": "ceb8d9b2",
   "metadata": {},
   "source": [
    "### Super function and Protected Access Modifier"
   ]
  },
  {
   "cell_type": "code",
   "execution_count": 109,
   "id": "85d8b239",
   "metadata": {},
   "outputs": [],
   "source": [
    "class Bike(Vehicle):\n",
    "    def  __init__(self,make,model,fuel,air_con,speed):\n",
    "        super(Bike,self).__init__(make,model,fuel)\n",
    "        self.air_con = air_con\n",
    "        #protected attribute\n",
    "        self._speed = speed\n",
    "    \n",
    "    def _add(self):\n",
    "        print('this is overriden method')\n",
    "        \n",
    "        \n",
    "    \n",
    "    "
   ]
  },
  {
   "cell_type": "code",
   "execution_count": 110,
   "id": "82c16074",
   "metadata": {},
   "outputs": [],
   "source": [
    "Bajaj = Bike('Discover',2022,'Petrol',False,200)"
   ]
  },
  {
   "cell_type": "code",
   "execution_count": 111,
   "id": "55a6a8f0",
   "metadata": {},
   "outputs": [
    {
     "data": {
      "text/plain": [
       "{'make': 'Discover',\n",
       " '_Vehicle__model': 2022,\n",
       " '_Vehicle__fuel': 'Petrol',\n",
       " 'air_con': False,\n",
       " '_speed': 200}"
      ]
     },
     "execution_count": 111,
     "metadata": {},
     "output_type": "execute_result"
    }
   ],
   "source": [
    "Bajaj.__dict__"
   ]
  },
  {
   "cell_type": "code",
   "execution_count": 112,
   "id": "9464ce66",
   "metadata": {},
   "outputs": [
    {
     "data": {
      "text/plain": [
       "2022"
      ]
     },
     "execution_count": 112,
     "metadata": {},
     "output_type": "execute_result"
    }
   ],
   "source": [
    "# accessing private attribute \n",
    "Bajaj._Vehicle__model"
   ]
  },
  {
   "cell_type": "code",
   "execution_count": 113,
   "id": "9d7f7291",
   "metadata": {},
   "outputs": [
    {
     "name": "stdout",
     "output_type": "stream",
     "text": [
      "This is Private method\n"
     ]
    }
   ],
   "source": [
    "#accessing private function\n",
    "Bajaj._Vehicle__private_function_parent()"
   ]
  },
  {
   "cell_type": "code",
   "execution_count": 114,
   "id": "b267ed5b",
   "metadata": {},
   "outputs": [
    {
     "name": "stdout",
     "output_type": "stream",
     "text": [
      "200\n",
      "this is overriden method\n"
     ]
    }
   ],
   "source": [
    "#accessing protect function and variable\n",
    "\n",
    "print(Bajaj._speed)\n",
    "Bajaj._add()"
   ]
  },
  {
   "cell_type": "markdown",
   "id": "7e6888ee",
   "metadata": {},
   "source": [
    "## Polymorhism"
   ]
  },
  {
   "cell_type": "code",
   "execution_count": 116,
   "id": "385b554d",
   "metadata": {},
   "outputs": [
    {
     "name": "stdout",
     "output_type": "stream",
     "text": [
      "init of B called\n"
     ]
    }
   ],
   "source": [
    "class A:\n",
    "\n",
    "    def __init__(self):\n",
    "        print('init of A called')\n",
    "class B:\n",
    "    def __init__(self):\n",
    "        print('init of B called')\n",
    "\n",
    "class C(B,A):\n",
    "    def __init__(self):\n",
    "        super().__init__()\n",
    "\n",
    "c = C()"
   ]
  },
  {
   "cell_type": "code",
   "execution_count": 126,
   "id": "1fb391fe",
   "metadata": {},
   "outputs": [
    {
     "data": {
      "text/plain": [
       "{'make': 'tesla',\n",
       " 'model': 2019,\n",
       " 'fuel': 'Electric',\n",
       " 'air_conditioning': True,\n",
       " '_sunroof': True,\n",
       " 'distance': 500}"
      ]
     },
     "execution_count": 126,
     "metadata": {},
     "output_type": "execute_result"
    }
   ],
   "source": [
    "#Parent class #multilevel inheritence #MRO method resolution order\n",
    "class Vehicle():\n",
    "    def __init__(self,make,model,fuel):\n",
    "        self.make=make\n",
    "        self.model=model\n",
    "        self.fuel=fuel\n",
    "        \n",
    "#Child Class\n",
    "class Car(Vehicle):\n",
    "    def __init__(self,make,model,fuel,air_conditioning,sunroof):\n",
    "        super(Car,self).__init__(make,model,fuel)\n",
    "        self.air_conditioning=air_conditioning\n",
    "        self._sunroof=sunroof\n",
    "\n",
    "class ElectricVehcile(Car,Vehicle):\n",
    "    def __init__(self,make,model,fuel,air_conditioning,sunroof,distance):\n",
    "        super(ElectricVehcile,self).__init__(make,model,fuel,air_conditioning,sunroof)\n",
    "        self.distance=distance\n",
    "\n",
    "myobj=ElectricVehcile(\"tesla\",2019,\"Electric\",True,True,500)\n",
    "\n",
    "myobj.__dict__\n",
    "\n",
    "\n"
   ]
  },
  {
   "cell_type": "code",
   "execution_count": 129,
   "id": "c1ac3d12",
   "metadata": {},
   "outputs": [
    {
     "name": "stdout",
     "output_type": "stream",
     "text": [
      "(<class '__main__.ElectricVehcile'>, <class '__main__.Car'>, <class '__main__.Vehicle'>, <class 'object'>)\n",
      "[<class '__main__.ElectricVehcile'>, <class '__main__.Car'>, <class '__main__.Vehicle'>, <class 'object'>]\n"
     ]
    }
   ],
   "source": [
    "myob =  ElectricVehcile(\"tata\",2019,\"Electric\",True,True,300)\n",
    "print(ElectricVehcile.__mro__)\n",
    "print(ElectricVehcile.mro())"
   ]
  },
  {
   "cell_type": "code",
   "execution_count": 130,
   "id": "c82a8a87",
   "metadata": {},
   "outputs": [],
   "source": [
    "class X: pass\n",
    "class Y: pass\n",
    "class Z:pass\n",
    "class A(X,Y):pass\n",
    "class B(Y,Z):pass\n",
    "class C(B,A,Y):pass\n"
   ]
  },
  {
   "cell_type": "code",
   "execution_count": 131,
   "id": "9ad73794",
   "metadata": {},
   "outputs": [
    {
     "data": {
      "text/plain": [
       "(__main__.C,\n",
       " __main__.B,\n",
       " __main__.A,\n",
       " __main__.X,\n",
       " __main__.Y,\n",
       " __main__.Z,\n",
       " object)"
      ]
     },
     "execution_count": 131,
     "metadata": {},
     "output_type": "execute_result"
    }
   ],
   "source": [
    "C.__mro__"
   ]
  },
  {
   "cell_type": "markdown",
   "id": "6365b940",
   "metadata": {},
   "source": [
    "# Abstraction"
   ]
  },
  {
   "cell_type": "code",
   "execution_count": null,
   "id": "3281caea",
   "metadata": {},
   "outputs": [],
   "source": [
    "#from abc import ABC, abstractmethod"
   ]
  },
  {
   "cell_type": "code",
   "execution_count": 4,
   "id": "953552c9",
   "metadata": {},
   "outputs": [],
   "source": [
    "from abc import ABC, abstractmethod\n",
    "\n",
    "class Vehicle(ABC):\n",
    "    \n",
    "    @abstractmethod\n",
    "    def get_value(self):\n",
    "        pass\n",
    "    \n",
    "\n",
    "class Car(Vehicle):\n",
    "    def __init__(self,make,model,fare):\n",
    "        self.make = make\n",
    "        self.model = model\n",
    "        self.fare = fare\n",
    "        \n",
    "    def get_value(self):\n",
    "        print('This is a Car class')"
   ]
  },
  {
   "cell_type": "code",
   "execution_count": 5,
   "id": "bcc2c490",
   "metadata": {},
   "outputs": [],
   "source": [
    "myobj = Car('Tata',2019,40)"
   ]
  },
  {
   "cell_type": "code",
   "execution_count": 6,
   "id": "d9d908f4",
   "metadata": {},
   "outputs": [
    {
     "name": "stdout",
     "output_type": "stream",
     "text": [
      "This is a Car class\n"
     ]
    }
   ],
   "source": [
    "myobj.get_value()"
   ]
  },
  {
   "cell_type": "code",
   "execution_count": 7,
   "id": "d6c88ae6",
   "metadata": {},
   "outputs": [],
   "source": [
    "from abc import ABC, abstractmethod\n",
    "\n",
    "class TextReaderAbstract(ABC):\n",
    "    \n",
    "    def __init__(self,path,filename):\n",
    "        self.path = path\n",
    "        self.filename = filename\n",
    "        \n",
    "    @abstractmethod\n",
    "    def get_path(self):\n",
    "        pass\n",
    "    \n",
    "    @abstractmethod\n",
    "    def get_filename(self):\n",
    "        pass"
   ]
  },
  {
   "cell_type": "code",
   "execution_count": 8,
   "id": "e480b94a",
   "metadata": {},
   "outputs": [],
   "source": [
    "class TextReader(TextReaderAbstract):\n",
    "    \n",
    "    def get_path(self):\n",
    "        return self.path\n",
    "    \n",
    "    def get_filename(self):\n",
    "        return self.filename\n",
    "    "
   ]
  },
  {
   "cell_type": "code",
   "execution_count": 10,
   "id": "573ac9f3",
   "metadata": {},
   "outputs": [],
   "source": [
    "obj = TextReader('/users/filename','sample.txt')"
   ]
  },
  {
   "cell_type": "code",
   "execution_count": 11,
   "id": "b58f7f85",
   "metadata": {},
   "outputs": [
    {
     "data": {
      "text/plain": [
       "'/users/filename'"
      ]
     },
     "execution_count": 11,
     "metadata": {},
     "output_type": "execute_result"
    }
   ],
   "source": [
    "obj.get_path()"
   ]
  },
  {
   "cell_type": "code",
   "execution_count": 12,
   "id": "33d7e679",
   "metadata": {},
   "outputs": [
    {
     "data": {
      "text/plain": [
       "'sample.txt'"
      ]
     },
     "execution_count": 12,
     "metadata": {},
     "output_type": "execute_result"
    }
   ],
   "source": [
    "obj.get_filename()"
   ]
  },
  {
   "cell_type": "markdown",
   "id": "1fd5acea",
   "metadata": {},
   "source": [
    "## Error and Exception Handling"
   ]
  },
  {
   "cell_type": "code",
   "execution_count": 33,
   "id": "84c4ca97",
   "metadata": {},
   "outputs": [],
   "source": [
    "class Book():\n",
    "    def __init__(self,name,price,year):\n",
    "        self.name = name\n",
    "        self.price = price\n",
    "        self.year = year\n",
    "        \n",
    "    def get_value(self):\n",
    "        try:\n",
    "            age = 2021 - self.year\n",
    "            return 1000*(1/age)\n",
    "        except TypeError:\n",
    "            age = 2021 - int(self.year)\n",
    "            return 1000*(1/age)\n",
    "        except ZeroDivisionError:\n",
    "            age = 2021 - int(self.year)\n",
    "            return 1000*(1)"
   ]
  },
  {
   "cell_type": "code",
   "execution_count": 40,
   "id": "ce5b7710",
   "metadata": {},
   "outputs": [],
   "source": [
    "myobj = Book('Harry Potter',200,'2019')"
   ]
  },
  {
   "cell_type": "code",
   "execution_count": 41,
   "id": "868d7c78",
   "metadata": {},
   "outputs": [
    {
     "data": {
      "text/plain": [
       "500.0"
      ]
     },
     "execution_count": 41,
     "metadata": {},
     "output_type": "execute_result"
    }
   ],
   "source": [
    "myobj.get_value()"
   ]
  },
  {
   "cell_type": "code",
   "execution_count": 30,
   "id": "2d070b1b",
   "metadata": {},
   "outputs": [
    {
     "name": "stdout",
     "output_type": "stream",
     "text": [
      "<class 'int'>\n"
     ]
    }
   ],
   "source": [
    "a = '2021'\n",
    "b = int(a)\n",
    "print(type(b))"
   ]
  },
  {
   "cell_type": "code",
   "execution_count": 43,
   "id": "d913cb48",
   "metadata": {},
   "outputs": [
    {
     "ename": "ZeroDivisionError",
     "evalue": "division by zero",
     "output_type": "error",
     "traceback": [
      "\u001b[1;31m---------------------------------------------------------------------------\u001b[0m",
      "\u001b[1;31mZeroDivisionError\u001b[0m                         Traceback (most recent call last)",
      "\u001b[1;32m~\\AppData\\Local\\Temp/ipykernel_6692/873244742.py\u001b[0m in \u001b[0;36m<module>\u001b[1;34m\u001b[0m\n\u001b[0;32m      2\u001b[0m     \u001b[0ma\u001b[0m \u001b[1;33m=\u001b[0m \u001b[1;36m10\u001b[0m\u001b[1;33m\u001b[0m\u001b[1;33m\u001b[0m\u001b[0m\n\u001b[0;32m      3\u001b[0m     \u001b[0mb\u001b[0m \u001b[1;33m=\u001b[0m \u001b[1;36m0\u001b[0m\u001b[1;33m\u001b[0m\u001b[1;33m\u001b[0m\u001b[0m\n\u001b[1;32m----> 4\u001b[1;33m     \u001b[0mc\u001b[0m \u001b[1;33m=\u001b[0m \u001b[0ma\u001b[0m\u001b[1;33m/\u001b[0m\u001b[0mb\u001b[0m\u001b[1;33m\u001b[0m\u001b[1;33m\u001b[0m\u001b[0m\n\u001b[0m\u001b[0;32m      5\u001b[0m     \u001b[0mprint\u001b[0m\u001b[1;33m(\u001b[0m\u001b[0mc\u001b[0m\u001b[1;33m)\u001b[0m\u001b[1;33m\u001b[0m\u001b[1;33m\u001b[0m\u001b[0m\n\u001b[0;32m      6\u001b[0m \u001b[1;32mexcept\u001b[0m \u001b[0mValueError\u001b[0m\u001b[1;33m:\u001b[0m\u001b[1;33m\u001b[0m\u001b[1;33m\u001b[0m\u001b[0m\n",
      "\u001b[1;31mZeroDivisionError\u001b[0m: division by zero"
     ]
    }
   ],
   "source": [
    "try:\n",
    "    a = 10\n",
    "    b = 0\n",
    "    c = a/b\n",
    "    print(c)\n",
    "except ValueError:\n",
    "    print('Exception occured')"
   ]
  },
  {
   "cell_type": "code",
   "execution_count": 45,
   "id": "7d97582e",
   "metadata": {},
   "outputs": [
    {
     "name": "stdout",
     "output_type": "stream",
     "text": [
      "Exception occured\n"
     ]
    }
   ],
   "source": [
    "try:\n",
    "    a = 10\n",
    "    b = 0\n",
    "    c = a/b\n",
    "    print(c)\n",
    "except :\n",
    "    print('Exception occured')"
   ]
  },
  {
   "cell_type": "code",
   "execution_count": 1,
   "id": "1cbc17cc",
   "metadata": {},
   "outputs": [
    {
     "name": "stdout",
     "output_type": "stream",
     "text": [
      "Name Error occured\n"
     ]
    }
   ],
   "source": [
    "try:\n",
    "    a = 10\n",
    "    b = 0\n",
    "    print(d)\n",
    "    c = a/b\n",
    "except NameError:\n",
    "    print('Name Error occured')\n",
    "except ZeroDivisionError:\n",
    "    print('Zero Division Error occured')"
   ]
  },
  {
   "cell_type": "markdown",
   "id": "92647a46",
   "metadata": {},
   "source": [
    "## Custom Exception"
   ]
  },
  {
   "cell_type": "code",
   "execution_count": 2,
   "id": "ced04d02",
   "metadata": {},
   "outputs": [],
   "source": [
    "class NegativeCarValue(Exception):\n",
    "    def __init__(self,value,message='car value can not be negative'):\n",
    "        self.value = value\n",
    "        self.message = message\n",
    "        super().__init__(self.message)\n",
    "        \n",
    "    def __str__(self):\n",
    "        return f'{self.message} --> {self.value}'"
   ]
  },
  {
   "cell_type": "code",
   "execution_count": 3,
   "id": "2b0f01fb",
   "metadata": {},
   "outputs": [
    {
     "ename": "NegativeCarValue",
     "evalue": "car value can not be negative --> -1",
     "output_type": "error",
     "traceback": [
      "\u001b[1;31m---------------------------------------------------------------------------\u001b[0m",
      "\u001b[1;31mNegativeCarValue\u001b[0m                          Traceback (most recent call last)",
      "\u001b[1;32m~\\AppData\\Local\\Temp/ipykernel_1228/68407406.py\u001b[0m in \u001b[0;36m<module>\u001b[1;34m\u001b[0m\n\u001b[0;32m      1\u001b[0m \u001b[0ma\u001b[0m \u001b[1;33m=\u001b[0m \u001b[1;33m-\u001b[0m\u001b[1;36m1\u001b[0m\u001b[1;33m\u001b[0m\u001b[1;33m\u001b[0m\u001b[0m\n\u001b[0;32m      2\u001b[0m \u001b[1;32mif\u001b[0m \u001b[0ma\u001b[0m\u001b[1;33m<\u001b[0m\u001b[1;36m0\u001b[0m\u001b[1;33m:\u001b[0m\u001b[1;33m\u001b[0m\u001b[1;33m\u001b[0m\u001b[0m\n\u001b[1;32m----> 3\u001b[1;33m     \u001b[1;32mraise\u001b[0m \u001b[0mNegativeCarValue\u001b[0m\u001b[1;33m(\u001b[0m\u001b[0ma\u001b[0m\u001b[1;33m)\u001b[0m\u001b[1;33m\u001b[0m\u001b[1;33m\u001b[0m\u001b[0m\n\u001b[0m",
      "\u001b[1;31mNegativeCarValue\u001b[0m: car value can not be negative --> -1"
     ]
    }
   ],
   "source": [
    "a = -1\n",
    "if a<0:\n",
    "    raise NegativeCarValue(a)"
   ]
  },
  {
   "cell_type": "code",
   "execution_count": 4,
   "id": "2b1e5e7c",
   "metadata": {},
   "outputs": [
    {
     "ename": "ZeroDenominatorError",
     "evalue": "",
     "output_type": "error",
     "traceback": [
      "\u001b[1;31m---------------------------------------------------------------------------\u001b[0m",
      "\u001b[1;31mZeroDenominatorError\u001b[0m                      Traceback (most recent call last)",
      "\u001b[1;32m~\\AppData\\Local\\Temp/ipykernel_1228/2753236073.py\u001b[0m in \u001b[0;36m<module>\u001b[1;34m\u001b[0m\n\u001b[0;32m      5\u001b[0m     \u001b[0mb\u001b[0m \u001b[1;33m=\u001b[0m \u001b[1;36m0\u001b[0m\u001b[1;33m\u001b[0m\u001b[1;33m\u001b[0m\u001b[0m\n\u001b[0;32m      6\u001b[0m     \u001b[1;32mif\u001b[0m\u001b[1;33m(\u001b[0m\u001b[0mb\u001b[0m\u001b[1;33m==\u001b[0m\u001b[1;36m0\u001b[0m\u001b[1;33m)\u001b[0m\u001b[1;33m:\u001b[0m\u001b[1;33m\u001b[0m\u001b[1;33m\u001b[0m\u001b[0m\n\u001b[1;32m----> 7\u001b[1;33m         \u001b[1;32mraise\u001b[0m \u001b[0mZeroDenominatorError\u001b[0m\u001b[1;33m(\u001b[0m\u001b[1;33m)\u001b[0m\u001b[1;33m\u001b[0m\u001b[1;33m\u001b[0m\u001b[0m\n\u001b[0m\u001b[0;32m      8\u001b[0m     \u001b[0mc\u001b[0m \u001b[1;33m=\u001b[0m \u001b[0ma\u001b[0m\u001b[1;33m/\u001b[0m\u001b[0mb\u001b[0m\u001b[1;33m\u001b[0m\u001b[1;33m\u001b[0m\u001b[0m\n\u001b[0;32m      9\u001b[0m \u001b[1;32mexcept\u001b[0m \u001b[0mZeroDivisionError\u001b[0m\u001b[1;33m:\u001b[0m\u001b[1;33m\u001b[0m\u001b[1;33m\u001b[0m\u001b[0m\n",
      "\u001b[1;31mZeroDenominatorError\u001b[0m: "
     ]
    }
   ],
   "source": [
    "class ZeroDenominatorError(Exception):\n",
    "    pass\n",
    "try:\n",
    "    a = 10\n",
    "    b = 0\n",
    "    if(b==0):\n",
    "        raise ZeroDenominatorError() \n",
    "    c = a/b\n",
    "except ZeroDivisionError:\n",
    "    print('Zero Division Error occured')"
   ]
  },
  {
   "cell_type": "code",
   "execution_count": 5,
   "id": "1da56666",
   "metadata": {},
   "outputs": [
    {
     "name": "stdout",
     "output_type": "stream",
     "text": [
      "Zero Division Error occured\n"
     ]
    }
   ],
   "source": [
    "class ZeroDenominatorError(ZeroDivisionError):\n",
    "    pass\n",
    "try:\n",
    "    a = 10\n",
    "    b = 0\n",
    "    if(b==0):\n",
    "        raise ZeroDenominatorError()\n",
    "    c = a/b\n",
    "except ZeroDivisionError:\n",
    "    print('Zero Division Error occured')\n",
    "except ZeroDenominatorError:\n",
    "    print('Zero Denominator Error occured')"
   ]
  },
  {
   "cell_type": "code",
   "execution_count": 8,
   "id": "cb048f94",
   "metadata": {},
   "outputs": [
    {
     "name": "stdout",
     "output_type": "stream",
     "text": [
      "Zero Division Error occured"
     ]
    }
   ],
   "source": [
    "class ZeroDenominatorError(ZeroDivisionError):\n",
    "    pass\n",
    "try:\n",
    "    a = 10\n",
    "    b = 0\n",
    "    if(b==0):\n",
    "        raise ZeroDenominatorError()\n",
    "    c = a/b\n",
    "except ZeroDivisionError:\n",
    "    print('Zero Division Error occured',end= '')\n",
    "except ZeroDenominatorError:\n",
    "    print('Zero Denominator Error occured',end = '')\n",
    "else:\n",
    "    print('else works')"
   ]
  },
  {
   "cell_type": "code",
   "execution_count": 10,
   "id": "ae3c95b9",
   "metadata": {},
   "outputs": [
    {
     "name": "stdout",
     "output_type": "stream",
     "text": [
      "else works\n"
     ]
    }
   ],
   "source": [
    "class ZeroDenominatorError(ZeroDivisionError):\n",
    "    pass\n",
    "try:\n",
    "    a = 10\n",
    "    b = 5\n",
    "    if(b==0):\n",
    "        raise ZeroDenominatorError()\n",
    "    c = a/b\n",
    "except ZeroDivisionError:\n",
    "    print('Zero Division Error occured',end='')\n",
    "except ZeroDenominatorError:\n",
    "    print('Zero Denominator Error occured',end = '')\n",
    "else:\n",
    "    print('else works')"
   ]
  },
  {
   "cell_type": "code",
   "execution_count": 12,
   "id": "4a32a9f4",
   "metadata": {},
   "outputs": [
    {
     "name": "stdout",
     "output_type": "stream",
     "text": [
      "else works finally works\n"
     ]
    }
   ],
   "source": [
    "class ZeroDenominatorError(ZeroDivisionError):\n",
    "    pass\n",
    "try:\n",
    "    a = 10\n",
    "    b = 5\n",
    "    if(b==0):\n",
    "        raise ZeroDenominatorError()\n",
    "    c = a/b\n",
    "except ZeroDivisionError:\n",
    "    print('Zero Division Error occured',end= '')\n",
    "except ZeroDenominatorError:\n",
    "    print('Zero Denominator Error occured',end = '')\n",
    "else:\n",
    "    print('else works',end=' ')\n",
    "finally:\n",
    "    print('finally works')"
   ]
  },
  {
   "cell_type": "code",
   "execution_count": null,
   "id": "77eb3bbe",
   "metadata": {},
   "outputs": [],
   "source": []
  }
 ],
 "metadata": {
  "kernelspec": {
   "display_name": "Python 3 (ipykernel)",
   "language": "python",
   "name": "python3"
  },
  "language_info": {
   "codemirror_mode": {
    "name": "ipython",
    "version": 3
   },
   "file_extension": ".py",
   "mimetype": "text/x-python",
   "name": "python",
   "nbconvert_exporter": "python",
   "pygments_lexer": "ipython3",
   "version": "3.9.7"
  }
 },
 "nbformat": 4,
 "nbformat_minor": 5
}
