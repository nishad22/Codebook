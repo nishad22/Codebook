{
 "cells": [
  {
   "cell_type": "code",
   "execution_count": 11,
   "id": "e519ec63",
   "metadata": {},
   "outputs": [],
   "source": [
    "def pow(a,b):\n",
    "    if b == 0:\n",
    "        return 1\n",
    "    return a * pow(a,b-1)\n",
    "\n",
    "def sum_n(a):\n",
    "    if a == 0:\n",
    "        return 0\n",
    "    op = sum_n(a-1)\n",
    "    return a + op"
   ]
  },
  {
   "cell_type": "code",
   "execution_count": 12,
   "id": "3c0988b1",
   "metadata": {},
   "outputs": [
    {
     "name": "stdout",
     "output_type": "stream",
     "text": [
      "5 3\n",
      "125\n",
      "15\n"
     ]
    }
   ],
   "source": [
    "a , b = input().split()\n",
    "a = int(a)\n",
    "b = int(b)\n",
    "power = pow(a,b)\n",
    "s = sum_n(a)\n",
    "print(power)\n",
    "print(s)"
   ]
  },
  {
   "cell_type": "code",
   "execution_count": 18,
   "id": "8d04c31c",
   "metadata": {},
   "outputs": [],
   "source": [
    "def print_1_to_n(n):\n",
    "    if n == 0:\n",
    "        return \n",
    "    print_1_to_n(n-1)\n",
    "    print(n,end = ' ')"
   ]
  },
  {
   "cell_type": "code",
   "execution_count": 19,
   "id": "8e64fae7",
   "metadata": {},
   "outputs": [
    {
     "name": "stdout",
     "output_type": "stream",
     "text": [
      "8\n",
      "1 2 3 4 5 6 7 8 "
     ]
    }
   ],
   "source": [
    "n = int(input())\n",
    "print_1_to_n(n)"
   ]
  },
  {
   "cell_type": "code",
   "execution_count": null,
   "id": "5a21e8e0",
   "metadata": {},
   "outputs": [],
   "source": [
    "def print_n_to_1(n):\n",
    "    if n == 0:\n",
    "        return\n",
    "    print(n)\n",
    "    print_n_to_1(n-1)\n",
    "    "
   ]
  },
  {
   "cell_type": "code",
   "execution_count": 1,
   "id": "f69747b8",
   "metadata": {},
   "outputs": [],
   "source": [
    "def fib(n):\n",
    "    if n <= 1:\n",
    "        return n\n",
    "    ans1 = fib(n-2)\n",
    "    ans2 = fib(n-1)\n",
    "    return ans1+ans2"
   ]
  },
  {
   "cell_type": "code",
   "execution_count": 3,
   "id": "7650b41d",
   "metadata": {},
   "outputs": [
    {
     "name": "stdout",
     "output_type": "stream",
     "text": [
      "6\n",
      "8\n"
     ]
    }
   ],
   "source": [
    "n = int(input())\n",
    "ans = fib(n)\n",
    "print(ans)"
   ]
  },
  {
   "cell_type": "code",
   "execution_count": 4,
   "id": "8e52c80a",
   "metadata": {},
   "outputs": [
    {
     "name": "stdout",
     "output_type": "stream",
     "text": [
      "2\n"
     ]
    }
   ],
   "source": [
    "a = [1,2,3,4,5]\n",
    "sm = a[1:]\n",
    "print(sm[0])"
   ]
  },
  {
   "cell_type": "code",
   "execution_count": 9,
   "id": "b9d61774",
   "metadata": {},
   "outputs": [],
   "source": [
    "# sum of ele in array/ist\n",
    "\n",
    "def sum_list(arr):\n",
    "    l = len(arr)\n",
    "    if l == 1:\n",
    "        return arr[0]\n",
    "    return arr[0] + sum_list(arr[1:])\n",
    "        "
   ]
  },
  {
   "cell_type": "code",
   "execution_count": 10,
   "id": "1a29df56",
   "metadata": {},
   "outputs": [
    {
     "name": "stdout",
     "output_type": "stream",
     "text": [
      "26\n"
     ]
    }
   ],
   "source": [
    "arr = [9,8,9]\n",
    "s = sum_list(arr)\n",
    "print(s)"
   ]
  },
  {
   "cell_type": "code",
   "execution_count": 34,
   "id": "9bb6e0df",
   "metadata": {},
   "outputs": [],
   "source": [
    "#check number present in list\n",
    "\n",
    "def checknum(arr,x,l):\n",
    "    n = len(arr)-1-l\n",
    "    print('l:',l,\",n:\",n)\n",
    "    if n < l:\n",
    "        print('False')\n",
    "        return False\n",
    "    if arr[l] == x:\n",
    "        return True\n",
    "    elif arr[n] == x:\n",
    "        return True\n",
    "    return checknum(arr,x,l+1)\n",
    "    "
   ]
  },
  {
   "cell_type": "code",
   "execution_count": 35,
   "id": "b5baa510",
   "metadata": {},
   "outputs": [
    {
     "name": "stdout",
     "output_type": "stream",
     "text": [
      "l: 0 ,n: 2\n",
      "l: 1 ,n: 1\n",
      "l: 2 ,n: 0\n",
      "False\n"
     ]
    },
    {
     "data": {
      "text/plain": [
       "False"
      ]
     },
     "execution_count": 35,
     "metadata": {},
     "output_type": "execute_result"
    }
   ],
   "source": [
    "arr = [9,8,10]\n",
    "x = 11\n",
    "\n",
    "checknum(arr,x,0)"
   ]
  },
  {
   "cell_type": "code",
   "execution_count": 26,
   "id": "a23e1fcf",
   "metadata": {},
   "outputs": [],
   "source": [
    "#check if array is sorted\n",
    "def isSorted(arr,si):\n",
    "    flag = True\n",
    "    if si == len(arr)-1 or si==len(arr):\n",
    "        print(flag,':',si)\n",
    "        return True\n",
    "    if arr[si]>arr[si+1]:\n",
    "        flag = False\n",
    "        print(flag,':',si)\n",
    "        return False\n",
    "    print(flag,':',si)\n",
    "    return isSorted(arr,si+1)"
   ]
  },
  {
   "cell_type": "code",
   "execution_count": 28,
   "id": "ab6df8fa",
   "metadata": {},
   "outputs": [
    {
     "name": "stdout",
     "output_type": "stream",
     "text": [
      "True : 0\n",
      "True : 1\n",
      "True : 2\n",
      "True : 3\n",
      "False : 4\n"
     ]
    },
    {
     "data": {
      "text/plain": [
       "False"
      ]
     },
     "execution_count": 28,
     "metadata": {},
     "output_type": "execute_result"
    }
   ],
   "source": [
    "arr = [1,2,3,4,5,0]\n",
    "isSorted(arr,0)"
   ]
  },
  {
   "cell_type": "code",
   "execution_count": 36,
   "id": "5c89bb32",
   "metadata": {},
   "outputs": [
    {
     "name": "stdout",
     "output_type": "stream",
     "text": [
      "True\n"
     ]
    }
   ],
   "source": [
    "if 1<1:\n",
    "    print('False')\n",
    "else:\n",
    "    print('True')"
   ]
  },
  {
   "cell_type": "code",
   "execution_count": 38,
   "id": "14564300",
   "metadata": {},
   "outputs": [],
   "source": [
    "#Return index of element in list when it first occurs\n",
    "\n",
    "def firstIndex(arr,si,x):\n",
    "    if si == len(arr)-1 and arr[si]!=x:\n",
    "        return -1\n",
    "    if arr[si] == x:\n",
    "        return si\n",
    "    return firstIndex(arr,si+1,x)\n"
   ]
  },
  {
   "cell_type": "code",
   "execution_count": 42,
   "id": "4baaadb6",
   "metadata": {},
   "outputs": [
    {
     "name": "stdout",
     "output_type": "stream",
     "text": [
      "1\n"
     ]
    }
   ],
   "source": [
    "arr = [1,2,3,4,5,2,5]\n",
    "index = firstIndex(arr,0,2)\n",
    "print(index)"
   ]
  },
  {
   "cell_type": "code",
   "execution_count": 43,
   "id": "cc396ce5",
   "metadata": {},
   "outputs": [],
   "source": [
    "def firstIndex(a,x):\n",
    "    l=len(a)\n",
    "    if l==0:\n",
    "        return -1\n",
    "    if a[0]==x:\n",
    "        return 0\n",
    "    smallerList=a[1:]\n",
    "    smallerListOutput=firstIndex(smallerList,x)\n",
    "    \n",
    "    if smallerListOutput==-1:\n",
    "        return -1\n",
    "    else:\n",
    "        return smallerListOutput+1"
   ]
  },
  {
   "cell_type": "code",
   "execution_count": 45,
   "id": "cd42220b",
   "metadata": {},
   "outputs": [
    {
     "name": "stdout",
     "output_type": "stream",
     "text": [
      "5\n"
     ]
    }
   ],
   "source": [
    "#a=[1,2,4,5,6,7,8,9,7]\n",
    "a = [1,2,3,2,4,5,6]\n",
    "print(firstIndex(a,5))"
   ]
  },
  {
   "cell_type": "code",
   "execution_count": 46,
   "id": "7df9d76a",
   "metadata": {},
   "outputs": [],
   "source": [
    "#Return index of element in list when it last occurs\n",
    "\n",
    "def lastIndex(arr,x,si):\n",
    "    if si == -1:\n",
    "        return -1\n",
    "    if arr[si]==x:\n",
    "        return si\n",
    "    return lastIndex(arr,x,si-1)\n"
   ]
  },
  {
   "cell_type": "code",
   "execution_count": 48,
   "id": "6913edda",
   "metadata": {},
   "outputs": [
    {
     "name": "stdout",
     "output_type": "stream",
     "text": [
      "3\n"
     ]
    }
   ],
   "source": [
    "a=[1,2,7,2,6,7,8,9]\n",
    "print(lastIndex(a,2,len(a)-1))"
   ]
  },
  {
   "cell_type": "code",
   "execution_count": 49,
   "id": "198e60ea",
   "metadata": {},
   "outputs": [
    {
     "name": "stdout",
     "output_type": "stream",
     "text": [
      "1 2 3 4 5\n",
      "4\n",
      "3\n"
     ]
    }
   ],
   "source": [
    "def lastIndex(arr,x,si):\n",
    "    if si == -1:\n",
    "        return -1\n",
    "    if arr[si]==x:\n",
    "        return si\n",
    "    return lastIndex(arr,x,si-1)\n",
    "\n",
    "arr = [int(x) for x in input().split()]\n",
    "n = int(input())\n",
    "print(lastIndex(arr,n,len(arr)-1))"
   ]
  },
  {
   "cell_type": "code",
   "execution_count": 4,
   "id": "84f61d16",
   "metadata": {},
   "outputs": [],
   "source": [
    "# check if the given number is prime or not\n",
    "\n",
    "def prime(n):\n",
    "    i = 2\n",
    "    while i <= n/2:\n",
    "        if n%i == 0:\n",
    "            return False\n",
    "        i += 1\n",
    "    else:\n",
    "        return True"
   ]
  },
  {
   "cell_type": "code",
   "execution_count": 7,
   "id": "a6ef6b9d",
   "metadata": {},
   "outputs": [
    {
     "name": "stdout",
     "output_type": "stream",
     "text": [
      "10\n"
     ]
    },
    {
     "data": {
      "text/plain": [
       "False"
      ]
     },
     "execution_count": 7,
     "metadata": {},
     "output_type": "execute_result"
    }
   ],
   "source": [
    "n = int(input())\n",
    "prime(n)"
   ]
  },
  {
   "cell_type": "code",
   "execution_count": 31,
   "id": "4b2b7815",
   "metadata": {},
   "outputs": [],
   "source": [
    "def prime(n,i = n//2):\n",
    "    isprime = n%i\n",
    "    print('n:',n,'i:',i,'=',isprime)\n",
    "    if (i == 2 and isprime!=0) or n == 2:\n",
    "        return True\n",
    "    if isprime == 0:\n",
    "        return False\n",
    "    return prime(n,i-1)\n",
    "    "
   ]
  },
  {
   "cell_type": "code",
   "execution_count": 32,
   "id": "b9a7d3b8",
   "metadata": {},
   "outputs": [
    {
     "name": "stdout",
     "output_type": "stream",
     "text": [
      "13\n",
      "n: 13 i: 6 = 1\n",
      "n: 13 i: 5 = 3\n",
      "n: 13 i: 4 = 1\n",
      "n: 13 i: 3 = 1\n",
      "n: 13 i: 2 = 1\n"
     ]
    },
    {
     "data": {
      "text/plain": [
       "True"
      ]
     },
     "execution_count": 32,
     "metadata": {},
     "output_type": "execute_result"
    }
   ],
   "source": [
    "n = int(input())\n",
    "i = n//2\n",
    "#print(i)\n",
    "prime(n)"
   ]
  },
  {
   "cell_type": "code",
   "execution_count": 5,
   "id": "7d5fd1b0",
   "metadata": {},
   "outputs": [],
   "source": [
    "rev = 0\n",
    "def pal(n):\n",
    "    global rev\n",
    "    if n==0:\n",
    "        #print(rev)\n",
    "        return \n",
    "    else:\n",
    "        rem = n%10\n",
    "        rev = rev*10 + rem\n",
    "        pal(n//10)\n",
    "    return rev \n",
    "        \n",
    "        "
   ]
  },
  {
   "cell_type": "code",
   "execution_count": null,
   "id": "fdaf275f",
   "metadata": {},
   "outputs": [
    {
     "name": "stdout",
     "output_type": "stream",
     "text": [
      "-121\n"
     ]
    }
   ],
   "source": [
    "n = int(input())\n",
    "re = pal(n)\n",
    "print('re:',re)\n",
    "if re == n:\n",
    "    print('Yes')\n",
    "else:\n",
    "    print('No')"
   ]
  },
  {
   "cell_type": "code",
   "execution_count": 41,
   "id": "e3e47ad5",
   "metadata": {},
   "outputs": [],
   "source": [
    "#binary Search \n",
    "\n",
    "def bs(ar,x,l=0,h=len(arr)-1):\n",
    "    mid = (l+h)//2\n",
    "    if l > h:\n",
    "        return -1\n",
    "    if arr[mid] == x:\n",
    "        return mid\n",
    "    if arr[mid]>x:\n",
    "        return bs(arr,x,l,mid-1)\n",
    "    else:\n",
    "        return bs(arr,x,mid+1,h)\n"
   ]
  },
  {
   "cell_type": "code",
   "execution_count": 42,
   "id": "58237ff3",
   "metadata": {},
   "outputs": [
    {
     "name": "stdout",
     "output_type": "stream",
     "text": [
      "1 2 3 4 5\n",
      "4\n",
      "Element 4 is present at index 3\n"
     ]
    }
   ],
   "source": [
    "ar = [int(i) for i in input().split()]\n",
    "x = int(input())\n",
    "index = bs(arr,x)\n",
    "print('Element',x,'is present at index',index)"
   ]
  },
  {
   "cell_type": "code",
   "execution_count": 80,
   "id": "a578c182",
   "metadata": {},
   "outputs": [],
   "source": [
    "#replace Character from string with another char\n",
    "\n",
    "def replaceChar(s,a,b):\n",
    "    if len(s)==0:\n",
    "        print('at len 0',s)\n",
    "        return s\n",
    "    smallOutput=replaceChar(s[1:],a,b)\n",
    "    #print(smallOutput)\n",
    "    if s[0]==a:\n",
    "        return b+smallOutput\n",
    "    else:\n",
    "        return s[0]+smallOutput\n",
    "\n"
   ]
  },
  {
   "cell_type": "code",
   "execution_count": 81,
   "id": "d822c1f8",
   "metadata": {},
   "outputs": [
    {
     "name": "stdout",
     "output_type": "stream",
     "text": [
      "at len 0 \n"
     ]
    },
    {
     "data": {
      "text/plain": [
       "'eeeabd'"
      ]
     },
     "execution_count": 81,
     "metadata": {},
     "output_type": "execute_result"
    }
   ],
   "source": [
    "replaceChar(\"cccabd\",'c','e')"
   ]
  },
  {
   "cell_type": "code",
   "execution_count": 50,
   "id": "86c4180d",
   "metadata": {},
   "outputs": [],
   "source": [
    "#palindrome of a string\n",
    "\n",
    "def pal(s,i=0,le = len(s)//2):\n",
    "    if i>le:\n",
    "        return\n",
    "    if s[i] == s[len(s)-1-i]:\n",
    "        return pal(s,i+1)\n",
    "    else:\n",
    "        return -1"
   ]
  },
  {
   "cell_type": "code",
   "execution_count": 51,
   "id": "98bd83b2",
   "metadata": {},
   "outputs": [
    {
     "name": "stdout",
     "output_type": "stream",
     "text": [
      "Not palindrome\n"
     ]
    }
   ],
   "source": [
    "val = pal('adam')\n",
    "if val == -1:\n",
    "    print('Not palindrome')\n",
    "else:\n",
    "    print('Palindrome')"
   ]
  },
  {
   "cell_type": "code",
   "execution_count": 63,
   "id": "b7fe294c",
   "metadata": {},
   "outputs": [
    {
     "name": "stdout",
     "output_type": "stream",
     "text": [
      "m\n",
      "a\n",
      "d\n",
      "a\n",
      "e\n"
     ]
    }
   ],
   "source": [
    "#st = 'eadam'\n",
    "st[-5]\n",
    "for i in range(len(st)-1,-1,-1):\n",
    "    print(st[i])"
   ]
  },
  {
   "cell_type": "code",
   "execution_count": 82,
   "id": "4a185862",
   "metadata": {},
   "outputs": [],
   "source": [
    "def rev(s):\n",
    "    if len(s) == 0:\n",
    "        return \n",
    "    temp = s[0]\n",
    "    rev(s[1:])\n",
    "    print(temp,end='')"
   ]
  },
  {
   "cell_type": "code",
   "execution_count": 83,
   "id": "7a038eac",
   "metadata": {},
   "outputs": [
    {
     "name": "stdout",
     "output_type": "stream",
     "text": [
      "dahsiN"
     ]
    }
   ],
   "source": [
    "rev('Nishad')"
   ]
  },
  {
   "cell_type": "code",
   "execution_count": 93,
   "id": "7d3e7336",
   "metadata": {},
   "outputs": [],
   "source": [
    "#logic : i assume my start index i = 0 and increamented it till it equals to length\n",
    "#I also conparing my every ele of string with the element which I want to remove if that element is matching then \n",
    "#I simply increamenting my index with i+1 else I am just printing that ele which is not matching and increamenting\n",
    "#the index with 1 in order to traverse the string\n",
    "\n",
    "\n",
    "def remove(s,i=0):\n",
    "    if i == len(s):\n",
    "        return ''\n",
    "    if s[i] == 'a':\n",
    "        return remove(s,i+1)\n",
    "    else:\n",
    "        print(s[i],end='')\n",
    "        return remove(s,i+1)\n",
    "    \n",
    "    \n"
   ]
  },
  {
   "cell_type": "code",
   "execution_count": 94,
   "id": "01b62c60",
   "metadata": {},
   "outputs": [
    {
     "name": "stdout",
     "output_type": "stream",
     "text": [
      "bcde"
     ]
    },
    {
     "data": {
      "text/plain": [
       "''"
      ]
     },
     "execution_count": 94,
     "metadata": {},
     "output_type": "execute_result"
    }
   ],
   "source": [
    "remove('aabcdea')"
   ]
  },
  {
   "cell_type": "code",
   "execution_count": 117,
   "id": "91dfb33a",
   "metadata": {},
   "outputs": [],
   "source": [
    "#below function will work however, the time limit will exceed over 1 sec\n",
    "\n",
    "\n",
    "def rem(s):\n",
    "    if len(s) == 0:\n",
    "        return s\n",
    "    so = rem(s[1:])\n",
    "   # print(so)\n",
    "    if s[0]!='a':\n",
    "        return s[0] + so\n",
    "    return rem(s[1:])\n",
    "    "
   ]
  },
  {
   "cell_type": "code",
   "execution_count": 118,
   "id": "ab0be6aa",
   "metadata": {},
   "outputs": [
    {
     "data": {
      "text/plain": [
       "'bcde'"
      ]
     },
     "execution_count": 118,
     "metadata": {},
     "output_type": "execute_result"
    }
   ],
   "source": [
    "rem('aabcdea')"
   ]
  },
  {
   "cell_type": "code",
   "execution_count": null,
   "id": "7cd53510",
   "metadata": {},
   "outputs": [],
   "source": []
  },
  {
   "cell_type": "code",
   "execution_count": 3,
   "id": "5546a4e3",
   "metadata": {},
   "outputs": [],
   "source": [
    "#remove duplicate recursively \n",
    "'''\n",
    "logic1: compared the element of string present at index 0 and 1 if it is equal then I slice the string from 2 index and return the \n",
    "output else if it not equal I simply conctenated the string present at index 0 and slice the string from index 1\n",
    "'''\n",
    "\n",
    "def remdupl(s):\n",
    "    if len(s) == 0 or len(s) == 1:\n",
    "        return s\n",
    "    if s[0]!=s[1]:\n",
    "        #so = remdupl(s[1:])\n",
    "        return s[0] + remdupl(s[1:])\n",
    "    else:\n",
    "        return remdupl(s[1:])"
   ]
  },
  {
   "cell_type": "code",
   "execution_count": 4,
   "id": "1454b424",
   "metadata": {},
   "outputs": [
    {
     "data": {
      "text/plain": [
       "'CodingNinjas'"
      ]
     },
     "execution_count": 4,
     "metadata": {},
     "output_type": "execute_result"
    }
   ],
   "source": [
    "remdupl('CCooddiinnggNNiinnnnjjjjaaaassss')"
   ]
  },
  {
   "cell_type": "code",
   "execution_count": 146,
   "id": "0c0418bd",
   "metadata": {},
   "outputs": [
    {
     "name": "stdout",
     "output_type": "stream",
     "text": [
      "4\n",
      "[5, 8, 3, 1]\n",
      "[9, 11, 2, 4, 10]\n",
      "2\n",
      "[5, 8, 3, 1]\n",
      "[5, 8]\n"
     ]
    }
   ],
   "source": [
    "a = [5,8,3,1,9,11,2,4,10]\n",
    "mid = (0+len(a))//2\n",
    "print(mid)\n",
    "print(a[:mid])\n",
    "print(a[mid:])\n",
    "\n",
    "l = a[:mid]\n",
    "mid = (0+len(l))//2\n",
    "print(mid)\n",
    "print(l[:])\n",
    "print(l[:mid])"
   ]
  },
  {
   "cell_type": "code",
   "execution_count": 37,
   "id": "216cce48",
   "metadata": {},
   "outputs": [],
   "source": [
    "def mergearray(a1,a2,a):\n",
    "    i,j,k = 0,0,0\n",
    "    while (i<len(a1) and j<len(a2)):\n",
    "        if a1[i]<a2[j]:\n",
    "            a[k] = a1[i]\n",
    "            i += 1\n",
    "            k += 1\n",
    "        else:\n",
    "            a[k] = a2[j]\n",
    "            j += 1\n",
    "            k += 1\n",
    "    while i<len(a1):\n",
    "        a[k] = a1[i]\n",
    "        i += 1\n",
    "        k += 1\n",
    "    while j<len(a2):\n",
    "        a[k] = a2[j]\n",
    "        j += 1\n",
    "        k += 1\n",
    "        \n",
    "            \n",
    "\n",
    "def mergesort(a):\n",
    "    if len(a) == 0 or len(a) == 1:\n",
    "        return arr\n",
    "    mid = len(a)//2\n",
    "    a1 = a[:mid]\n",
    "    a2 = a[mid:]\n",
    "    \n",
    "    mergesort(a1)\n",
    "    mergesort(a2)\n",
    "    mergearray(a1,a2,a)"
   ]
  },
  {
   "cell_type": "code",
   "execution_count": 38,
   "id": "ba398123",
   "metadata": {},
   "outputs": [
    {
     "data": {
      "text/plain": [
       "[1, 2, 3, 4, 5, 8, 9, 10, 11]"
      ]
     },
     "execution_count": 38,
     "metadata": {},
     "output_type": "execute_result"
    }
   ],
   "source": [
    "a = [5,8,3,1,9,11,2,4,10]\n",
    "mergesort(a)\n",
    "a"
   ]
  },
  {
   "cell_type": "code",
   "execution_count": 15,
   "id": "77d89161",
   "metadata": {},
   "outputs": [],
   "source": [
    "#Quick Sort\n",
    "\n",
    "def partition(a,si,ei):\n",
    "    count = 0\n",
    "    pivot = a[si]\n",
    "    #here counting number of element which is less than pivot \n",
    "    #so that we can make space for those element which is less than pivot\n",
    "    for i in range(si,ei+1):\n",
    "        if a[i]<pivot:\n",
    "            count =  count + 1\n",
    "    pivot_index = si + count\n",
    "    a[pivot_index],a[si] = a[si],a[pivot_index]\n",
    "    i = si\n",
    "    j = ei\n",
    "    while i<j:\n",
    "        # increamention the si by 1 if element in list is less than pivot\n",
    "        if a[i]<pivot:\n",
    "            i += 1\n",
    "        # decreamenting the ei by 1 if element in list is greater than or equal to pivot\n",
    "        elif a[j]>=pivot:\n",
    "            j -= 1\n",
    "        #here we are swapping element if both the below condition are not met\n",
    "        else:\n",
    "            a[i],a[j] = a[j],a[i]\n",
    "            i += 1\n",
    "            j -= 1\n",
    "    return pivot_index\n",
    "            \n",
    "\n",
    "def quick_sort(a,si,ei):\n",
    "    if si >= ei:\n",
    "        return \n",
    "    #print(a)\n",
    "    pivot_index = partition(a,si,ei)\n",
    "    print(pivot_index)\n",
    "    quick_sort(a,si,pivot_index-1)\n",
    "    quick_sort(a,pivot_index+1,ei)\n",
    "  "
   ]
  },
  {
   "cell_type": "code",
   "execution_count": 16,
   "id": "45426959",
   "metadata": {},
   "outputs": [
    {
     "name": "stdout",
     "output_type": "stream",
     "text": [
      "1\n",
      "5\n",
      "2\n",
      "4\n",
      "None\n"
     ]
    },
    {
     "data": {
      "text/plain": [
       "[5, 10, 40, 50, 70, 80, 90]"
      ]
     },
     "execution_count": 16,
     "metadata": {},
     "output_type": "execute_result"
    }
   ],
   "source": [
    "a = [10,80,5,90,50,40,70]\n",
    "print(quick_sort(a,0,len(a)-1))\n",
    "a"
   ]
  },
  {
   "cell_type": "code",
   "execution_count": 47,
   "id": "a41bbf8b",
   "metadata": {},
   "outputs": [],
   "source": [
    "#convert String to interger\n",
    "\n",
    "def remove_zero(st,i=0):\n",
    "    if len(st)==1:\n",
    "        return s\n",
    "    if st[i] != '0':\n",
    "        return st[i:]\n",
    "    return remove_zero(st,i+1)\n",
    "\n",
    "\n",
    "def stringtointeger(st,i=0,op = 0):\n",
    "    if i == len(st):\n",
    "        return 0\n",
    "    #op = int(st[i]) * (10**(len(st)-j))\n",
    "    op = op*10 + ord(s[i])-48\n",
    "    print(op)\n",
    "    integer = op + stringtointeger(st,i+1,op)\n",
    "    return integer"
   ]
  },
  {
   "cell_type": "code",
   "execution_count": 48,
   "id": "8c5eb067",
   "metadata": {},
   "outputs": [
    {
     "name": "stdout",
     "output_type": "stream",
     "text": [
      "124\n",
      "1\n",
      "12\n",
      "124\n",
      "137 <class 'int'>\n"
     ]
    }
   ],
   "source": [
    "st = input()\n",
    "s = remove_zero(st)\n",
    "#print(s)\n",
    "integer = stringtointeger(s)\n",
    "print(integer,type(integer))"
   ]
  },
  {
   "cell_type": "code",
   "execution_count": 14,
   "id": "166954aa",
   "metadata": {},
   "outputs": [
    {
     "data": {
      "text/plain": [
       "100"
      ]
     },
     "execution_count": 14,
     "metadata": {},
     "output_type": "execute_result"
    }
   ],
   "source": [
    "10**(3-1)"
   ]
  },
  {
   "cell_type": "code",
   "execution_count": 36,
   "id": "f37de0b1",
   "metadata": {},
   "outputs": [
    {
     "name": "stdout",
     "output_type": "stream",
     "text": [
      "1 :: 49\n",
      "\n",
      "2 :: 50\n",
      "\n",
      "3 :: 51\n",
      "\n"
     ]
    }
   ],
   "source": [
    "s = '123'\n",
    "#i = int(s)\n",
    "#print(type(i))\n",
    "for i in range(len(s)):\n",
    "    print(ord(s[i])-48,'::',ord(s[i]))\n",
    "    print(i*10 + ord(s[i])-48)"
   ]
  },
  {
   "cell_type": "code",
   "execution_count": 32,
   "id": "cfe5f142",
   "metadata": {},
   "outputs": [
    {
     "name": "stdout",
     "output_type": "stream",
     "text": [
      "00124\n",
      "124 <class 'str'>\n"
     ]
    }
   ],
   "source": [
    "n = int(input())\n",
    "st = str(n//1)\n",
    "print(st,type(st))"
   ]
  },
  {
   "cell_type": "code",
   "execution_count": 15,
   "id": "7081baba",
   "metadata": {},
   "outputs": [],
   "source": [
    "#pair star\n",
    "\n",
    "'''\n",
    "Given a string S, compute recursively a new string where identical chars that are adjacent in the original \n",
    "string are separated from each other by a \"*\".\n",
    "'''\n",
    "\n",
    "def pairstar(st):\n",
    "    if len(st)==1:\n",
    "        return st\n",
    "    s = st[1:]\n",
    "    if st[0] == st[1]:\n",
    "        return st[0] + '*' +  pairstar(s)\n",
    "    return st[0]+ pairstar(s)\n",
    "    "
   ]
  },
  {
   "cell_type": "code",
   "execution_count": 16,
   "id": "7dbf884f",
   "metadata": {},
   "outputs": [
    {
     "name": "stdout",
     "output_type": "stream",
     "text": [
      "aaaaaaaaaaa\n",
      "a*a*a*a*a*a*a*a*a*a*a\n"
     ]
    }
   ],
   "source": [
    "st = input()\n",
    "s = pairstar(st)\n",
    "print(s)"
   ]
  },
  {
   "cell_type": "code",
   "execution_count": 17,
   "id": "8eb5f99e",
   "metadata": {},
   "outputs": [],
   "source": [
    "def pairstar1(st,i=0):\n",
    "    if len(st)-1==i:\n",
    "        return st[i]\n",
    "    #s = st[1:]\n",
    "    if st[i] == st[i+1]:\n",
    "        return st[i] + '*' +  pairstar1(st,i+1)\n",
    "    return st[i]+ pairstar1(st,i+1)"
   ]
  },
  {
   "cell_type": "code",
   "execution_count": 18,
   "id": "4d4ca2b9",
   "metadata": {},
   "outputs": [
    {
     "name": "stdout",
     "output_type": "stream",
     "text": [
      "hello\n",
      "hel*lo\n"
     ]
    }
   ],
   "source": [
    "st = input()\n",
    "s = pairstar1(st)\n",
    "print(s)"
   ]
  },
  {
   "cell_type": "code",
   "execution_count": 14,
   "id": "25cc6637",
   "metadata": {},
   "outputs": [
    {
     "name": "stdout",
     "output_type": "stream",
     "text": [
      "3.34522\n",
      "3.3452\n",
      "3.34522\n"
     ]
    }
   ],
   "source": [
    "z = 3.345217\n",
    "print('%.5f'%z)\n",
    "print(round(z,4))\n",
    "print(\"{:.5f}\".format(z))"
   ]
  },
  {
   "cell_type": "code",
   "execution_count": 26,
   "id": "12976c21",
   "metadata": {},
   "outputs": [],
   "source": [
    "def geometric(n,op=0):\n",
    "    if n == 0:\n",
    "        return 2**n\n",
    "    op = float(op + 1/(2**(n)) + geometric(n-1))\n",
    "    return op"
   ]
  },
  {
   "cell_type": "code",
   "execution_count": 27,
   "id": "e5764160",
   "metadata": {},
   "outputs": [
    {
     "name": "stdout",
     "output_type": "stream",
     "text": [
      "3\n",
      "1.87500\n"
     ]
    }
   ],
   "source": [
    "n = int(input())\n",
    "su = geometric(n)\n",
    "print(\"{:.5f}\".format(su))\n",
    "\n"
   ]
  },
  {
   "cell_type": "code",
   "execution_count": 42,
   "id": "2fcb8860",
   "metadata": {},
   "outputs": [
    {
     "name": "stdout",
     "output_type": "stream",
     "text": [
      "True\n"
     ]
    }
   ],
   "source": [
    "#s = 'abb'\n",
    "s = 'a'\n",
    "if len(s) == 1 and s[0]=='a':\n",
    "    print(True)\n",
    "elif s[0] == 'a' and (s[1]+s[2]) == 'bb':\n",
    "    print(True)\n",
    "else:\n",
    "    print(False)\n",
    "    \n"
   ]
  },
  {
   "cell_type": "code",
   "execution_count": 70,
   "id": "ffab9b93",
   "metadata": {},
   "outputs": [],
   "source": []
  },
  {
   "cell_type": "code",
   "execution_count": 72,
   "id": "ffee83e7",
   "metadata": {},
   "outputs": [
    {
     "name": "stdout",
     "output_type": "stream",
     "text": [
      "abbbabaaa\n",
      "true\n"
     ]
    }
   ],
   "source": []
  },
  {
   "cell_type": "code",
   "execution_count": 74,
   "id": "665daa4f",
   "metadata": {},
   "outputs": [
    {
     "name": "stdout",
     "output_type": "stream",
     "text": [
      "abbbabaaa\n",
      "false\n"
     ]
    }
   ],
   "source": [
    "'''\n",
    "Check AB\n",
    "\n",
    "Suppose you have a string, S, made up of only 'a's and 'b's. Write a recursive \n",
    "function that checks if the string was generated using the following rules:\n",
    "a. The string begins with an 'a'\n",
    "b. Each 'a' is followed by nothing or an 'a' or \"bb\"\n",
    "c. Each \"bb\" is followed by nothing or an 'a'\n",
    "\n",
    "ip = abb\n",
    "op = true\n",
    "\n",
    "ip = abababa\n",
    "op = false\n",
    "\n",
    "'''\n",
    "\n",
    "\n",
    "def check_ab(str):\n",
    "    if (len(str)==0):\n",
    "        return True\n",
    "    \n",
    "    if (str[0] == 'a'):\n",
    "        \n",
    "        if (len(str[1:])>1 and str[1:3] == 'bb'):\n",
    "            return check_ab(str[3:])\n",
    "        \n",
    "        else:\n",
    "            return check_ab(str[1:])\n",
    "        \n",
    "    else:\n",
    "        return False\n",
    "    \n",
    "\n",
    "str = input()\n",
    "if (check_ab(str)):\n",
    "    print(\"true\")\n",
    "else:\n",
    "    print(\"false\")"
   ]
  },
  {
   "cell_type": "code",
   "execution_count": 3,
   "id": "ebfa96e0",
   "metadata": {},
   "outputs": [
    {
     "name": "stdout",
     "output_type": "stream",
     "text": [
      "9\n"
     ]
    }
   ],
   "source": [
    "num = -121%10\n",
    "print(num.)"
   ]
  },
  {
   "cell_type": "code",
   "execution_count": 4,
   "id": "1517e477",
   "metadata": {},
   "outputs": [
    {
     "name": "stdout",
     "output_type": "stream",
     "text": [
      "121\n"
     ]
    }
   ],
   "source": [
    "print(abs(-121))"
   ]
  },
  {
   "cell_type": "code",
   "execution_count": 31,
   "id": "2fb1080a",
   "metadata": {},
   "outputs": [],
   "source": [
    "'''\n",
    "Given a string s containing just the characters '(', ')', '{', '}', '[' and ']', determine if the input string is valid.\n",
    "\n",
    "An input string is valid if:\n",
    "\n",
    "Open brackets must be closed by the same type of brackets.\n",
    "Open brackets must be closed in the correct order.\n",
    " \n",
    "\n",
    "Example 1:\n",
    "\n",
    "Input: s = \"()\"\n",
    "Output: true\n",
    "Example 2:\n",
    "\n",
    "Input: s = \"()[]{}\"\n",
    "Output: true\n",
    "Example 3:\n",
    "\n",
    "Input: s = \"(]\"\n",
    "Output: false\n",
    "\n",
    "'''\n",
    "\n",
    "def isValidParentheses(st):\n",
    "    if len(st)==0:\n",
    "        return True\n",
    "    if (st[0] == '(' and st[1]==')') or (st[0] == '{' and st[1]=='}') or (st[0] == '[' and st[1]==']'):\n",
    "        return isValidParentheses(st[2:])\n",
    "    return False"
   ]
  },
  {
   "cell_type": "code",
   "execution_count": 32,
   "id": "aaecd89d",
   "metadata": {},
   "outputs": [
    {
     "name": "stdout",
     "output_type": "stream",
     "text": [
      "True\n"
     ]
    }
   ],
   "source": [
    "s= \"()[]{}\"\n",
    "check = isValidParentheses(s)\n",
    "print(check)"
   ]
  },
  {
   "cell_type": "code",
   "execution_count": 28,
   "id": "1df97ec4",
   "metadata": {},
   "outputs": [
    {
     "name": "stdout",
     "output_type": "stream",
     "text": [
      "True\n"
     ]
    }
   ],
   "source": [
    "s\n",
    "if s[0] == '(' and s[1]==')':\n",
    "    print('True') "
   ]
  },
  {
   "cell_type": "code",
   "execution_count": 19,
   "id": "e7af804a",
   "metadata": {},
   "outputs": [
    {
     "data": {
      "text/plain": [
       "'('"
      ]
     },
     "execution_count": 19,
     "metadata": {},
     "output_type": "execute_result"
    }
   ],
   "source": [
    "s[0]"
   ]
  },
  {
   "cell_type": "code",
   "execution_count": 17,
   "id": "f1701bfe",
   "metadata": {},
   "outputs": [
    {
     "data": {
      "text/plain": [
       "')'"
      ]
     },
     "execution_count": 17,
     "metadata": {},
     "output_type": "execute_result"
    }
   ],
   "source": [
    "s[1]"
   ]
  },
  {
   "cell_type": "code",
   "execution_count": 21,
   "id": "6259e834",
   "metadata": {},
   "outputs": [
    {
     "data": {
      "text/plain": [
       "40"
      ]
     },
     "execution_count": 21,
     "metadata": {},
     "output_type": "execute_result"
    }
   ],
   "source": [
    "ord('(')"
   ]
  },
  {
   "cell_type": "code",
   "execution_count": 63,
   "id": "fa99796e",
   "metadata": {},
   "outputs": [],
   "source": [
    "def mergesort(ar):\n",
    "    if len(ar) == 0 or len(ar)==1:\n",
    "        return ar\n",
    "    mid = (len(ar))//2\n",
    "    a1 = ar[:mid]\n",
    "    a2 = ar[mid:]\n",
    "    mergesort(a1)\n",
    "    mergesort(a2)\n",
    "    mergearray(a1,a2,ar)\n",
    "    \n",
    "\n",
    "def mergearray(a1,a2,a):\n",
    "    i,j,k = 0,0,0\n",
    "    while (i<len(a1) and j<len(a2)):\n",
    "        if a1[i]<a2[j]:\n",
    "            a[k] = a1[i]\n",
    "            k+=1\n",
    "            i+=1\n",
    "        else:\n",
    "            a[k] = a2[j]\n",
    "            k+=1\n",
    "            j+=1      \n",
    "    while i<len(a1):\n",
    "        a[k]=a1[i]\n",
    "        k += 1\n",
    "        i += 1\n",
    "    \n",
    "    while j<len(a2):\n",
    "        a[k]=a2[j]\n",
    "        k+=1\n",
    "        j+=1\n",
    "\n",
    "def bs(arr,x,l,h):\n",
    "    mid = (l+h)//2\n",
    "    if l>h:\n",
    "        return False\n",
    "    if x==arr[mid]:\n",
    "        return True\n",
    "    elif x<arr[mid]:\n",
    "        return bs(arr,x,l,mid-1)\n",
    "    else:\n",
    "        return bs(arr,x,mid+1,h)\n",
    "        \n",
    "def intersection(arr1, arr2,n,m):\n",
    "    if n>m:\n",
    "        temp = arr1\n",
    "        arr1 = arr2\n",
    "        arr2 = temp\n",
    "        \n",
    "        temp = n \n",
    "        n = m\n",
    "        m = temp\n",
    "        \n",
    "    mergesort(arr1)\n",
    "    \n",
    "    print('-----------')\n",
    "    print(arr1,':',n)\n",
    "    print(arr2,':',m)\n",
    "    #search the every element of bigger array/list into smaller one\n",
    "    for i in range(m):\n",
    "        #print(arr2[i])\n",
    "        if (bs(arr1,arr2[i],0,n-1)):\n",
    "            print(arr2[i],end=' ')\n",
    "    \n",
    " \n",
    "    "
   ]
  },
  {
   "cell_type": "code",
   "execution_count": 65,
   "id": "3c4aa5e5",
   "metadata": {},
   "outputs": [
    {
     "name": "stdout",
     "output_type": "stream",
     "text": [
      "-----------\n",
      "[2, 3, 4, 7] : 4\n",
      "[2, 6, 8, 2, 4, 3] : 6\n",
      "2 2 4 3 "
     ]
    }
   ],
   "source": [
    "arr1 = [2,6,8,2,4,3]\n",
    "arr2 = [3,2,4,7]\n",
    "\n",
    "intersection(arr1, arr2,len(arr1),len(arr2))\n"
   ]
  },
  {
   "cell_type": "code",
   "execution_count": 66,
   "id": "78049d9a",
   "metadata": {},
   "outputs": [
    {
     "data": {
      "text/plain": [
       "7"
      ]
     },
     "execution_count": 66,
     "metadata": {},
     "output_type": "execute_result"
    }
   ],
   "source": [
    "sum(arr1[4:])"
   ]
  },
  {
   "cell_type": "code",
   "execution_count": 67,
   "id": "47dafc2c",
   "metadata": {},
   "outputs": [
    {
     "data": {
      "text/plain": [
       "[]"
      ]
     },
     "execution_count": 67,
     "metadata": {},
     "output_type": "execute_result"
    }
   ],
   "source": [
    "arr1[:0]"
   ]
  },
  {
   "cell_type": "code",
   "execution_count": 95,
   "id": "0593bcc2",
   "metadata": {},
   "outputs": [],
   "source": [
    "#equilibrium index\n",
    "\n",
    "'''def equilibrium(arr):\n",
    "    sum1 , sum2 = 0,0\n",
    "    for i in range(len(arr)):\n",
    "        if i == 0:\n",
    "            sum2 = sum(arr[i+1:])\n",
    "            sum1 = 0\n",
    "        elif i == len(arr)-1:\n",
    "            sum1 = sum(arr[:i])\n",
    "            sum2 = 0\n",
    "        else:\n",
    "            sum1 = sum(arr[:i])\n",
    "            sum2 = sum(arr[i+1:])\n",
    "        if sum1 == sum2:\n",
    "            return i\n",
    "    return -1\n",
    "'''\n",
    "'''def equilibrium(arr):\n",
    "    sum1 = 0\n",
    "    sum2 = sum(arr[1:])\n",
    "    \n",
    "    for i in range(len(arr)):\n",
    "        if sum1 == sum2:\n",
    "            return i\n",
    "        elif i == len(arr)-1:\n",
    "            sum2 = 0\n",
    "        else:\n",
    "            sum1 = sum1 + arr[i]\n",
    "            sum2 = sum2 - arr[i+1]\n",
    "    return -1\n",
    "'''\n",
    "\n",
    "\n",
    "def equilibrium(arr):\n",
    "    lsum = 0\n",
    "    tsum = sum(arr)\n",
    "    i = 0\n",
    "    while i<=len(arr)-1:\n",
    "        rsum = tsum - arr[i] - lsum\n",
    "        if lsum == rsum:\n",
    "            return i\n",
    "        lsum = lsum + arr[i]\n",
    "        i += 1\n",
    "    return -1\n",
    "        "
   ]
  },
  {
   "cell_type": "code",
   "execution_count": 96,
   "id": "89f9801e",
   "metadata": {},
   "outputs": [
    {
     "name": "stdout",
     "output_type": "stream",
     "text": [
      "2\n"
     ]
    }
   ],
   "source": [
    "#arr = [2,3,1,6,3,6,2]\n",
    "arr = [1,4,9,3,2]\n",
    "index = equilibrium(arr)\n",
    "print(index)"
   ]
  },
  {
   "cell_type": "code",
   "execution_count": 86,
   "id": "289cf865",
   "metadata": {},
   "outputs": [
    {
     "name": "stdout",
     "output_type": "stream",
     "text": [
      "False\n"
     ]
    }
   ],
   "source": [
    "k = 4\n",
    "if k>4:\n",
    "    print(True)\n",
    "else:\n",
    "    print(False)"
   ]
  },
  {
   "cell_type": "code",
   "execution_count": 98,
   "id": "8aca3edc",
   "metadata": {},
   "outputs": [],
   "source": [
    "#find unique element\n",
    "\n",
    "def unique(arr):\n",
    "    dict = {}\n",
    "    for i in arr:\n",
    "        if i in dict:\n",
    "            dict[i]+= 1\n",
    "        else:\n",
    "            dict[i] = 1\n",
    "    return dict"
   ]
  },
  {
   "cell_type": "code",
   "execution_count": 100,
   "id": "b10ee682",
   "metadata": {},
   "outputs": [
    {
     "data": {
      "text/plain": [
       "{1: 2, 3: 2, 6: 2, 7: 2, 10: 1}"
      ]
     },
     "execution_count": 100,
     "metadata": {},
     "output_type": "execute_result"
    }
   ],
   "source": [
    "arr = [1,3,1,3,6,6,7,10,7]\n",
    "di = unique(arr)\n"
   ]
  },
  {
   "cell_type": "code",
   "execution_count": 103,
   "id": "af808be5",
   "metadata": {},
   "outputs": [
    {
     "name": "stdout",
     "output_type": "stream",
     "text": [
      "10 --> <class 'int'>\n"
     ]
    }
   ],
   "source": [
    "for i in di:\n",
    "    if di[i] == 1:\n",
    "        print(i,'-->',type(i))\n",
    "        break"
   ]
  },
  {
   "cell_type": "code",
   "execution_count": 120,
   "id": "bbae0f0e",
   "metadata": {},
   "outputs": [],
   "source": [
    "#Rotate Array\n",
    "\n",
    "def rotate(arr,d):\n",
    "    a1 = arr[d:]\n",
    "    a2 = arr[:d]\n",
    "    a = a1 + a2\n",
    "    for i in a:\n",
    "        print(i,end=' ')"
   ]
  },
  {
   "cell_type": "code",
   "execution_count": 121,
   "id": "5b9f40f5",
   "metadata": {},
   "outputs": [
    {
     "name": "stdout",
     "output_type": "stream",
     "text": [
      "26 30 33 38 1 3 6 11 12 17 22 "
     ]
    }
   ],
   "source": [
    "arr = [1,3,6,11,12,17,22,26,30,33,38]\n",
    "d = 7\n",
    "rotate(arr,7)"
   ]
  },
  {
   "cell_type": "code",
   "execution_count": 116,
   "id": "79e54882",
   "metadata": {},
   "outputs": [
    {
     "data": {
      "text/plain": [
       "[26, 30, 33, 38]"
      ]
     },
     "execution_count": 116,
     "metadata": {},
     "output_type": "execute_result"
    }
   ],
   "source": [
    "arr[d:]"
   ]
  },
  {
   "cell_type": "code",
   "execution_count": 122,
   "id": "8ca5ffee",
   "metadata": {},
   "outputs": [
    {
     "data": {
      "text/plain": [
       "2"
      ]
     },
     "execution_count": 122,
     "metadata": {},
     "output_type": "execute_result"
    }
   ],
   "source": [
    "2%5\n"
   ]
  },
  {
   "cell_type": "code",
   "execution_count": 78,
   "id": "56933356",
   "metadata": {},
   "outputs": [],
   "source": [
    "#a = [1,2,3,4,5,6]\n",
    "\n",
    "\n",
    "def rotate(a,d):\n",
    "    d = d % len(a)\n",
    "    reverse(a, 0, len(a)-1)\n",
    "    reverse(a, 0, d-1)\n",
    "    reverse(a, d, len(a)-1)\n",
    "\n",
    "def reverse(nums, start, end):\n",
    "    while (start < end): \n",
    "        temporary = nums[start]\n",
    "        nums[start] = nums[end]\n",
    "        nums[end] = temporary\n",
    "        start += 1\n",
    "        end -= 1\n",
    "    return nums"
   ]
  },
  {
   "cell_type": "code",
   "execution_count": 79,
   "id": "2077b6d8",
   "metadata": {},
   "outputs": [
    {
     "data": {
      "text/plain": [
       "[6, 7, 1, 2, 3, 4, 5]"
      ]
     },
     "execution_count": 79,
     "metadata": {},
     "output_type": "execute_result"
    }
   ],
   "source": [
    "a = [1,2,3,4,5,6,7]\n",
    "d = 2\n",
    "\n",
    "rotate(a,d)\n",
    "a"
   ]
  },
  {
   "cell_type": "code",
   "execution_count": 61,
   "id": "dea1196a",
   "metadata": {},
   "outputs": [
    {
     "name": "stdout",
     "output_type": "stream",
     "text": [
      "5\n",
      "[3, 2, 1, 4]\n"
     ]
    }
   ],
   "source": []
  },
  {
   "cell_type": "code",
   "execution_count": null,
   "id": "54355a84",
   "metadata": {},
   "outputs": [],
   "source": []
  },
  {
   "cell_type": "code",
   "execution_count": 46,
   "id": "e39f75a3",
   "metadata": {},
   "outputs": [],
   "source": [
    "#pair Sum\n",
    "\n",
    "\n",
    "'''def pairsum(arr,x):\n",
    "    quicksort(arr,0,len(arr)-1)\n",
    "    i = 0\n",
    "    j = len(arr)-1\n",
    "    count = 0\n",
    "    while i<=(len(arr)-1)//2:\n",
    "        if arr[i]+arr[j]==x:\n",
    "            count += 1\n",
    "            i += 1\n",
    "            #j -= 1\n",
    "        elif arr[i]+arr[j]<x:\n",
    "            i += 1\n",
    "        else: # arr[i]+arr[j]>x\n",
    "            j -= 1\n",
    "    return count\n",
    "    \n",
    "'''\n",
    "'''def pairsum(arr,x):\n",
    "    count = 0\n",
    "    quicksort(arr,0,len(arr)-1)\n",
    "    for i in range(len(arr)-1):\n",
    "        target = x - arr[i]\n",
    "        k = binarysearch(arr,target,0,len(arr)-1)\n",
    "        if (k):\n",
    "            count += 1\n",
    "    return count\n",
    "'''\n",
    "def binarysearch(arr,x,l,h):\n",
    "    mid = (l+h)//2\n",
    "    if l>h:\n",
    "        return False\n",
    "    if arr[mid] == x:\n",
    "        return True\n",
    "    elif arr[mid]>x:\n",
    "        return binarysearch(arr,x,l,mid-1)\n",
    "    else:\n",
    "        return binarysearch(arr,x,mid+1,h)\n",
    "\n",
    "\n",
    "def quicksort(arr,si,ei):\n",
    "    if si>=ei:\n",
    "        return\n",
    "    pivot_index = partition(arr,si,ei)\n",
    "    quicksort(arr,si,pivot_index - 1)\n",
    "    quicksort(arr,pivot_index+1,ei)\n",
    "    \n",
    "\n",
    "def partition(arr,si,ei):\n",
    "    count = 0\n",
    "    pivot = arr[si]\n",
    "    for i in range(si,ei+1):\n",
    "        if arr[i]<pivot:\n",
    "            count += 1\n",
    "    pivot_index = count + si\n",
    "    arr[si],arr[pivot_index] = arr[pivot_index],arr[si]\n",
    "    i = si\n",
    "    j = ei \n",
    "    while i<j:\n",
    "        if arr[i]<pivot:\n",
    "            i += 1\n",
    "        elif arr[j]>=pivot:\n",
    "            j -= 1\n",
    "        else:\n",
    "            arr[i],arr[j] = arr[j],arr[i]\n",
    "    return pivot_index\n",
    "            "
   ]
  },
  {
   "cell_type": "code",
   "execution_count": 44,
   "id": "f13f0d14",
   "metadata": {},
   "outputs": [
    {
     "name": "stdout",
     "output_type": "stream",
     "text": [
      "[-1, 2, 5, 17]\n",
      "2\n"
     ]
    }
   ],
   "source": [
    "#arr = [1, 5, 7, -1, 5]\n",
    "arr= [2, 5, 17, -1]\n",
    "1 3 6 2 5 4 3 2 4\n",
    "x = 7\n",
    "quicksort(arr,0,len(arr)-1)\n",
    "print(arr)\n",
    "\n",
    "c = pairsum(arr,x)\n",
    "print(c)"
   ]
  },
  {
   "cell_type": "code",
   "execution_count": null,
   "id": "7462f8b0",
   "metadata": {},
   "outputs": [],
   "source": []
  }
 ],
 "metadata": {
  "kernelspec": {
   "display_name": "Python 3 (ipykernel)",
   "language": "python",
   "name": "python3"
  },
  "language_info": {
   "codemirror_mode": {
    "name": "ipython",
    "version": 3
   },
   "file_extension": ".py",
   "mimetype": "text/x-python",
   "name": "python",
   "nbconvert_exporter": "python",
   "pygments_lexer": "ipython3",
   "version": "3.9.7"
  }
 },
 "nbformat": 4,
 "nbformat_minor": 5
}
