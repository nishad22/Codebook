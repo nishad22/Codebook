{
 "cells": [
  {
   "cell_type": "code",
   "execution_count": 1,
   "id": "5b6c7009",
   "metadata": {},
   "outputs": [],
   "source": [
    "class Node:\n",
    "    \n",
    "    def __init__(self,data=None,nex = None):\n",
    "        self.data = data\n",
    "        self.nex = nex\n",
    "\n",
    "class Linkedlist:\n",
    "    def __init__(self):\n",
    "        self.head = None\n",
    "        \n",
    "        \n",
    "    def insert(self,data):\n",
    "        node = Node(data,self.head)\n",
    "        print(data,':',self.head)\n",
    "        self.head = node\n",
    "        print(data,':',self.head)\n",
    "        print('-------------------------------')\n",
    "        "
   ]
  },
  {
   "cell_type": "code",
   "execution_count": 2,
   "id": "2f6240f6",
   "metadata": {},
   "outputs": [
    {
     "name": "stdout",
     "output_type": "stream",
     "text": [
      "5 : None\n",
      "5 : <__main__.Node object at 0x000001EE0934D910>\n",
      "-------------------------------\n",
      "6 : <__main__.Node object at 0x000001EE0934D910>\n",
      "6 : <__main__.Node object at 0x000001EE0934D520>\n",
      "-------------------------------\n",
      "6 : <__main__.Node object at 0x000001EE0934D520>\n",
      "6 : <__main__.Node object at 0x000001EE09344EE0>\n",
      "-------------------------------\n"
     ]
    }
   ],
   "source": [
    "llist = Linkedlist()\n",
    "llist.insert(5)\n",
    "llist.insert(6)\n",
    "llist.insert(6)\n",
    "\n"
   ]
  },
  {
   "cell_type": "code",
   "execution_count": 8,
   "id": "2f127fae",
   "metadata": {},
   "outputs": [],
   "source": [
    "class Node:\n",
    "    def __init__(self,data):\n",
    "        self.data = data\n",
    "        self.next = None\n",
    "        \n",
    "        \n",
    "class LinkedList:\n",
    "    def __init__(self):\n",
    "        self.head = None\n",
    "        \n",
    "    def printlist(self):\n",
    "        temp = self.head\n",
    "        while temp:\n",
    "            print(temp.data,':',temp.next,'--->')\n",
    "            temp = temp.next"
   ]
  },
  {
   "cell_type": "code",
   "execution_count": 9,
   "id": "80c8a523",
   "metadata": {},
   "outputs": [
    {
     "name": "stdout",
     "output_type": "stream",
     "text": [
      "1 : <__main__.Node object at 0x0000026A293FF670> --->\n",
      "2 : <__main__.Node object at 0x0000026A293FF400> --->\n",
      "3 : None --->\n"
     ]
    }
   ],
   "source": [
    "li = LinkedList()\n",
    "li.head = Node(1)\n",
    "second = Node(2)\n",
    "third = Node(3)\n",
    "\n",
    "li.head.next = second\n",
    "second.next = third \n",
    "\n",
    "li.printlist()"
   ]
  },
  {
   "cell_type": "code",
   "execution_count": 3,
   "id": "3d70a62c",
   "metadata": {},
   "outputs": [
    {
     "name": "stdout",
     "output_type": "stream",
     "text": [
      "1\n",
      "2\n",
      "2\n"
     ]
    }
   ],
   "source": [
    "class Node:\n",
    "    def __init__(self,data):\n",
    "        self.data = data\n",
    "        self.next = None\n",
    "        \n",
    "a = Node(1)\n",
    "b = Node(2)\n",
    "\n",
    "a.next = b\n",
    "print(a.data)\n",
    "print(b.data)\n",
    "print(a.next.data)"
   ]
  },
  {
   "cell_type": "code",
   "execution_count": 5,
   "id": "b7d8b41c",
   "metadata": {},
   "outputs": [],
   "source": [
    "class Node:\n",
    "    def __init__(self, data):\n",
    "        self.data = data\n",
    "        self.next = None\n",
    "\n",
    "class LinkedList:\n",
    "    \n",
    "    def __init__(self):\n",
    "        self.head = None\n",
    "        \n",
    "    def insertele(self,data):\n",
    "        \n",
    "        newNode = Node(data)\n",
    "        if self.head is None:\n",
    "            self.head = newNode\n",
    "        else:\n",
    "            curr = self.head\n",
    "            while curr.next is not None:\n",
    "                curr = curr.next\n",
    "            curr = newNode\n",
    "            \n",
    "        return self.head\n",
    "            \n",
    "    def printlist(self):\n",
    "        temp = self.head\n",
    "        while temp is not None:\n",
    "            print(temp.data)\n",
    "            temp = temp.next\n",
    "            \n",
    "\n",
    "        "
   ]
  },
  {
   "cell_type": "code",
   "execution_count": 6,
   "id": "5bcc44c6",
   "metadata": {},
   "outputs": [
    {
     "name": "stdout",
     "output_type": "stream",
     "text": [
      "1\n"
     ]
    }
   ],
   "source": [
    "n1 = LinkedList()\n",
    "n1.insertele(1)\n",
    "n1.insertele(2)\n",
    "n1.insertele(3)\n",
    "\n",
    "n1.printlist()\n"
   ]
  },
  {
   "cell_type": "code",
   "execution_count": 48,
   "id": "a96d50b8",
   "metadata": {},
   "outputs": [],
   "source": [
    "#optimized linked list with O(n)\n",
    "\n",
    "class Node:\n",
    "    def __init__(self, data):\n",
    "        self.data = data\n",
    "        self.next = None\n",
    "\n",
    "class LinkedList:\n",
    "    def __init__(self):\n",
    "        self.head = None\n",
    "        self.tail = None\n",
    "    def insert(self,data):\n",
    "        newNode = Node(data)\n",
    "        if self.head is None:\n",
    "            self.head = newNode\n",
    "            self.tail = newNode\n",
    "        else:\n",
    "            self.tail.next = newNode\n",
    "            self.tail = newNode\n",
    "    \n",
    "    def printlist(self):\n",
    "        temp = self.head\n",
    "        while temp is not None:\n",
    "            print(temp.data)\n",
    "            temp = temp.next\n",
    "    \n",
    "    \n",
    "    def length(self):\n",
    "        count  = 0\n",
    "        temp = self.head\n",
    "        while (temp is not None) and temp.data != -1 :\n",
    "            count+=1\n",
    "            temp = temp.next\n",
    "        return count\n",
    "    \n",
    "    def insertatpos(self,data,pos):\n",
    "        count = 0\n",
    "        curr = self.head\n",
    "        pre = None\n",
    "        while count < pos:\n",
    "            count += 1\n",
    "            pre = curr\n",
    "            curr = curr.next\n",
    "            \n",
    "        newNode = Node(data)\n",
    "        pre.next = newNode\n",
    "        newNode.next = curr\n",
    "            \n",
    "        return self.head\n",
    "    \n",
    "    def deleteAtPos(self,pos):\n",
    "        count = 0\n",
    "        curr = self.head\n",
    "        pre = None\n",
    "        if pos == 0:\n",
    "            self.head = curr.next\n",
    "            return self.head\n",
    "        while count < pos:\n",
    "            count += 1\n",
    "            pre = curr\n",
    "            curr = curr.next\n",
    "        \n",
    "        pre.next = curr.next\n",
    "        \n",
    "        return self.head\n",
    "        \n",
    "            \n",
    "        \n",
    "    \n",
    "    \n"
   ]
  },
  {
   "cell_type": "code",
   "execution_count": 49,
   "id": "f9142529",
   "metadata": {},
   "outputs": [
    {
     "name": "stdout",
     "output_type": "stream",
     "text": [
      "1\n",
      "2\n",
      "5\n",
      "3\n",
      "4\n",
      "-1\n",
      "1\n",
      "2\n",
      "3\n",
      "4\n",
      "-1\n"
     ]
    },
    {
     "ename": "AttributeError",
     "evalue": "'NoneType' object has no attribute 'next'",
     "output_type": "error",
     "traceback": [
      "\u001b[1;31m---------------------------------------------------------------------------\u001b[0m",
      "\u001b[1;31mAttributeError\u001b[0m                            Traceback (most recent call last)",
      "\u001b[1;32m~\\AppData\\Local\\Temp/ipykernel_8880/2749478979.py\u001b[0m in \u001b[0;36m<module>\u001b[1;34m\u001b[0m\n\u001b[0;32m     12\u001b[0m \u001b[0mn\u001b[0m\u001b[1;33m.\u001b[0m\u001b[0mdeleteAtPos\u001b[0m\u001b[1;33m(\u001b[0m\u001b[1;36m2\u001b[0m\u001b[1;33m)\u001b[0m\u001b[1;33m\u001b[0m\u001b[1;33m\u001b[0m\u001b[0m\n\u001b[0;32m     13\u001b[0m \u001b[0mn\u001b[0m\u001b[1;33m.\u001b[0m\u001b[0mprintlist\u001b[0m\u001b[1;33m(\u001b[0m\u001b[1;33m)\u001b[0m\u001b[1;33m\u001b[0m\u001b[1;33m\u001b[0m\u001b[0m\n\u001b[1;32m---> 14\u001b[1;33m \u001b[0mn\u001b[0m\u001b[1;33m.\u001b[0m\u001b[0mdeleteAtPos\u001b[0m\u001b[1;33m(\u001b[0m\u001b[1;36m0\u001b[0m\u001b[1;33m)\u001b[0m\u001b[1;33m\u001b[0m\u001b[1;33m\u001b[0m\u001b[0m\n\u001b[0m\u001b[0;32m     15\u001b[0m \u001b[0mn\u001b[0m\u001b[1;33m.\u001b[0m\u001b[0mprintlist\u001b[0m\u001b[1;33m(\u001b[0m\u001b[1;33m)\u001b[0m\u001b[1;33m\u001b[0m\u001b[1;33m\u001b[0m\u001b[0m\n\u001b[0;32m     16\u001b[0m \u001b[1;33m\u001b[0m\u001b[0m\n",
      "\u001b[1;32m~\\AppData\\Local\\Temp/ipykernel_8880/2368930822.py\u001b[0m in \u001b[0;36mdeleteAtPos\u001b[1;34m(self, pos)\u001b[0m\n\u001b[0;32m     61\u001b[0m             \u001b[0mcurr\u001b[0m \u001b[1;33m=\u001b[0m \u001b[0mcurr\u001b[0m\u001b[1;33m.\u001b[0m\u001b[0mnext\u001b[0m\u001b[1;33m\u001b[0m\u001b[1;33m\u001b[0m\u001b[0m\n\u001b[0;32m     62\u001b[0m \u001b[1;33m\u001b[0m\u001b[0m\n\u001b[1;32m---> 63\u001b[1;33m         \u001b[0mpre\u001b[0m\u001b[1;33m.\u001b[0m\u001b[0mnext\u001b[0m \u001b[1;33m=\u001b[0m \u001b[0mcurr\u001b[0m\u001b[1;33m.\u001b[0m\u001b[0mnext\u001b[0m\u001b[1;33m\u001b[0m\u001b[1;33m\u001b[0m\u001b[0m\n\u001b[0m\u001b[0;32m     64\u001b[0m \u001b[1;33m\u001b[0m\u001b[0m\n\u001b[0;32m     65\u001b[0m         \u001b[1;32mreturn\u001b[0m \u001b[0mself\u001b[0m\u001b[1;33m.\u001b[0m\u001b[0mhead\u001b[0m\u001b[1;33m\u001b[0m\u001b[1;33m\u001b[0m\u001b[0m\n",
      "\u001b[1;31mAttributeError\u001b[0m: 'NoneType' object has no attribute 'next'"
     ]
    }
   ],
   "source": [
    "n = LinkedList()\n",
    "n.insert(1)\n",
    "n.insert(2)\n",
    "n.insert(3)\n",
    "n.insert(4)\n",
    "n.insert(-1)\n",
    "\n",
    "\n",
    "n.length()\n",
    "n.insertatpos(5,2)\n",
    "n.printlist()\n",
    "n.deleteAtPos(2)\n",
    "n.printlist()\n",
    "n.deleteAtPos(0)\n",
    "n.printlist()\n",
    "\n"
   ]
  },
  {
   "cell_type": "code",
   "execution_count": null,
   "id": "87f55769",
   "metadata": {},
   "outputs": [],
   "source": []
  }
 ],
 "metadata": {
  "kernelspec": {
   "display_name": "Python 3 (ipykernel)",
   "language": "python",
   "name": "python3"
  },
  "language_info": {
   "codemirror_mode": {
    "name": "ipython",
    "version": 3
   },
   "file_extension": ".py",
   "mimetype": "text/x-python",
   "name": "python",
   "nbconvert_exporter": "python",
   "pygments_lexer": "ipython3",
   "version": "3.9.7"
  }
 },
 "nbformat": 4,
 "nbformat_minor": 5
}
