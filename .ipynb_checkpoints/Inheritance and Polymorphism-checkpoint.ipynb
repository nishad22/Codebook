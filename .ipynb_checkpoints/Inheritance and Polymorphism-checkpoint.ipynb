{
 "cells": [
  {
   "cell_type": "markdown",
   "id": "c60eb9eb",
   "metadata": {},
   "source": [
    "### Inheritance"
   ]
  },
  {
   "cell_type": "code",
   "execution_count": 10,
   "id": "ee6872ab",
   "metadata": {},
   "outputs": [],
   "source": [
    "#parent class\n",
    "\n",
    "class Vehicle():\n",
    "    def __init__(self,make,model,fuel):\n",
    "        self.make = make\n",
    "        # making attribute as private\n",
    "        self.__model = model\n",
    "        self.__fuel = fuel\n",
    "        \n",
    "    # defining private function \n",
    "    def __private_function_parent(self):\n",
    "        print(\"This is Private method\")\n",
    "        \n",
    "    #accessing private member\n",
    "    def show_private_member(self):\n",
    "        print(self.__model,' ',self.__fuel)\n"
   ]
  },
  {
   "cell_type": "code",
   "execution_count": 11,
   "id": "8199c56e",
   "metadata": {},
   "outputs": [],
   "source": [
    "# child class\n",
    "\n",
    "class Car(Vehicle):\n",
    "    def __init__(self,make,model,fuel,air_con,sunroof):\n",
    "        Vehicle.make = make\n",
    "        Vehicle.__model = model\n",
    "        Vehicle.__fuel = fuel\n",
    "        self.air_con = air_con\n",
    "        self.sunroof = sunroof\n",
    "    \n",
    "    def show_parent_attribute(Vehicle):\n",
    "        print(Vehicle.make,'',Vehicle.__fuel,'',Vehicle.__model)\n",
    "        \n",
    "    def show_privatefunction_ofparent(self):\n",
    "        self._Vehicle__private_function_parent()"
   ]
  },
  {
   "cell_type": "code",
   "execution_count": 12,
   "id": "5dfd6690",
   "metadata": {},
   "outputs": [],
   "source": [
    "#instantiation of class\n",
    "\n",
    "myobj = Car(\"Tata Nexon\",2020,'Electric',True,True)"
   ]
  },
  {
   "cell_type": "code",
   "execution_count": 13,
   "id": "c3471364",
   "metadata": {},
   "outputs": [
    {
     "name": "stdout",
     "output_type": "stream",
     "text": [
      "{'air_con': True, 'sunroof': True}\n",
      "This is Private method\n"
     ]
    }
   ],
   "source": [
    "print(myobj.__dict__)\n",
    "\n",
    "#myobj.show_private_member()\n",
    "\n",
    "# accessing the private method from parent class using subclass object called as name Mangling\n",
    "myobj._Vehicle__private_function_parent()"
   ]
  },
  {
   "cell_type": "code",
   "execution_count": 14,
   "id": "bda50345",
   "metadata": {},
   "outputs": [
    {
     "name": "stdout",
     "output_type": "stream",
     "text": [
      "Tata Nexon  Electric  2020\n"
     ]
    }
   ],
   "source": [
    "myobj.show_parent_attribute()"
   ]
  },
  {
   "cell_type": "code",
   "execution_count": 15,
   "id": "a5c766a7",
   "metadata": {},
   "outputs": [
    {
     "name": "stdout",
     "output_type": "stream",
     "text": [
      "This is Private method\n"
     ]
    }
   ],
   "source": [
    "myobj.show_privatefunction_ofparent()"
   ]
  },
  {
   "cell_type": "markdown",
   "id": "35e2dd78",
   "metadata": {},
   "source": [
    "### Super function"
   ]
  },
  {
   "cell_type": "code",
   "execution_count": 16,
   "id": "aec8244d",
   "metadata": {},
   "outputs": [],
   "source": [
    "class Bike(Vehicle):\n",
    "    def  __init__(self,make,model,fuel,air_con,sunroof):\n",
    "        super(Bike,self).__init__(make,model,fuel)\n",
    "        self.air_con = air_con\n",
    "        self.sunroof = sunroof\n",
    "        \n",
    "    "
   ]
  },
  {
   "cell_type": "code",
   "execution_count": 17,
   "id": "7d549f84",
   "metadata": {},
   "outputs": [],
   "source": [
    "Bajaj = Bike('Discover',2022,'Petrol',False,False)"
   ]
  },
  {
   "cell_type": "code",
   "execution_count": 18,
   "id": "c37f996c",
   "metadata": {},
   "outputs": [
    {
     "data": {
      "text/plain": [
       "{'make': 'Discover',\n",
       " '_Vehicle__model': 2022,\n",
       " '_Vehicle__fuel': 'Petrol',\n",
       " 'air_con': False,\n",
       " 'sunroof': False}"
      ]
     },
     "execution_count": 18,
     "metadata": {},
     "output_type": "execute_result"
    }
   ],
   "source": [
    "Bajaj.__dict__"
   ]
  },
  {
   "cell_type": "code",
   "execution_count": 19,
   "id": "54b8d7f6",
   "metadata": {},
   "outputs": [
    {
     "data": {
      "text/plain": [
       "2022"
      ]
     },
     "execution_count": 19,
     "metadata": {},
     "output_type": "execute_result"
    }
   ],
   "source": [
    "# accessing private attribute \n",
    "Bajaj._Vehicle__model"
   ]
  },
  {
   "cell_type": "code",
   "execution_count": 21,
   "id": "f072c476",
   "metadata": {},
   "outputs": [
    {
     "name": "stdout",
     "output_type": "stream",
     "text": [
      "This is Private method\n"
     ]
    }
   ],
   "source": [
    "#accessing private function\n",
    "Bajaj._Vehicle__private_function_parent()"
   ]
  },
  {
   "cell_type": "markdown",
   "id": "68259e0e",
   "metadata": {},
   "source": [
    "## Polymorhism"
   ]
  },
  {
   "cell_type": "code",
   "execution_count": 24,
   "id": "488beec5",
   "metadata": {},
   "outputs": [],
   "source": [
    "class Addition():\n",
    "    def add(a,b):\n",
    "        print('first method',a+b)\n",
    "    \n",
    "    def add(a,b,c):\n",
    "        print('second method',a+b+c)\n"
   ]
  },
  {
   "cell_type": "code",
   "execution_count": 27,
   "id": "7392472f",
   "metadata": {},
   "outputs": [
    {
     "ename": "NameError",
     "evalue": "name 'add' is not defined",
     "output_type": "error",
     "traceback": [
      "\u001b[1;31m---------------------------------------------------------------------------\u001b[0m",
      "\u001b[1;31mNameError\u001b[0m                                 Traceback (most recent call last)",
      "\u001b[1;32m~\\AppData\\Local\\Temp/ipykernel_5692/14601169.py\u001b[0m in \u001b[0;36m<module>\u001b[1;34m\u001b[0m\n\u001b[0;32m      1\u001b[0m \u001b[1;31m#add(1,2)\u001b[0m\u001b[1;33m\u001b[0m\u001b[1;33m\u001b[0m\u001b[0m\n\u001b[1;32m----> 2\u001b[1;33m \u001b[0madd\u001b[0m\u001b[1;33m(\u001b[0m\u001b[1;36m1\u001b[0m\u001b[1;33m,\u001b[0m\u001b[1;36m2\u001b[0m\u001b[1;33m,\u001b[0m\u001b[1;36m4\u001b[0m\u001b[1;33m)\u001b[0m\u001b[1;33m\u001b[0m\u001b[1;33m\u001b[0m\u001b[0m\n\u001b[0m",
      "\u001b[1;31mNameError\u001b[0m: name 'add' is not defined"
     ]
    }
   ],
   "source": [
    "#add(1,2)\n",
    "add(1,2,4)"
   ]
  },
  {
   "cell_type": "code",
   "execution_count": null,
   "id": "7ed326bb",
   "metadata": {},
   "outputs": [],
   "source": []
  }
 ],
 "metadata": {
  "kernelspec": {
   "display_name": "Python 3 (ipykernel)",
   "language": "python",
   "name": "python3"
  },
  "language_info": {
   "codemirror_mode": {
    "name": "ipython",
    "version": 3
   },
   "file_extension": ".py",
   "mimetype": "text/x-python",
   "name": "python",
   "nbconvert_exporter": "python",
   "pygments_lexer": "ipython3",
   "version": "3.9.7"
  }
 },
 "nbformat": 4,
 "nbformat_minor": 5
}
