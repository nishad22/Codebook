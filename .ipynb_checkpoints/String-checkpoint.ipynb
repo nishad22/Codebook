{
 "cells": [
  {
   "cell_type": "code",
   "execution_count": 1,
   "id": "94c99d73",
   "metadata": {},
   "outputs": [
    {
     "name": "stdout",
     "output_type": "stream",
     "text": [
      "Hello World\n"
     ]
    }
   ],
   "source": [
    "print(\"Hello World\")"
   ]
  },
  {
   "cell_type": "code",
   "execution_count": 2,
   "id": "d449fdd9",
   "metadata": {},
   "outputs": [
    {
     "data": {
      "text/plain": [
       "0.30000000000000004"
      ]
     },
     "execution_count": 2,
     "metadata": {},
     "output_type": "execute_result"
    }
   ],
   "source": [
    "0.1 + 0.2"
   ]
  },
  {
   "cell_type": "code",
   "execution_count": 4,
   "id": "d6c71ca9",
   "metadata": {},
   "outputs": [],
   "source": [
    "#how to declare string\n",
    "\n",
    "mystr = \"Hello World\""
   ]
  },
  {
   "cell_type": "code",
   "execution_count": 5,
   "id": "7aa02414",
   "metadata": {},
   "outputs": [
    {
     "name": "stdout",
     "output_type": "stream",
     "text": [
      "Hello World\n"
     ]
    }
   ],
   "source": [
    "print(mystr)"
   ]
  },
  {
   "cell_type": "code",
   "execution_count": 6,
   "id": "b8366b93",
   "metadata": {},
   "outputs": [
    {
     "name": "stdout",
     "output_type": "stream",
     "text": [
      "H\n",
      " \n",
      "l\n"
     ]
    }
   ],
   "source": [
    "#indexing \n",
    "\n",
    "print(mystr[0]) #string index always start from Zeroth index\n",
    "print(mystr[5])\n",
    "print(mystr[-2])"
   ]
  },
  {
   "cell_type": "code",
   "execution_count": 7,
   "id": "781ce506",
   "metadata": {},
   "outputs": [
    {
     "name": "stdout",
     "output_type": "stream",
     "text": [
      "Hello World\n",
      "orld\n",
      "llo Wo\n",
      "dlroW olleH\n",
      "---------slicing by using steps--------\n",
      " Hello World\n",
      "HloWr\n",
      "loWrd\n",
      "HloWrd\n"
     ]
    }
   ],
   "source": [
    "#slicing  syntax string_name[start index : end index : steps]\n",
    "\n",
    "print(mystr[:]) #returns whole string\n",
    "print(mystr[7 : ]) #include all character from 7th index\n",
    "print(mystr[-9 : -3]) #include character fro m -9th index to -4th index \n",
    "print(mystr[::-1]) #reverse string\n",
    "\n",
    "#slicing by using steps\n",
    "print(\"---------slicing by using steps--------\\n\",mystr)\n",
    "print(mystr[0:10:2]) #this wont include last world while slicing\n",
    "print(mystr[-9::2]) #this will include last world while slicing\n",
    "print(mystr[::2]) #string wont reverse\n",
    "\n"
   ]
  },
  {
   "cell_type": "code",
   "execution_count": 9,
   "id": "7ddc904a",
   "metadata": {},
   "outputs": [
    {
     "name": "stdout",
     "output_type": "stream",
     "text": [
      "concatenation: Nishad Deora\n",
      "multiplication: zzzzzzzzzz\n",
      "----------methods----------\n",
      "Upper:  ABCDEFG\n",
      "['abcd', 'fg']\n",
      "Lower:  abcdefg\n"
     ]
    }
   ],
   "source": [
    "#Strings properties and Method\n",
    "\n",
    "#concatenation \n",
    "name = \"Nishad\"\n",
    "name = name + \" Deora\"\n",
    "print('concatenation:',name)\n",
    "#multiplication\n",
    "letter = \"z\"\n",
    "print('multiplication:',letter*10)\n",
    "\n",
    "#methods\n",
    "print(\"----------methods----------\")\n",
    "word = \"abcdefg\"\n",
    "print('Upper: ',word.upper())\n",
    "print(word.split('e'))\n",
    "print('Lower: ',word.lower())"
   ]
  },
  {
   "cell_type": "code",
   "execution_count": 10,
   "id": "369d37b9",
   "metadata": {},
   "outputs": [
    {
     "name": "stdout",
     "output_type": "stream",
     "text": [
      "H\n",
      "e\n",
      "l\n",
      "l\n",
      "o\n",
      " \n",
      "W\n",
      "o\n",
      "r\n",
      "l\n",
      "d\n",
      "<class 'str'>\n"
     ]
    }
   ],
   "source": [
    "#how to iterate the String in Python\n",
    "\n",
    "for char in mystr:\n",
    "    print(char)\n",
    "print(type(mystr))"
   ]
  },
  {
   "cell_type": "code",
   "execution_count": null,
   "id": "8fff1ec1",
   "metadata": {},
   "outputs": [],
   "source": []
  }
 ],
 "metadata": {
  "kernelspec": {
   "display_name": "Python 3 (ipykernel)",
   "language": "python",
   "name": "python3"
  },
  "language_info": {
   "codemirror_mode": {
    "name": "ipython",
    "version": 3
   },
   "file_extension": ".py",
   "mimetype": "text/x-python",
   "name": "python",
   "nbconvert_exporter": "python",
   "pygments_lexer": "ipython3",
   "version": "3.9.7"
  }
 },
 "nbformat": 4,
 "nbformat_minor": 5
}
