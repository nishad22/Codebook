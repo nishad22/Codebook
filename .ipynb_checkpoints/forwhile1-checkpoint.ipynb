{
 "cells": [
  {
   "cell_type": "code",
   "execution_count": 40,
   "id": "b5665e24",
   "metadata": {},
   "outputs": [
    {
     "name": "stdout",
     "output_type": "stream",
     "text": [
      "Enter your value : 10\n",
      "Divisior of  10 is :  1\n",
      "Divisior of  10 is :  2\n",
      "Divisior of  10 is :  5\n",
      "Divisior of  10 is :  10\n",
      "100\n"
     ]
    }
   ],
   "source": [
    "#WAP a program to print the divisior of n amd product of divisor\n",
    "\n",
    "value = int(input(\"Enter your value : \"))\n",
    "x = 1\n",
    "val = 1\n",
    "while x<=value:\n",
    "    if value % x == 0:\n",
    "        print(\"Divisior of \", value ,'is : ' , x)\n",
    "        val = val * x\n",
    "    x = x + 1\n",
    "print(val)"
   ]
  },
  {
   "cell_type": "code",
   "execution_count": 33,
   "id": "a5405cd6",
   "metadata": {},
   "outputs": [
    {
     "name": "stdout",
     "output_type": "stream",
     "text": [
      "[99, 96, 93, 90, 87, 84, 81, 78, 75, 72, 69, 66, 63, 60, 57, 54, 51, 48, 45, 42, 39, 36, 33, 30, 27, 24, 21, 18, 15, 12, 9, 6, 3]\n"
     ]
    }
   ],
   "source": [
    "#WAP to print the multiple of 3's within 100\n",
    "\n",
    "i = 3\n",
    "value = 100\n",
    "myList = []\n",
    "while i <= value:\n",
    "    if (value % 3 == 0):\n",
    "        myList.append(value)\n",
    "        #print(\"Mutliple of 3 \", value)\n",
    "    value -= 1\n",
    "print (myList)"
   ]
  },
  {
   "cell_type": "code",
   "execution_count": 30,
   "id": "763fac34",
   "metadata": {},
   "outputs": [
    {
     "name": "stdout",
     "output_type": "stream",
     "text": [
      "Enter you value :10\n",
      "Even number present in 25 is  [2, 4, 6, 8] \n",
      "Odd number present in 25 is  [1, 3, 5, 7, 9]\n"
     ]
    }
   ],
   "source": [
    "#WAP to print sum of even number and Odd numbers\n",
    "\n",
    "value = int(input(\"Enter you value :\"))\n",
    "#i = 1\n",
    "even = []\n",
    "odd = []\n",
    "for i in range(1,value):\n",
    "    if(i % 2 == 0):\n",
    "        even.append(i)\n",
    "    else:\n",
    "        odd.append(i)\n",
    "print(\"Even number present in 25 is \",even,\"\\nOdd number present in 25 is \",odd)\n",
    "    \n",
    "        "
   ]
  },
  {
   "cell_type": "code",
   "execution_count": 51,
   "id": "4eae9847",
   "metadata": {},
   "outputs": [
    {
     "name": "stdout",
     "output_type": "stream",
     "text": [
      "Enter your number: 50\n",
      "[2, 3, 5, 7, 11, 13, 17, 19, 23, 29, 31, 37, 41, 43, 47]\n"
     ]
    }
   ],
   "source": [
    "#WAP for prime number uptp 100\n",
    "\n",
    "value = int(input(\"Enter your number: \"))\n",
    "n = 1\n",
    "myprime = []\n",
    "while n<=value:\n",
    "    i = 1 \n",
    "    count = 1\n",
    "    while (i<=n/2):\n",
    "        if(n%i==0):\n",
    "            count += 1\n",
    "        if count > 2:\n",
    "            break\n",
    "        i += 1\n",
    "    if count == 2:\n",
    "        myprime.append(n)\n",
    "    n +=1\n",
    "        \n",
    "print(myprime)\n"
   ]
  },
  {
   "cell_type": "code",
   "execution_count": 71,
   "id": "aaabc1ac",
   "metadata": {},
   "outputs": [
    {
     "name": "stdout",
     "output_type": "stream",
     "text": [
      "Enter your value: 10\n",
      "fibonacci series upto 11  term:  [1, 1, 2, 3, 5, 8, 13, 21, 34, 55, 89]\n"
     ]
    }
   ],
   "source": [
    "#fibonacii\n",
    "\n",
    "val = int(input(\"Enter your value: \"))\n",
    "#print(type(val))\n",
    "val = val + 1\n",
    "mylist = []\n",
    "f = 0\n",
    "#print(type(f))\n",
    "s = 1\n",
    "num = 0\n",
    "for i in range(0,val):\n",
    "    if i == 0:\n",
    "        num = f + s\n",
    "        mylist.append(num)\n",
    "    else:\n",
    "        num = f + s\n",
    "        f = s\n",
    "        s = num \n",
    "        mylist.append(num)\n",
    "print(\"fibonacci series upto\", val, \" term: \",mylist)\n",
    "    \n",
    "    \n",
    "    "
   ]
  },
  {
   "cell_type": "code",
   "execution_count": null,
   "id": "8e2e063c",
   "metadata": {},
   "outputs": [],
   "source": []
  },
  {
   "cell_type": "code",
   "execution_count": null,
   "id": "2d624908",
   "metadata": {},
   "outputs": [],
   "source": []
  }
 ],
 "metadata": {
  "kernelspec": {
   "display_name": "Python 3 (ipykernel)",
   "language": "python",
   "name": "python3"
  },
  "language_info": {
   "codemirror_mode": {
    "name": "ipython",
    "version": 3
   },
   "file_extension": ".py",
   "mimetype": "text/x-python",
   "name": "python",
   "nbconvert_exporter": "python",
   "pygments_lexer": "ipython3",
   "version": "3.9.7"
  }
 },
 "nbformat": 4,
 "nbformat_minor": 5
}
