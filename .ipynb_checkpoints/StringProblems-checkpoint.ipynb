{
 "cells": [
  {
   "cell_type": "code",
   "execution_count": 7,
   "id": "59f0533b",
   "metadata": {},
   "outputs": [
    {
     "name": "stdout",
     "output_type": "stream",
     "text": [
      "Enter name: Hello World\n",
      "Length of the string is:  11\n"
     ]
    }
   ],
   "source": [
    "#count the lenght of string\n",
    "\n",
    "str = input(\"Enter name: \")\n",
    "count = 0\n",
    "for char in str:\n",
    "    #print(char)\n",
    "    count += 1\n",
    "print(\"Length of the string is: \",count)\n",
    "\n"
   ]
  },
  {
   "cell_type": "code",
   "execution_count": 7,
   "id": "53bd3d46",
   "metadata": {},
   "outputs": [
    {
     "name": "stdout",
     "output_type": "stream",
     "text": [
      "Nishad\n",
      "NishadNishad\n"
     ]
    }
   ],
   "source": [
    "#copy one string into another string\n",
    "\n",
    "str1 = \"Nishad\"\n",
    "str2 = str1 \n",
    "print(str1)\n",
    "print (str1 + str2)"
   ]
  },
  {
   "cell_type": "raw",
   "id": "5fdb1b18",
   "metadata": {},
   "source": [
    "#compare two string\n",
    "\n",
    "\n",
    "#if str1==str2:\n",
    "#     print(\"true\")\n",
    "#else:\n",
    "#   print(\"false\")\n",
    "   \n",
    "str1 = input(\"Enter name: \")\n",
    "str2 = input(\"Enter name: \")\n",
    "for char1 in str1:\n",
    "    for char2 in str2:\n",
    "        if char1 == char2:\n",
    "            \n",
    "        else:\n",
    "            break\n",
    "\n",
    "        "
   ]
  },
  {
   "cell_type": "raw",
   "id": "35a667f4",
   "metadata": {},
   "source": [
    "str1 = input(\"Enter your string: \")\n"
   ]
  },
  {
   "cell_type": "code",
   "execution_count": 6,
   "id": "fef0f0bb",
   "metadata": {},
   "outputs": [
    {
     "data": {
      "text/plain": [
       "110"
      ]
     },
     "execution_count": 6,
     "metadata": {},
     "output_type": "execute_result"
    }
   ],
   "source": [
    "ord('n')"
   ]
  },
  {
   "cell_type": "code",
   "execution_count": null,
   "id": "9531753a",
   "metadata": {},
   "outputs": [],
   "source": []
  }
 ],
 "metadata": {
  "kernelspec": {
   "display_name": "Python 3 (ipykernel)",
   "language": "python",
   "name": "python3"
  },
  "language_info": {
   "codemirror_mode": {
    "name": "ipython",
    "version": 3
   },
   "file_extension": ".py",
   "mimetype": "text/x-python",
   "name": "python",
   "nbconvert_exporter": "python",
   "pygments_lexer": "ipython3",
   "version": "3.9.7"
  }
 },
 "nbformat": 4,
 "nbformat_minor": 5
}
