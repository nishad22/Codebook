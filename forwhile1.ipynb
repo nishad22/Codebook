{
 "cells": [
  {
   "cell_type": "code",
   "execution_count": 40,
   "id": "b5665e24",
   "metadata": {},
   "outputs": [
    {
     "name": "stdout",
     "output_type": "stream",
     "text": [
      "Enter your value : 10\n",
      "Divisior of  10 is :  1\n",
      "Divisior of  10 is :  2\n",
      "Divisior of  10 is :  5\n",
      "Divisior of  10 is :  10\n",
      "100\n"
     ]
    }
   ],
   "source": [
    "#WAP a program to print the divisior of n amd product of divisor\n",
    "\n",
    "value = int(input(\"Enter your value : \"))\n",
    "x = 1\n",
    "val = 1\n",
    "while x<=value:\n",
    "    if value % x == 0:\n",
    "        print(\"Divisior of \", value ,'is : ' , x)\n",
    "        val = val * x\n",
    "    x = x + 1\n",
    "print(val)"
   ]
  },
  {
   "cell_type": "code",
   "execution_count": 33,
   "id": "a5405cd6",
   "metadata": {},
   "outputs": [
    {
     "name": "stdout",
     "output_type": "stream",
     "text": [
      "[99, 96, 93, 90, 87, 84, 81, 78, 75, 72, 69, 66, 63, 60, 57, 54, 51, 48, 45, 42, 39, 36, 33, 30, 27, 24, 21, 18, 15, 12, 9, 6, 3]\n"
     ]
    }
   ],
   "source": [
    "#WAP to print the multiple of 3's within 100\n",
    "\n",
    "i = 3\n",
    "value = 100\n",
    "myList = []\n",
    "while i <= value:\n",
    "    if (value % 3 == 0):\n",
    "        myList.append(value)\n",
    "        #print(\"Mutliple of 3 \", value)\n",
    "    value -= 1\n",
    "print (myList)"
   ]
  },
  {
   "cell_type": "code",
   "execution_count": 30,
   "id": "763fac34",
   "metadata": {},
   "outputs": [
    {
     "name": "stdout",
     "output_type": "stream",
     "text": [
      "Enter you value :10\n",
      "Even number present in 25 is  [2, 4, 6, 8] \n",
      "Odd number present in 25 is  [1, 3, 5, 7, 9]\n"
     ]
    }
   ],
   "source": [
    "#WAP to print sum of even number and Odd numbers\n",
    "\n",
    "value = int(input(\"Enter you value :\"))\n",
    "#i = 1\n",
    "even = []\n",
    "odd = []\n",
    "for i in range(1,value):\n",
    "    if(i % 2 == 0):\n",
    "        even.append(i)\n",
    "    else:\n",
    "        odd.append(i)\n",
    "print(\"Even number present in 25 is \",even,\"\\nOdd number present in 25 is \",odd)\n",
    "    \n",
    "        "
   ]
  },
  {
   "cell_type": "code",
   "execution_count": 20,
   "id": "4eae9847",
   "metadata": {},
   "outputs": [
    {
     "name": "stdout",
     "output_type": "stream",
     "text": [
      "Enter your number: 10\n",
      "[2, 3, 5, 7]\n"
     ]
    }
   ],
   "source": [
    "#WAP for prime number uptp 100\n",
    "\n",
    "value = int(input(\"Enter your number: \"))\n",
    "n = 1\n",
    "myprime = []\n",
    "while n<=value:\n",
    "    i = 1 \n",
    "    count = 1\n",
    "    while (i<=n/2):\n",
    "        if(n%i==0):\n",
    "            count += 1\n",
    "        if count > 2:\n",
    "            break\n",
    "        i += 1\n",
    "    if count == 2:\n",
    "        myprime.append(n)\n",
    "    n +=1\n",
    "        \n",
    "print(myprime)\n"
   ]
  },
  {
   "cell_type": "code",
   "execution_count": 59,
   "id": "aaabc1ac",
   "metadata": {},
   "outputs": [
    {
     "name": "stdout",
     "output_type": "stream",
     "text": [
      "Enter your value: 6\n",
      "fibonacci series upto 6  term:  [1, 1, 2, 3, 5, 8]\n"
     ]
    }
   ],
   "source": [
    "#fibonacii\n",
    "\n",
    "val = int(input(\"Enter your value: \"))\n",
    "#print(type(val))\n",
    "#val = val + 1\n",
    "mylist = []\n",
    "f = 0\n",
    "#print(type(f))\n",
    "s = 1\n",
    "num = 0\n",
    "for i in range(0,val):\n",
    "    if i == 0:\n",
    "        num = f + s\n",
    "        mylist.append(num)\n",
    "    else:\n",
    "        num = f + s\n",
    "        f = s\n",
    "        s = num \n",
    "        mylist.append(num)\n",
    "print(\"fibonacci series upto\", val, \" term: \",mylist)\n",
    "    \n",
    "    \n",
    "    "
   ]
  },
  {
   "cell_type": "code",
   "execution_count": null,
   "id": "6bb49b61",
   "metadata": {},
   "outputs": [],
   "source": [
    "#calculator\n",
    "\n",
    "while n != 6:\n",
    "    a = int(input())\n",
    "    b = int(input())\n",
    "    if n == 1:\n",
    "        print(a + b)\n",
    "        break\n",
    "    elif n == 2:\n",
    "        print(a - b)\n",
    "        break\n",
    "    elif n == 3:\n",
    "        print(a * b)\n",
    "        break\n",
    "    elif n == 4:\n",
    "        print(a // b)\n",
    "        break\n",
    "    elif n == 5:\n",
    "        print(a % b)\n",
    "        break\n",
    "    else:\n",
    "        print(\"Invalid Operation\")\n",
    "        break"
   ]
  },
  {
   "cell_type": "code",
   "execution_count": 5,
   "id": "2d624908",
   "metadata": {},
   "outputs": [
    {
     "name": "stdout",
     "output_type": "stream",
     "text": [
      "4\n",
      "3\n",
      "3\n",
      "1\n",
      "2\n",
      "4\n",
      "3\n",
      "1\n",
      "6\n"
     ]
    }
   ],
   "source": [
    "# Write your code here calculator\n",
    "n = int(input())\n",
    "while n!=6:\n",
    "    if n>=1 and n<=5:\n",
    "        a = int(input())\n",
    "        b = int(input())\n",
    "        if n == 1:\n",
    "            print(a + b)\n",
    "        elif n == 2:\n",
    "            print(a - b)\n",
    "        elif n == 3:\n",
    "            print(a * b)\n",
    "        elif n == 4:\n",
    "            print(a // b)\n",
    "        elif n == 5:\n",
    "            print(a % b)\n",
    "        else:\n",
    "            print(\"Invalid Operation\")\n",
    "        n = int(input())"
   ]
  },
  {
   "cell_type": "code",
   "execution_count": null,
   "id": "e451627f",
   "metadata": {},
   "outputs": [],
   "source": [
    "# Write your code here calculator\n",
    "while True:\n",
    "    n = int(input())\n",
    "    if n == 1:\n",
    "        a = int(input())\n",
    "        b = int(input())\n",
    "        print(a + b)\n",
    "    elif n == 2:\n",
    "        a = int(input())\n",
    "        b = int(input())\n",
    "        print(a - b)\n",
    "    elif n == 3:\n",
    "        a = int(input())\n",
    "        b = int(input())\n",
    "        print(a * b)\n",
    "    elif n == 4:\n",
    "        a = int(input())\n",
    "        b = int(input())\n",
    "        print(a // b)\n",
    "    elif n == 5:\n",
    "        a = int(input())\n",
    "        b = int(input())\n",
    "        print(a % b)\n",
    "    elif n == 6:\n",
    "        break\n",
    "    else:\n",
    "        print(\"Invalid Operation\")"
   ]
  },
  {
   "cell_type": "code",
   "execution_count": 9,
   "id": "694f3175",
   "metadata": {},
   "outputs": [
    {
     "data": {
      "text/plain": [
       "4"
      ]
     },
     "execution_count": 9,
     "metadata": {},
     "output_type": "execute_result"
    }
   ],
   "source": [
    "1234%10"
   ]
  },
  {
   "cell_type": "code",
   "execution_count": 44,
   "id": "78a11e9e",
   "metadata": {},
   "outputs": [
    {
     "name": "stdout",
     "output_type": "stream",
     "text": [
      "1234\n",
      "<class 'str'>\n",
      "4321\n"
     ]
    }
   ],
   "source": [
    "n = int(input())\n",
    "w = n\n",
    "s = \"\"\n",
    "print(type(s))\n",
    "while n!= 0:\n",
    "    num = n%10\n",
    "    s = s + str(num)\n",
    "    #print(s)\n",
    "    n = n//10\n",
    "    #print(n)\n",
    "print(int(s))\n",
    "#s = int(s)\n"
   ]
  },
  {
   "cell_type": "code",
   "execution_count": 39,
   "id": "7a71d176",
   "metadata": {},
   "outputs": [
    {
     "name": "stdout",
     "output_type": "stream",
     "text": [
      "122222222222222222222222221\n",
      "122222222222222222222222221\n"
     ]
    },
    {
     "data": {
      "text/plain": [
       "int"
      ]
     },
     "execution_count": 39,
     "metadata": {},
     "output_type": "execute_result"
    }
   ],
   "source": [
    "n = input()\n",
    "n = n[::-1]\n",
    "print(n)\n",
    "s = int(n)\n",
    "type(s)"
   ]
  },
  {
   "cell_type": "code",
   "execution_count": 19,
   "id": "a153ee02",
   "metadata": {},
   "outputs": [
    {
     "data": {
      "text/plain": [
       "'n1'"
      ]
     },
     "execution_count": 19,
     "metadata": {},
     "output_type": "execute_result"
    }
   ],
   "source": [
    "\"n\"+str(1)"
   ]
  },
  {
   "cell_type": "code",
   "execution_count": 36,
   "id": "5293ca79",
   "metadata": {},
   "outputs": [
    {
     "name": "stdout",
     "output_type": "stream",
     "text": [
      "1 1\n"
     ]
    }
   ],
   "source": [
    "w,e = 1 , 1\n",
    "print(w,e)"
   ]
  },
  {
   "cell_type": "code",
   "execution_count": 47,
   "id": "c9a66bbc",
   "metadata": {},
   "outputs": [
    {
     "name": "stdout",
     "output_type": "stream",
     "text": [
      "121\n",
      "true\n"
     ]
    }
   ],
   "source": [
    "def checkPalindrome(num):\n",
    "#Implement Your Code Here\n",
    "    w = num\n",
    "    rev = \"\"\n",
    "    while num!=0:\n",
    "        n = num%10\n",
    "        rev = rev + str(n)\n",
    "        num = num//10\n",
    "    if w == int(rev):\n",
    "        return True\n",
    "    else:\n",
    "        return False\n",
    "\t\t\n",
    "num = int(input())\n",
    "isPalindrome = checkPalindrome(num)\n",
    "if(isPalindrome):\n",
    "\tprint('true')\n",
    "else:\n",
    "\tprint('false')"
   ]
  },
  {
   "cell_type": "code",
   "execution_count": 49,
   "id": "ef4af721",
   "metadata": {},
   "outputs": [
    {
     "name": "stdout",
     "output_type": "stream",
     "text": [
      "0 0\n"
     ]
    }
   ],
   "source": [
    "n = 1234\n",
    "even , odd = 0,0\n",
    "print(even,odd)"
   ]
  },
  {
   "cell_type": "code",
   "execution_count": 57,
   "id": "9544a6a5",
   "metadata": {},
   "outputs": [
    {
     "name": "stdout",
     "output_type": "stream",
     "text": [
      "0\n",
      "1\n",
      "2\n",
      "3\n",
      "4\n",
      "5\n"
     ]
    }
   ],
   "source": [
    "for i in range(6):\n",
    "    print(i)"
   ]
  },
  {
   "cell_type": "code",
   "execution_count": 3,
   "id": "8867d22f",
   "metadata": {},
   "outputs": [
    {
     "name": "stdout",
     "output_type": "stream",
     "text": [
      "5\n",
      "5\n",
      "4\n",
      "3\n",
      "2\n",
      "1\n"
     ]
    }
   ],
   "source": [
    "#print n to 1\n",
    "n = int(input())\n",
    "for i in range(n,0,-1):\n",
    "    print(i)"
   ]
  },
  {
   "cell_type": "code",
   "execution_count": 28,
   "id": "a6722220",
   "metadata": {},
   "outputs": [
    {
     "name": "stdout",
     "output_type": "stream",
     "text": [
      "10\n",
      "2\n",
      "3\n",
      "5\n",
      "7\n"
     ]
    }
   ],
   "source": [
    "#WAP to print prime number upto n by using for loop\n",
    "\n",
    "n = int(input())\n",
    "#flag = False\n",
    "for i in range(2,n):\n",
    "   # m = i//2\n",
    "    for j in range(2,i,1):\n",
    "        if i%j==0:\n",
    "            break\n",
    "    else:\n",
    "        print(i)\n",
    "\n",
    "        \n",
    "        "
   ]
  },
  {
   "cell_type": "code",
   "execution_count": 24,
   "id": "136ce820",
   "metadata": {},
   "outputs": [
    {
     "name": "stdout",
     "output_type": "stream",
     "text": [
      "10\n",
      "10 is not a prime number\n"
     ]
    }
   ],
   "source": [
    "num= int(input())\n",
    "flag = False\n",
    "if num > 1:\n",
    "  \n",
    "    for i in range(2, num):\n",
    "        if (num % i) == 0:\n",
    "         \n",
    "            flag = True\n",
    "          \n",
    "            break\n",
    "\n",
    "if flag:\n",
    "    print(num, \"is not a prime number\")\n",
    "else:\n",
    "    print(num, \"is a prime number\")"
   ]
  },
  {
   "cell_type": "code",
   "execution_count": 26,
   "id": "7fb9177e",
   "metadata": {},
   "outputs": [
    {
     "name": "stdout",
     "output_type": "stream",
     "text": [
      "10\n",
      "100\n",
      "11\n",
      "13\n",
      "17\n",
      "19\n",
      "23\n",
      "29\n",
      "31\n",
      "37\n",
      "41\n",
      "43\n",
      "47\n",
      "53\n",
      "59\n",
      "61\n",
      "67\n",
      "71\n",
      "73\n",
      "79\n",
      "83\n",
      "89\n",
      "97\n"
     ]
    }
   ],
   "source": [
    "lower_value = int(input ())  \n",
    "upper_value = int(input ())  \n",
    "for number in range (lower_value, upper_value + 1):  \n",
    "    if number > 1:  \n",
    "        for i in range (2, number):  \n",
    "            if (number % i) == 0:  \n",
    "                break  \n",
    "        else:  \n",
    "            print (number) "
   ]
  },
  {
   "cell_type": "code",
   "execution_count": null,
   "id": "c405296f",
   "metadata": {},
   "outputs": [],
   "source": []
  }
 ],
 "metadata": {
  "kernelspec": {
   "display_name": "Python 3 (ipykernel)",
   "language": "python",
   "name": "python3"
  },
  "language_info": {
   "codemirror_mode": {
    "name": "ipython",
    "version": 3
   },
   "file_extension": ".py",
   "mimetype": "text/x-python",
   "name": "python",
   "nbconvert_exporter": "python",
   "pygments_lexer": "ipython3",
   "version": "3.9.7"
  }
 },
 "nbformat": 4,
 "nbformat_minor": 5
}
